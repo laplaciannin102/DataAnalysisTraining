{
 "cells": [
  {
   "cell_type": "markdown",
   "id": "75e4dcce",
   "metadata": {},
   "source": [
    "# Load modules"
   ]
  },
  {
   "cell_type": "code",
   "execution_count": null,
   "id": "6f6e9a06",
   "metadata": {
    "ExecuteTime": {
     "end_time": "2024-08-30T20:56:42.677619Z",
     "start_time": "2024-08-30T20:56:42.333910Z"
    }
   },
   "outputs": [],
   "source": [
    "import sys, os\n",
    "import gc\n",
    "import matplotlib.pyplot as plt"
   ]
  },
  {
   "cell_type": "code",
   "execution_count": null,
   "id": "bae6c6fb",
   "metadata": {
    "ExecuteTime": {
     "end_time": "2024-08-30T20:56:42.743458Z",
     "start_time": "2024-08-30T20:56:42.681605Z"
    }
   },
   "outputs": [],
   "source": [
    "gc.collect()"
   ]
  },
  {
   "cell_type": "markdown",
   "id": "a5e7cc9d",
   "metadata": {},
   "source": [
    "# 不均衡データに対する対処"
   ]
  },
  {
   "cell_type": "markdown",
   "id": "88c07c84",
   "metadata": {},
   "source": [
    "## under sampling"
   ]
  },
  {
   "cell_type": "markdown",
   "id": "b16359a0",
   "metadata": {},
   "source": [
    "### データの作成"
   ]
  },
  {
   "cell_type": "code",
   "execution_count": null,
   "id": "78bdd2b0",
   "metadata": {
    "ExecuteTime": {
     "end_time": "2024-08-30T20:56:43.031507Z",
     "start_time": "2024-08-30T20:56:42.746445Z"
    }
   },
   "outputs": [],
   "source": [
    "# ----------------------------------------\n",
    "# Load modules\n",
    "# ----------------------------------------\n",
    "import numpy as np\n",
    "import pandas as pd\n",
    "\n",
    "# seed値の設定\n",
    "np.random.seed(57)\n",
    "\n",
    "\n",
    "# ----------------------------------------\n",
    "# sample dataを作成\n",
    "# ----------------------------------------\n",
    "# sample size\n",
    "# 負例\n",
    "y0_n_samples = 950\n",
    "\n",
    "# 正例\n",
    "y1_n_samples = 50\n",
    "\n",
    "# データ列を作成\n",
    "x0_arr = np.random.normal(0, 5, y0_n_samples)\n",
    "x1_arr = np.random.normal(5, 3, y1_n_samples)\n",
    "y0_arr = [0] * y0_n_samples\n",
    "y1_arr = [1] * y1_n_samples\n",
    "\n",
    "# 負例データ\n",
    "df0 = pd.DataFrame({'x': x0_arr, 'y': y0_arr})\n",
    "\n",
    "# 正例データ\n",
    "df1 = pd.DataFrame({'x': x1_arr, 'y': y1_arr})\n",
    "\n",
    "# dataを結合\n",
    "before_df = pd.concat(\n",
    "    [df0, df1],\n",
    "    axis=0\n",
    ").sample(frac=1).reset_index(drop=True)"
   ]
  },
  {
   "cell_type": "markdown",
   "id": "24d9dd2b",
   "metadata": {},
   "source": [
    "### under samplingの実行"
   ]
  },
  {
   "cell_type": "code",
   "execution_count": null,
   "id": "d185706f",
   "metadata": {
    "ExecuteTime": {
     "end_time": "2024-08-30T20:56:43.055073Z",
     "start_time": "2024-08-30T20:56:43.036556Z"
    }
   },
   "outputs": [],
   "source": [
    "print('*' * 20)\n",
    "print('before')\n",
    "\n",
    "# shapeを確認\n",
    "print('shape:', before_df.shape)\n",
    "\n",
    "# yの比率を確認\n",
    "print('yの比率:')\n",
    "print(before_df['y'].value_counts())\n",
    "print('*' * 20 + '\\n')\n",
    "\n",
    "# under samplingを実行\n",
    "# 比率\n",
    "frac = len(df1) / len(df0)\n",
    "print('frac:', frac)\n",
    "df0 = df0.sample(frac=frac)\n",
    "after_df = pd.concat([df0, df1], axis=0).reset_index(drop=True)\n",
    "\n",
    "print('*' * 20)\n",
    "print('after')\n",
    "\n",
    "# shapeを確認\n",
    "print('shape:', after_df.shape)\n",
    "\n",
    "# yの比率を確認\n",
    "print('yの比率:')\n",
    "print(after_df['y'].value_counts())\n",
    "print('*' * 20)"
   ]
  },
  {
   "cell_type": "code",
   "execution_count": null,
   "id": "c091bbdc",
   "metadata": {},
   "outputs": [],
   "source": []
  },
  {
   "cell_type": "markdown",
   "id": "f1651b31",
   "metadata": {},
   "source": [
    "## over sampling"
   ]
  },
  {
   "cell_type": "markdown",
   "id": "04ac7205",
   "metadata": {},
   "source": [
    "### データの作成"
   ]
  },
  {
   "cell_type": "code",
   "execution_count": null,
   "id": "cbfcd2f3",
   "metadata": {
    "ExecuteTime": {
     "end_time": "2024-08-30T20:56:43.733116Z",
     "start_time": "2024-08-30T20:56:43.057062Z"
    }
   },
   "outputs": [],
   "source": [
    "# ----------------------------------------\n",
    "# Load modules\n",
    "# ----------------------------------------\n",
    "import numpy as np\n",
    "import pandas as pd\n",
    "\n",
    "# over samplingライブラリ\n",
    "from imblearn.over_sampling import SMOTE\n",
    "\n",
    "# seed値の設定\n",
    "np.random.seed(57)\n",
    "\n",
    "\n",
    "# ----------------------------------------\n",
    "# sample dataを作成\n",
    "# ----------------------------------------\n",
    "# sample size\n",
    "# 負例\n",
    "y0_n_samples = 950\n",
    "\n",
    "# 正例\n",
    "y1_n_samples = 50\n",
    "\n",
    "# データ列を作成\n",
    "x0_arr = np.random.normal(0, 5, y0_n_samples)\n",
    "x1_arr = np.random.normal(5, 3, y1_n_samples)\n",
    "y0_arr = [0] * y0_n_samples\n",
    "y1_arr = [1] * y1_n_samples\n",
    "\n",
    "# 負例データ\n",
    "df0 = pd.DataFrame({'x': x0_arr, 'y': y0_arr})\n",
    "\n",
    "# 正例データ\n",
    "df1 = pd.DataFrame({'x': x1_arr, 'y': y1_arr})\n",
    "\n",
    "# dataを結合\n",
    "before_df = pd.concat(\n",
    "    [df0, df1],\n",
    "    axis=0\n",
    ").sample(frac=1).reset_index(drop=True)"
   ]
  },
  {
   "cell_type": "markdown",
   "id": "33bc3eff",
   "metadata": {},
   "source": [
    "### 説明変数分布の確認"
   ]
  },
  {
   "cell_type": "code",
   "execution_count": null,
   "id": "7030b765",
   "metadata": {
    "ExecuteTime": {
     "end_time": "2024-08-30T20:56:43.898753Z",
     "start_time": "2024-08-30T20:56:43.735110Z"
    }
   },
   "outputs": [],
   "source": [
    "before_df['x'].hist(bins=20)"
   ]
  },
  {
   "cell_type": "code",
   "execution_count": null,
   "id": "f0e2cd95",
   "metadata": {
    "ExecuteTime": {
     "end_time": "2024-08-30T20:56:44.014471Z",
     "start_time": "2024-08-30T20:56:43.900740Z"
    }
   },
   "outputs": [],
   "source": [
    "df0['x'].hist(bins=10)"
   ]
  },
  {
   "cell_type": "code",
   "execution_count": null,
   "id": "5611a4dd",
   "metadata": {
    "ExecuteTime": {
     "end_time": "2024-08-30T20:56:44.128056Z",
     "start_time": "2024-08-30T20:56:44.015463Z"
    }
   },
   "outputs": [],
   "source": [
    "df1['x'].hist(bins=10)"
   ]
  },
  {
   "cell_type": "markdown",
   "id": "a395ece7",
   "metadata": {},
   "source": [
    "### over samplingの実行"
   ]
  },
  {
   "cell_type": "code",
   "execution_count": null,
   "id": "41f172c5",
   "metadata": {
    "ExecuteTime": {
     "end_time": "2024-08-30T20:56:44.133042Z",
     "start_time": "2024-08-30T20:56:44.129051Z"
    }
   },
   "outputs": [],
   "source": [
    "# ----------------------------------------\n",
    "# Load modules\n",
    "# ----------------------------------------\n",
    "import numpy as np\n",
    "import pandas as pd\n",
    "\n",
    "# over samplingライブラリ\n",
    "from imblearn.over_sampling import SMOTE"
   ]
  },
  {
   "cell_type": "code",
   "execution_count": null,
   "id": "b22c8bdf",
   "metadata": {
    "ExecuteTime": {
     "end_time": "2024-08-30T20:56:44.163895Z",
     "start_time": "2024-08-30T20:56:44.136033Z"
    },
    "scrolled": true
   },
   "outputs": [],
   "source": [
    "print('*' * 20)\n",
    "print('before')\n",
    "\n",
    "# shapeを確認\n",
    "print('shape:', before_df.shape)\n",
    "\n",
    "# yの比率を確認\n",
    "print('yの比率:')\n",
    "print(before_df['y'].value_counts())\n",
    "print('*' * 20 + '\\n')\n",
    "\n",
    "# under samplingを実行\n",
    "# 比率\n",
    "frac = len(df1) / len(df0)\n",
    "print('frac:', frac)\n",
    "sm = SMOTE(random_state=57)\n",
    "after_x_arr, after_y_arr = sm.fit_resample(\n",
    "    before_df[['x']],\n",
    "    before_df['y']\n",
    ")\n",
    "after_df = pd.DataFrame({\n",
    "    'x': after_x_arr.values.T[0],\n",
    "    'y': after_y_arr\n",
    "})\n",
    "\n",
    "print('*' * 20)\n",
    "print('after')\n",
    "\n",
    "# shapeを確認\n",
    "print('shape:', after_df.shape)\n",
    "\n",
    "# yの比率を確認\n",
    "print('yの比率:')\n",
    "print(after_df['y'].value_counts())\n",
    "print('*' * 20)"
   ]
  },
  {
   "cell_type": "markdown",
   "id": "8891f1d0",
   "metadata": {},
   "source": [
    "### 説明変数分布の確認"
   ]
  },
  {
   "cell_type": "code",
   "execution_count": null,
   "id": "4a8d9a22",
   "metadata": {
    "ExecuteTime": {
     "end_time": "2024-08-30T20:56:44.169774Z",
     "start_time": "2024-08-30T20:56:44.164890Z"
    }
   },
   "outputs": [],
   "source": [
    "after_df0 = after_df[after_df['y']==0]\n",
    "after_df1 = after_df[after_df['y']==1]"
   ]
  },
  {
   "cell_type": "code",
   "execution_count": null,
   "id": "270e93ce",
   "metadata": {
    "ExecuteTime": {
     "end_time": "2024-08-30T20:56:44.419735Z",
     "start_time": "2024-08-30T20:56:44.170765Z"
    }
   },
   "outputs": [],
   "source": [
    "after_df['x'].hist(bins=20)"
   ]
  },
  {
   "cell_type": "code",
   "execution_count": null,
   "id": "f8c7f200",
   "metadata": {
    "ExecuteTime": {
     "end_time": "2024-08-30T20:56:44.530023Z",
     "start_time": "2024-08-30T20:56:44.420728Z"
    }
   },
   "outputs": [],
   "source": [
    "after_df0['x'].hist(bins=10)"
   ]
  },
  {
   "cell_type": "code",
   "execution_count": null,
   "id": "a7914259",
   "metadata": {
    "ExecuteTime": {
     "end_time": "2024-08-30T20:56:44.678912Z",
     "start_time": "2024-08-30T20:56:44.532016Z"
    }
   },
   "outputs": [],
   "source": [
    "after_df1['x'].hist(bins=10)"
   ]
  },
  {
   "cell_type": "code",
   "execution_count": null,
   "id": "e3fe8397",
   "metadata": {},
   "outputs": [],
   "source": []
  }
 ],
 "metadata": {
  "kernelspec": {
   "display_name": "Python 3 (ipykernel)",
   "language": "python",
   "name": "python3"
  },
  "language_info": {
   "codemirror_mode": {
    "name": "ipython",
    "version": 3
   },
   "file_extension": ".py",
   "mimetype": "text/x-python",
   "name": "python",
   "nbconvert_exporter": "python",
   "pygments_lexer": "ipython3",
   "version": "3.11.5"
  },
  "toc": {
   "base_numbering": 1,
   "nav_menu": {},
   "number_sections": true,
   "sideBar": true,
   "skip_h1_title": false,
   "title_cell": "Table of Contents",
   "title_sidebar": "Contents",
   "toc_cell": false,
   "toc_position": {
    "height": "calc(100% - 180px)",
    "left": "10px",
    "top": "150px",
    "width": "167px"
   },
   "toc_section_display": true,
   "toc_window_display": true
  },
  "varInspector": {
   "cols": {
    "lenName": 16,
    "lenType": 16,
    "lenVar": 40
   },
   "kernels_config": {
    "python": {
     "delete_cmd_postfix": "",
     "delete_cmd_prefix": "del ",
     "library": "var_list.py",
     "varRefreshCmd": "print(var_dic_list())"
    },
    "r": {
     "delete_cmd_postfix": ") ",
     "delete_cmd_prefix": "rm(",
     "library": "var_list.r",
     "varRefreshCmd": "cat(var_dic_list()) "
    }
   },
   "types_to_exclude": [
    "module",
    "function",
    "builtin_function_or_method",
    "instance",
    "_Feature"
   ],
   "window_display": false
  }
 },
 "nbformat": 4,
 "nbformat_minor": 5
}
