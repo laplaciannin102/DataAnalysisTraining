{
 "cells": [
  {
   "cell_type": "markdown",
   "metadata": {},
   "source": [
    "# データ分析とモデル作成sample\n",
    "\n",
    "## 内容\n",
    "\n",
    "- タイタニックのデータを使用して，データ分析とモデル作成を行う\n",
    "\n",
    "### 各カラムの意味\n",
    "\n",
    "1. **survived**: 乗客が生存したかどうか（0 = 死亡, 1 = 生存）。\n",
    "2. **pclass**: 乗客のチケットクラス（1 = 1等, 2 = 2等, 3 = 3等）。\n",
    "3. **sex**: 乗客の性別（male = 男性, female = 女性）。\n",
    "4. **age**: 乗客の年齢。NaNの値も含まれ、年齢が不明な場合があります。\n",
    "5. **sibsp**: 兄弟姉妹または配偶者の数。乗船した兄弟姉妹または配偶者の数を示します。\n",
    "6. **parch**: 両親または子供の数。乗船した親または子供の数を示します。\n",
    "7. **fare**: 乗船料金。乗客が支払った運賃を表します。\n",
    "8. **embarked**: 乗船港（C = Cherbourg, Q = Queenstown, S = Southampton）。\n",
    "9. **class**: チケットのクラスを文字列で示したもの（'First', 'Second', 'Third'）。\n",
    "10. **who**: 乗客のカテゴリー（'man', 'woman', 'child'）。\n",
    "11. **adult_male**: 乗客が成人男性かどうか（True = 成人男性, False = それ以外）。\n",
    "12. **deck**: 乗客が乗っていたデッキ（甲板）のレベル。NaNの値も多く含まれます。\n",
    "13. **embark_town**: 乗船した港の町（'Cherbourg', 'Queenstown', 'Southampton'）。\n",
    "14. **alive**: 生存か死亡かを文字列で示したもの（'yes' = 生存, 'no' = 死亡）。\n",
    "15. **alone**: 乗客が単独で乗船したかどうか（True = 単独, False = 家族や他の人と一緒）。"
   ]
  },
  {
   "cell_type": "code",
   "execution_count": null,
   "metadata": {},
   "outputs": [],
   "source": []
  },
  {
   "cell_type": "markdown",
   "metadata": {},
   "source": [
    "# Load modules\n",
    "- moduleのloadを行う."
   ]
  },
  {
   "cell_type": "code",
   "execution_count": null,
   "metadata": {
    "ExecuteTime": {
     "end_time": "2024-08-30T22:48:00.369805Z",
     "start_time": "2024-08-30T22:47:58.964291Z"
    }
   },
   "outputs": [],
   "source": [
    "# ライブラリ読み込み\n",
    "import sys, os\n",
    "import time\n",
    "import gc\n",
    "from datetime import datetime as dt\n",
    "import numpy as np\n",
    "import pandas as pd\n",
    "import random\n",
    "import matplotlib.pyplot as plt\n",
    "import japanize_matplotlib\n",
    "\n",
    "import joblib\n",
    "import re # 正規表現\n",
    "\n",
    "import seaborn as sns\n",
    "\n",
    "from sklearn.model_selection import train_test_split\n",
    "# from sklearn.model_selection import GridSearchCV\n",
    "\n",
    "# 評価関数\n",
    "from sklearn.metrics import confusion_matrix\n",
    "from sklearn.metrics import accuracy_score\n",
    "from sklearn.metrics import f1_score\n",
    "from sklearn.metrics import precision_score\n",
    "from sklearn.metrics import recall_score\n",
    "from sklearn.metrics import roc_auc_score"
   ]
  },
  {
   "cell_type": "code",
   "execution_count": null,
   "metadata": {
    "ExecuteTime": {
     "end_time": "2024-08-30T22:48:01.786519Z",
     "start_time": "2024-08-30T22:48:00.371797Z"
    }
   },
   "outputs": [],
   "source": [
    "# LightGBM\n",
    "import lightgbm as lgb\n",
    "\n",
    "# optunaによるLightGBM\n",
    "import optuna.integration.lightgbm as optuna_lgb\n",
    "\n",
    "# SHAP\n",
    "import shap"
   ]
  },
  {
   "cell_type": "code",
   "execution_count": null,
   "metadata": {
    "ExecuteTime": {
     "end_time": "2024-08-30T22:48:01.930208Z",
     "start_time": "2024-08-30T22:48:01.787487Z"
    }
   },
   "outputs": [],
   "source": [
    "gc.collect()"
   ]
  },
  {
   "cell_type": "markdown",
   "metadata": {},
   "source": [
    "# Configure"
   ]
  },
  {
   "cell_type": "markdown",
   "metadata": {},
   "source": [
    "## pandas.DataFrameの表示行数・列数を変更"
   ]
  },
  {
   "cell_type": "code",
   "execution_count": null,
   "metadata": {
    "ExecuteTime": {
     "end_time": "2024-08-30T22:48:01.938758Z",
     "start_time": "2024-08-30T22:48:01.935165Z"
    }
   },
   "outputs": [],
   "source": [
    "pd.set_option('display.max_rows', 100)\n",
    "pd.set_option('display.max_columns', 100)"
   ]
  },
  {
   "cell_type": "markdown",
   "metadata": {},
   "source": [
    "## warningの表示を削除"
   ]
  },
  {
   "cell_type": "code",
   "execution_count": null,
   "metadata": {
    "ExecuteTime": {
     "end_time": "2024-08-30T22:48:01.947602Z",
     "start_time": "2024-08-30T22:48:01.941747Z"
    }
   },
   "outputs": [],
   "source": [
    "# warningの削除\n",
    "import warnings\n",
    "warnings.filterwarnings('ignore')"
   ]
  },
  {
   "cell_type": "markdown",
   "metadata": {},
   "source": [
    "## random seed\n",
    "- random系moduleのseed値を設定する."
   ]
  },
  {
   "cell_type": "code",
   "execution_count": null,
   "metadata": {
    "ExecuteTime": {
     "end_time": "2024-08-30T22:48:01.956482Z",
     "start_time": "2024-08-30T22:48:01.950591Z"
    }
   },
   "outputs": [],
   "source": [
    "# random系moduleのseed値を設定\n",
    "random.seed(57)\n",
    "np.random.seed(57)"
   ]
  },
  {
   "cell_type": "code",
   "execution_count": null,
   "metadata": {},
   "outputs": [],
   "source": []
  },
  {
   "cell_type": "markdown",
   "metadata": {},
   "source": [
    "# Constants"
   ]
  },
  {
   "cell_type": "markdown",
   "metadata": {},
   "source": [
    "## date"
   ]
  },
  {
   "cell_type": "code",
   "execution_count": null,
   "metadata": {
    "ExecuteTime": {
     "end_time": "2024-08-30T22:48:01.962382Z",
     "start_time": "2024-08-30T22:48:01.958475Z"
    }
   },
   "outputs": [],
   "source": [
    "today_dt = dt.today()\n",
    "today_str = dt.strftime(today_dt, '%Y%m%d')\n",
    "today_str"
   ]
  },
  {
   "cell_type": "code",
   "execution_count": null,
   "metadata": {},
   "outputs": [],
   "source": []
  },
  {
   "cell_type": "markdown",
   "metadata": {},
   "source": [
    "## paths"
   ]
  },
  {
   "cell_type": "code",
   "execution_count": null,
   "metadata": {
    "ExecuteTime": {
     "end_time": "2024-08-30T22:48:01.967436Z",
     "start_time": "2024-08-30T22:48:01.964372Z"
    }
   },
   "outputs": [],
   "source": [
    "input_dpath = '../input/'\n",
    "output_dpath = '../output/'"
   ]
  },
  {
   "cell_type": "code",
   "execution_count": null,
   "metadata": {},
   "outputs": [],
   "source": []
  },
  {
   "cell_type": "markdown",
   "metadata": {},
   "source": [
    "# Functions"
   ]
  },
  {
   "cell_type": "code",
   "execution_count": null,
   "metadata": {
    "ExecuteTime": {
     "end_time": "2024-08-30T22:48:01.973586Z",
     "start_time": "2024-08-30T22:48:01.968430Z"
    }
   },
   "outputs": [],
   "source": [
    "def logistic(x):\n",
    "    \"\"\"\n",
    "    logistic関数を計算します。\n",
    "\n",
    "    logistic関数は、ロジスティック回帰などで使用されるシグモイド関数であり、\n",
    "    入力の実数値を0から1の範囲の値にマッピングします。\n",
    "\n",
    "    パラメータ\n",
    "    ----------\n",
    "    x : float または np.ndarray\n",
    "        入力値。実数または実数の配列。\n",
    "\n",
    "    戻り値\n",
    "    -------\n",
    "    float または np.ndarray\n",
    "        入力xに対するlogistic関数の値。\n",
    "    \"\"\"\n",
    "    return 1 / (1 + np.exp(-x))"
   ]
  },
  {
   "cell_type": "code",
   "execution_count": null,
   "metadata": {
    "ExecuteTime": {
     "end_time": "2024-08-30T22:48:01.980282Z",
     "start_time": "2024-08-30T22:48:01.976570Z"
    }
   },
   "outputs": [],
   "source": [
    "def logit(p):\n",
    "    \"\"\"\n",
    "    logit関数を計算します。\n",
    "\n",
    "    logit関数は、ロジスティック関数（シグモイド関数）の逆関数であり、確率をオッズ比に変換します。\n",
    "    確率pは0から1の範囲内である必要があります。\n",
    "\n",
    "    パラメータ\n",
    "    ----------\n",
    "    p : float または np.ndarray\n",
    "        確率値（0から1の範囲内）。\n",
    "\n",
    "    戻り値\n",
    "    -------\n",
    "    float または np.ndarray\n",
    "        入力pに対するlogit値。\n",
    "    \"\"\"\n",
    "    # 安全性チェック：0と1の値が入力されると、logが無限大になるため小さな値を追加\n",
    "    p = np.clip(p, 1e-15, 1 - 1e-15)\n",
    "    \n",
    "    return np.log(p / (1 - p))\n"
   ]
  },
  {
   "cell_type": "code",
   "execution_count": null,
   "metadata": {},
   "outputs": [],
   "source": []
  },
  {
   "cell_type": "markdown",
   "metadata": {},
   "source": [
    "# Load data"
   ]
  },
  {
   "cell_type": "markdown",
   "metadata": {},
   "source": [
    "## 前処理済み中間データ"
   ]
  },
  {
   "cell_type": "code",
   "execution_count": null,
   "metadata": {
    "ExecuteTime": {
     "end_time": "2024-08-30T22:48:01.990103Z",
     "start_time": "2024-08-30T22:48:01.982272Z"
    }
   },
   "outputs": [],
   "source": [
    "# 前処理済み中間データのdictを読み取る\n",
    "pp_data_dict = joblib.load(f'{input_dpath}pp_titanic_data_dict.pkl3')"
   ]
  },
  {
   "cell_type": "code",
   "execution_count": null,
   "metadata": {
    "ExecuteTime": {
     "end_time": "2024-08-30T22:48:01.997993Z",
     "start_time": "2024-08-30T22:48:01.991097Z"
    }
   },
   "outputs": [],
   "source": [
    "type(pp_data_dict)"
   ]
  },
  {
   "cell_type": "markdown",
   "metadata": {},
   "source": [
    "### dictからデータを読み取る"
   ]
  },
  {
   "cell_type": "code",
   "execution_count": null,
   "metadata": {
    "ExecuteTime": {
     "end_time": "2024-08-30T22:48:02.003243Z",
     "start_time": "2024-08-30T22:48:01.999981Z"
    }
   },
   "outputs": [],
   "source": [
    "train_x = pp_data_dict['train_x']\n",
    "train_y = pp_data_dict['train_y']\n",
    "test_x = pp_data_dict['test_x']\n",
    "test_y = pp_data_dict['test_y']"
   ]
  },
  {
   "cell_type": "code",
   "execution_count": null,
   "metadata": {},
   "outputs": [],
   "source": []
  },
  {
   "cell_type": "code",
   "execution_count": null,
   "metadata": {
    "ExecuteTime": {
     "end_time": "2024-08-30T22:48:02.010553Z",
     "start_time": "2024-08-30T22:48:02.004235Z"
    }
   },
   "outputs": [],
   "source": [
    "# shapeの確認\n",
    "train_x.shape, train_y.shape, test_x.shape, test_x.shape"
   ]
  },
  {
   "cell_type": "code",
   "execution_count": null,
   "metadata": {},
   "outputs": [],
   "source": []
  },
  {
   "cell_type": "markdown",
   "metadata": {},
   "source": [
    "# LightGBM"
   ]
  },
  {
   "cell_type": "markdown",
   "metadata": {},
   "source": [
    "## set vars"
   ]
  },
  {
   "cell_type": "code",
   "execution_count": null,
   "metadata": {
    "ExecuteTime": {
     "end_time": "2024-08-30T22:48:02.016015Z",
     "start_time": "2024-08-30T22:48:02.012544Z"
    }
   },
   "outputs": [],
   "source": [
    "# 説明変数\n",
    "features = train_x.columns.tolist()\n",
    "\n",
    "# 目的変数\n",
    "target = 'survived'"
   ]
  },
  {
   "cell_type": "code",
   "execution_count": null,
   "metadata": {
    "ExecuteTime": {
     "end_time": "2024-08-30T22:48:02.021446Z",
     "start_time": "2024-08-30T22:48:02.017007Z"
    }
   },
   "outputs": [],
   "source": [
    "len(features)"
   ]
  },
  {
   "cell_type": "code",
   "execution_count": null,
   "metadata": {
    "ExecuteTime": {
     "end_time": "2024-08-30T22:48:02.026688Z",
     "start_time": "2024-08-30T22:48:02.022440Z"
    }
   },
   "outputs": [],
   "source": [
    "features[:5]"
   ]
  },
  {
   "cell_type": "code",
   "execution_count": null,
   "metadata": {
    "ExecuteTime": {
     "end_time": "2024-08-30T22:48:02.032238Z",
     "start_time": "2024-08-30T22:48:02.027683Z"
    }
   },
   "outputs": [],
   "source": [
    "features"
   ]
  },
  {
   "cell_type": "code",
   "execution_count": null,
   "metadata": {},
   "outputs": [],
   "source": []
  },
  {
   "cell_type": "markdown",
   "metadata": {},
   "source": [
    "## 一部前処理"
   ]
  },
  {
   "cell_type": "markdown",
   "metadata": {},
   "source": [
    "### ハイパーパラメータ用にデータを分ける"
   ]
  },
  {
   "cell_type": "code",
   "execution_count": null,
   "metadata": {
    "ExecuteTime": {
     "end_time": "2024-08-30T22:48:02.039521Z",
     "start_time": "2024-08-30T22:48:02.034229Z"
    }
   },
   "outputs": [],
   "source": [
    "# 7:3の割合でホールドアウト法を行う.\n",
    "train_train_x, train_valid_x, train_train_y, train_valid_y = train_test_split(\n",
    "    train_x, train_y,\n",
    "    test_size=0.3,\n",
    "    random_state=57,\n",
    "    shuffle=True\n",
    ")"
   ]
  },
  {
   "cell_type": "code",
   "execution_count": null,
   "metadata": {
    "ExecuteTime": {
     "end_time": "2024-08-30T22:48:02.045063Z",
     "start_time": "2024-08-30T22:48:02.041511Z"
    }
   },
   "outputs": [],
   "source": [
    "train_train_x.shape, train_train_y.shape, train_valid_x.shape, train_valid_y.shape"
   ]
  },
  {
   "cell_type": "code",
   "execution_count": null,
   "metadata": {},
   "outputs": [],
   "source": []
  },
  {
   "cell_type": "markdown",
   "metadata": {},
   "source": [
    "### LightGBM向けにデータセットを作成する"
   ]
  },
  {
   "cell_type": "code",
   "execution_count": null,
   "metadata": {
    "ExecuteTime": {
     "end_time": "2024-08-30T22:48:02.050020Z",
     "start_time": "2024-08-30T22:48:02.046056Z"
    }
   },
   "outputs": [],
   "source": [
    "# LightGBM用データセットを生成する\n",
    "lgb_train_train_dataset = lgb.Dataset(\n",
    "    train_train_x,\n",
    "    train_train_y\n",
    ")\n",
    "lgb_train_valid_dataset = lgb.Dataset(\n",
    "    train_valid_x,\n",
    "    train_valid_y,\n",
    "    reference=lgb_train_train_dataset\n",
    ")"
   ]
  },
  {
   "cell_type": "code",
   "execution_count": null,
   "metadata": {
    "ExecuteTime": {
     "end_time": "2024-08-30T22:48:02.056186Z",
     "start_time": "2024-08-30T22:48:02.051015Z"
    }
   },
   "outputs": [],
   "source": [
    "# LightGBM用データセットを生成する\n",
    "lgb_train_dataset = lgb.Dataset(\n",
    "    train_x,\n",
    "    train_y\n",
    ")"
   ]
  },
  {
   "cell_type": "markdown",
   "metadata": {},
   "source": [
    "## Optunaによるハイパーパラメータチューニング"
   ]
  },
  {
   "cell_type": "code",
   "execution_count": null,
   "metadata": {
    "ExecuteTime": {
     "end_time": "2024-08-30T22:48:02.060718Z",
     "start_time": "2024-08-30T22:48:02.057172Z"
    }
   },
   "outputs": [],
   "source": [
    "# ハイパーパラメータ\n",
    "lgbc_params = {\n",
    "    # 問題設定: 2値分類\n",
    "    'objective': 'binary',\n",
    "    \n",
    "    # 評価関数: AUC\n",
    "    'metric': 'auc',\n",
    "    'verbosity': -1,\n",
    "}"
   ]
  },
  {
   "cell_type": "code",
   "execution_count": null,
   "metadata": {
    "ExecuteTime": {
     "end_time": "2024-08-30T22:48:04.890075Z",
     "start_time": "2024-08-30T22:48:02.061711Z"
    },
    "scrolled": true
   },
   "outputs": [],
   "source": [
    "# モデルの学習を行う.\n",
    "optuna_lgbc = optuna_lgb.train(\n",
    "    lgbc_params, # ハイパーパラメータ\n",
    "    train_set=lgb_train_train_dataset, # 学習データ\n",
    "    num_boost_round=100, # boostingを行う回数\n",
    "    valid_sets=lgb_train_valid_dataset, # 検証データ\n",
    "    verbosity=20 # boosting20回に1回結果出力\n",
    ")"
   ]
  },
  {
   "cell_type": "code",
   "execution_count": null,
   "metadata": {
    "ExecuteTime": {
     "end_time": "2024-08-30T22:48:04.895586Z",
     "start_time": "2024-08-30T22:48:04.891068Z"
    }
   },
   "outputs": [],
   "source": [
    "# 最適なパラメータの確認\n",
    "best_lgbc_params = optuna_lgbc.params\n",
    "best_lgbc_params"
   ]
  },
  {
   "cell_type": "code",
   "execution_count": null,
   "metadata": {},
   "outputs": [],
   "source": []
  },
  {
   "cell_type": "markdown",
   "metadata": {},
   "source": [
    "## create model"
   ]
  },
  {
   "cell_type": "code",
   "execution_count": null,
   "metadata": {
    "ExecuteTime": {
     "end_time": "2024-08-30T22:48:04.931729Z",
     "start_time": "2024-08-30T22:48:04.896580Z"
    }
   },
   "outputs": [],
   "source": [
    "# モデルの学習を行う.\n",
    "lgbc = lgb.train(\n",
    "    best_lgbc_params, # 最適なハイパーパラメータ\n",
    "    train_set=lgb_train_dataset, # 学習データ\n",
    "    num_boost_round=100 # boostingを行う回数\n",
    ")"
   ]
  },
  {
   "cell_type": "code",
   "execution_count": null,
   "metadata": {},
   "outputs": [],
   "source": []
  },
  {
   "cell_type": "markdown",
   "metadata": {},
   "source": [
    "## 精度評価"
   ]
  },
  {
   "cell_type": "markdown",
   "metadata": {},
   "source": [
    "### train"
   ]
  },
  {
   "cell_type": "code",
   "execution_count": null,
   "metadata": {
    "ExecuteTime": {
     "end_time": "2024-08-30T22:48:04.938207Z",
     "start_time": "2024-08-30T22:48:04.932723Z"
    }
   },
   "outputs": [],
   "source": [
    "# train予測\n",
    "# lgbm本家ではpredictが確率になっている\n",
    "lgbc_prob_train_y = lgbc.predict(train_x)\n",
    "\n",
    "# 確率が0.5以上の時1と判定する.\n",
    "lgbc_pred_train_y = np.where(\n",
    "    lgbc_prob_train_y >= 0.5,\n",
    "    1,\n",
    "    0\n",
    ")"
   ]
  },
  {
   "cell_type": "code",
   "execution_count": null,
   "metadata": {
    "ExecuteTime": {
     "end_time": "2024-08-30T22:48:04.955158Z",
     "start_time": "2024-08-30T22:48:04.944188Z"
    }
   },
   "outputs": [],
   "source": [
    "lgbc_train_valid_df = pd.DataFrame(\n",
    "    {\n",
    "        'prob_y': lgbc_prob_train_y,\n",
    "        'pred_y': lgbc_pred_train_y,\n",
    "        target: train_y\n",
    "    }\n",
    ")\n",
    "lgbc_train_valid_df.head()"
   ]
  },
  {
   "cell_type": "code",
   "execution_count": null,
   "metadata": {
    "ExecuteTime": {
     "end_time": "2024-08-30T22:48:04.963058Z",
     "start_time": "2024-08-30T22:48:04.956156Z"
    }
   },
   "outputs": [],
   "source": [
    "# accuracy\n",
    "lgbc_train_accuracy_val = accuracy_score(\n",
    "    lgbc_train_valid_df[target],\n",
    "    lgbc_train_valid_df['pred_y']\n",
    ")\n",
    "\n",
    "# auc\n",
    "lgbc_train_auc_val = roc_auc_score(\n",
    "    lgbc_train_valid_df[target],\n",
    "    lgbc_train_valid_df['prob_y']\n",
    ")\n",
    "\n",
    "print('accuracy:', lgbc_train_accuracy_val)\n",
    "print('auc:', lgbc_train_auc_val)"
   ]
  },
  {
   "cell_type": "code",
   "execution_count": null,
   "metadata": {},
   "outputs": [],
   "source": []
  },
  {
   "cell_type": "code",
   "execution_count": null,
   "metadata": {},
   "outputs": [],
   "source": []
  },
  {
   "cell_type": "markdown",
   "metadata": {},
   "source": [
    "### test"
   ]
  },
  {
   "cell_type": "code",
   "execution_count": null,
   "metadata": {
    "ExecuteTime": {
     "end_time": "2024-08-30T22:48:04.968458Z",
     "start_time": "2024-08-30T22:48:04.964052Z"
    }
   },
   "outputs": [],
   "source": [
    "# test予測\n",
    "# lgbm本家ではpredictが確率になっている\n",
    "lgbc_prob_test_y = lgbc.predict(test_x)\n",
    "\n",
    "# 確率が0.5以上の時1と判定する.\n",
    "lgbc_pred_test_y = np.where(\n",
    "    lgbc_prob_test_y >= 0.5,\n",
    "    1,\n",
    "    0\n",
    ")"
   ]
  },
  {
   "cell_type": "code",
   "execution_count": null,
   "metadata": {
    "ExecuteTime": {
     "end_time": "2024-08-30T22:48:04.977430Z",
     "start_time": "2024-08-30T22:48:04.969451Z"
    },
    "scrolled": true
   },
   "outputs": [],
   "source": [
    "lgbc_test_valid_df = pd.DataFrame(\n",
    "    {\n",
    "        'prob_y': lgbc_prob_test_y,\n",
    "        'pred_y': lgbc_pred_test_y,\n",
    "        target: test_y\n",
    "    }\n",
    ")\n",
    "lgbc_test_valid_df.head()"
   ]
  },
  {
   "cell_type": "code",
   "execution_count": null,
   "metadata": {
    "ExecuteTime": {
     "end_time": "2024-08-30T22:48:04.985917Z",
     "start_time": "2024-08-30T22:48:04.978427Z"
    },
    "scrolled": true
   },
   "outputs": [],
   "source": [
    "# accuracy\n",
    "lgbc_test_accuracy_val = accuracy_score(\n",
    "    lgbc_test_valid_df[target],\n",
    "    lgbc_test_valid_df['pred_y']\n",
    ")\n",
    "\n",
    "# auc\n",
    "lgbc_test_auc_val = roc_auc_score(\n",
    "    lgbc_test_valid_df[target],\n",
    "    lgbc_test_valid_df['prob_y']\n",
    ")\n",
    "\n",
    "print('accuracy:', lgbc_test_accuracy_val)\n",
    "print('auc:', lgbc_test_auc_val)"
   ]
  },
  {
   "cell_type": "code",
   "execution_count": null,
   "metadata": {},
   "outputs": [],
   "source": []
  },
  {
   "cell_type": "markdown",
   "metadata": {},
   "source": [
    "### 決定木・ランダムフォレストとの比較\n",
    "\n",
    "- 基本的にLightGBMが最も精度が良い"
   ]
  },
  {
   "cell_type": "raw",
   "metadata": {},
   "source": [
    "accuracy\n",
    "\n",
    "dtc train accuracy: 0.8717434869739479\n",
    "dtc test accuracy: 0.827906976744186\n",
    "============================================================\n",
    "rfc train accuracy: 0.8476953907815631\n",
    "rfc test accuracy: 0.8325581395348837\n",
    "\n",
    "auc\n",
    "\n",
    "dtc train auc: 0.9584924623115578\n",
    "dtc test auc: 0.852933356965615\n",
    "============================================================\n",
    "rfc train auc: 0.9144053601340033\n",
    "rfc test auc: 0.8937876639489543"
   ]
  },
  {
   "cell_type": "code",
   "execution_count": null,
   "metadata": {
    "ExecuteTime": {
     "end_time": "2024-08-30T22:48:04.990852Z",
     "start_time": "2024-08-30T22:48:04.987418Z"
    }
   },
   "outputs": [],
   "source": [
    "print('lgbc train accuracy:', lgbc_train_accuracy_val)\n",
    "print('lgbc test accuracy:', lgbc_test_accuracy_val)\n",
    "print('=' * 60)\n",
    "print('lgbc train auc:', lgbc_train_auc_val)\n",
    "print('lgbc test auc:', lgbc_test_auc_val)"
   ]
  },
  {
   "cell_type": "code",
   "execution_count": null,
   "metadata": {},
   "outputs": [],
   "source": []
  },
  {
   "cell_type": "code",
   "execution_count": null,
   "metadata": {},
   "outputs": [],
   "source": []
  },
  {
   "cell_type": "code",
   "execution_count": null,
   "metadata": {},
   "outputs": [],
   "source": []
  },
  {
   "cell_type": "markdown",
   "metadata": {},
   "source": [
    "# SHAP"
   ]
  },
  {
   "cell_type": "code",
   "execution_count": null,
   "metadata": {
    "ExecuteTime": {
     "end_time": "2024-08-30T22:48:05.008310Z",
     "start_time": "2024-08-30T22:48:04.991846Z"
    },
    "scrolled": true
   },
   "outputs": [],
   "source": [
    "# init javascript\n",
    "shap.initjs()"
   ]
  },
  {
   "cell_type": "markdown",
   "metadata": {},
   "source": [
    "## explainer作成"
   ]
  },
  {
   "cell_type": "code",
   "execution_count": null,
   "metadata": {
    "ExecuteTime": {
     "end_time": "2024-08-30T22:48:05.040896Z",
     "start_time": "2024-08-30T22:48:05.009304Z"
    }
   },
   "outputs": [],
   "source": [
    "# explainer作成\n",
    "explainer = shap.TreeExplainer(\n",
    "    model=lgbc,\n",
    "    # model_output='margin'\n",
    ")"
   ]
  },
  {
   "cell_type": "code",
   "execution_count": null,
   "metadata": {},
   "outputs": [],
   "source": []
  },
  {
   "cell_type": "markdown",
   "metadata": {},
   "source": [
    "## shap_values計算"
   ]
  },
  {
   "cell_type": "code",
   "execution_count": null,
   "metadata": {
    "ExecuteTime": {
     "end_time": "2024-08-30T22:48:05.052761Z",
     "start_time": "2024-08-30T22:48:05.041890Z"
    }
   },
   "outputs": [],
   "source": [
    "shap_values = explainer.shap_values(\n",
    "    train_x,\n",
    "    check_additivity=False\n",
    ")"
   ]
  },
  {
   "cell_type": "code",
   "execution_count": null,
   "metadata": {},
   "outputs": [],
   "source": []
  },
  {
   "cell_type": "markdown",
   "metadata": {},
   "source": [
    "## summary_plot"
   ]
  },
  {
   "cell_type": "code",
   "execution_count": null,
   "metadata": {
    "ExecuteTime": {
     "end_time": "2024-08-30T22:48:05.275042Z",
     "start_time": "2024-08-30T22:48:05.053755Z"
    },
    "scrolled": true
   },
   "outputs": [],
   "source": [
    "# summary plot(bar)\n",
    "shap.summary_plot(\n",
    "    shap_values,\n",
    "    train_x,\n",
    "    plot_type='bar'\n",
    ")"
   ]
  },
  {
   "cell_type": "code",
   "execution_count": null,
   "metadata": {
    "ExecuteTime": {
     "end_time": "2024-08-30T22:48:05.701781Z",
     "start_time": "2024-08-30T22:48:05.276039Z"
    },
    "scrolled": false
   },
   "outputs": [],
   "source": [
    "# summary plot\n",
    "shap.summary_plot(\n",
    "    shap_values,\n",
    "    train_x\n",
    ")"
   ]
  },
  {
   "cell_type": "code",
   "execution_count": null,
   "metadata": {},
   "outputs": [],
   "source": []
  },
  {
   "cell_type": "markdown",
   "metadata": {},
   "source": [
    "## dependence_plot"
   ]
  },
  {
   "cell_type": "code",
   "execution_count": null,
   "metadata": {
    "ExecuteTime": {
     "end_time": "2024-08-30T22:48:05.878905Z",
     "start_time": "2024-08-30T22:48:05.703771Z"
    }
   },
   "outputs": [],
   "source": [
    "fig, ax = plt.subplots(dpi=100)\n",
    "ax.grid(ls='--')\n",
    "\n",
    "# dependence\n",
    "shap.dependence_plot(\n",
    "    ind='fare',\n",
    "    shap_values=shap_values,\n",
    "    features=train_x,\n",
    "    feature_names=features,\n",
    "    ax=ax\n",
    ")"
   ]
  },
  {
   "cell_type": "code",
   "execution_count": null,
   "metadata": {
    "ExecuteTime": {
     "end_time": "2024-08-30T22:48:06.065921Z",
     "start_time": "2024-08-30T22:48:05.880889Z"
    }
   },
   "outputs": [],
   "source": [
    "fig, ax = plt.subplots(dpi=100)\n",
    "ax.grid(ls='--')\n",
    "\n",
    "# dependence\n",
    "shap.dependence_plot(\n",
    "    ind='age',\n",
    "    shap_values=shap_values,\n",
    "    features=train_x,\n",
    "    feature_names=features,\n",
    "    ax=ax\n",
    ")"
   ]
  },
  {
   "cell_type": "code",
   "execution_count": null,
   "metadata": {},
   "outputs": [],
   "source": []
  },
  {
   "cell_type": "markdown",
   "metadata": {},
   "source": [
    "## force_plot"
   ]
  },
  {
   "cell_type": "markdown",
   "metadata": {},
   "source": [
    "### idx:1"
   ]
  },
  {
   "cell_type": "code",
   "execution_count": null,
   "metadata": {
    "ExecuteTime": {
     "end_time": "2024-08-30T22:48:06.091084Z",
     "start_time": "2024-08-30T22:48:06.067437Z"
    },
    "scrolled": true
   },
   "outputs": [],
   "source": [
    "target_row_index = 1\n",
    "display(pd.DataFrame(train_x.iloc[target_row_index]).T)\n",
    "print('survived:', train_y.iloc[target_row_index])"
   ]
  },
  {
   "cell_type": "code",
   "execution_count": null,
   "metadata": {
    "ExecuteTime": {
     "end_time": "2024-08-30T22:48:06.096435Z",
     "start_time": "2024-08-30T22:48:06.092077Z"
    }
   },
   "outputs": [],
   "source": [
    "# force plot\n",
    "shap.force_plot(\n",
    "    base_value=explainer.expected_value,\n",
    "    shap_values=shap_values[target_row_index,:],\n",
    "    features=train_x.iloc[target_row_index,:],\n",
    "    feature_names=features\n",
    ")"
   ]
  },
  {
   "cell_type": "code",
   "execution_count": null,
   "metadata": {},
   "outputs": [],
   "source": []
  },
  {
   "cell_type": "markdown",
   "metadata": {},
   "source": [
    "## waterfall"
   ]
  },
  {
   "cell_type": "code",
   "execution_count": null,
   "metadata": {
    "ExecuteTime": {
     "end_time": "2024-08-30T22:48:06.131340Z",
     "start_time": "2024-08-30T22:48:06.097426Z"
    }
   },
   "outputs": [],
   "source": [
    "# waterfall用のexplainer\n",
    "explainer_waterfall = shap.TreeExplainer(model=lgbc)\n",
    "\n",
    "# .shap_values不使用\n",
    "shap_values_waterfall = explainer_waterfall(\n",
    "    train_x,\n",
    "    check_additivity=False\n",
    ")"
   ]
  },
  {
   "cell_type": "code",
   "execution_count": null,
   "metadata": {
    "ExecuteTime": {
     "end_time": "2024-08-30T22:48:06.165247Z",
     "start_time": "2024-08-30T22:48:06.133332Z"
    }
   },
   "outputs": [],
   "source": [
    "pd.concat([train_y, train_x], axis=1).reset_index(drop=True).head(10)"
   ]
  },
  {
   "cell_type": "code",
   "execution_count": null,
   "metadata": {
    "ExecuteTime": {
     "end_time": "2024-08-30T22:48:06.191181Z",
     "start_time": "2024-08-30T22:48:06.166244Z"
    }
   },
   "outputs": [],
   "source": [
    "pd.concat([train_y, train_x], axis=1).reset_index(drop=True).tail(10)"
   ]
  },
  {
   "cell_type": "markdown",
   "metadata": {},
   "source": [
    "### idx:1"
   ]
  },
  {
   "cell_type": "code",
   "execution_count": null,
   "metadata": {
    "ExecuteTime": {
     "end_time": "2024-08-30T22:48:06.222478Z",
     "start_time": "2024-08-30T22:48:06.192173Z"
    },
    "scrolled": true
   },
   "outputs": [],
   "source": [
    "target_row_index = 1\n",
    "display(pd.DataFrame(train_x.iloc[target_row_index]).T)\n",
    "print('survived:', train_y.iloc[target_row_index])"
   ]
  },
  {
   "cell_type": "code",
   "execution_count": null,
   "metadata": {
    "ExecuteTime": {
     "end_time": "2024-08-30T22:48:06.703778Z",
     "start_time": "2024-08-30T22:48:06.223470Z"
    },
    "scrolled": true
   },
   "outputs": [],
   "source": [
    "# 変数表示数\n",
    "max_display_num = 15\n",
    "\n",
    "# waterfall\n",
    "shap.waterfall_plot(\n",
    "    shap_values=shap_values_waterfall[target_row_index,:],\n",
    "    max_display=max_display_num,\n",
    "    show=True\n",
    ")"
   ]
  },
  {
   "cell_type": "code",
   "execution_count": null,
   "metadata": {
    "ExecuteTime": {
     "end_time": "2024-08-30T22:48:06.711160Z",
     "start_time": "2024-08-30T22:48:06.705771Z"
    }
   },
   "outputs": [],
   "source": [
    "temp_shap_values = shap_values_waterfall[target_row_index,:]\n",
    "temp_shap_values"
   ]
  },
  {
   "cell_type": "code",
   "execution_count": null,
   "metadata": {
    "ExecuteTime": {
     "end_time": "2024-08-30T22:48:06.718135Z",
     "start_time": "2024-08-30T22:48:06.712151Z"
    }
   },
   "outputs": [],
   "source": [
    "temp_shap_values.values.sum() + temp_shap_values.base_values"
   ]
  },
  {
   "cell_type": "code",
   "execution_count": null,
   "metadata": {},
   "outputs": [],
   "source": []
  },
  {
   "cell_type": "markdown",
   "metadata": {},
   "source": [
    "### idx:495"
   ]
  },
  {
   "cell_type": "code",
   "execution_count": null,
   "metadata": {
    "ExecuteTime": {
     "end_time": "2024-08-30T22:48:06.746046Z",
     "start_time": "2024-08-30T22:48:06.720130Z"
    },
    "scrolled": true
   },
   "outputs": [],
   "source": [
    "target_row_index = 495\n",
    "display(pd.DataFrame(train_x.iloc[target_row_index]).T)\n",
    "print('survived:', train_y.iloc[target_row_index])"
   ]
  },
  {
   "cell_type": "code",
   "execution_count": null,
   "metadata": {
    "ExecuteTime": {
     "end_time": "2024-08-30T22:48:07.149291Z",
     "start_time": "2024-08-30T22:48:06.748033Z"
    },
    "scrolled": true
   },
   "outputs": [],
   "source": [
    "# 変数表示数\n",
    "max_display_num = 15\n",
    "\n",
    "# waterfall\n",
    "shap.waterfall_plot(\n",
    "    shap_values=shap_values_waterfall[target_row_index,:],\n",
    "    max_display=max_display_num,\n",
    "    show=True\n",
    ")"
   ]
  },
  {
   "cell_type": "code",
   "execution_count": null,
   "metadata": {},
   "outputs": [],
   "source": []
  },
  {
   "cell_type": "code",
   "execution_count": null,
   "metadata": {
    "ExecuteTime": {
     "end_time": "2024-08-30T22:48:07.155235Z",
     "start_time": "2024-08-30T22:48:07.150248Z"
    },
    "scrolled": true
   },
   "outputs": [],
   "source": [
    "temp_shap_values = shap_values_waterfall[target_row_index,:]\n",
    "temp_shap_values"
   ]
  },
  {
   "cell_type": "code",
   "execution_count": null,
   "metadata": {
    "ExecuteTime": {
     "end_time": "2024-08-30T22:48:07.165207Z",
     "start_time": "2024-08-30T22:48:07.156231Z"
    }
   },
   "outputs": [],
   "source": [
    "temp_shap_values.values.sum() + temp_shap_values.base_values"
   ]
  },
  {
   "cell_type": "code",
   "execution_count": null,
   "metadata": {},
   "outputs": [],
   "source": []
  },
  {
   "cell_type": "code",
   "execution_count": null,
   "metadata": {
    "ExecuteTime": {
     "end_time": "2024-08-30T22:48:07.171064Z",
     "start_time": "2024-08-30T22:48:07.166205Z"
    }
   },
   "outputs": [],
   "source": [
    "train_y.mean(), logit(train_y.mean())"
   ]
  },
  {
   "cell_type": "code",
   "execution_count": null,
   "metadata": {
    "ExecuteTime": {
     "end_time": "2024-08-30T22:48:07.177978Z",
     "start_time": "2024-08-30T22:48:07.172055Z"
    }
   },
   "outputs": [],
   "source": [
    "lgbc_prob_train_y.mean(), logit(lgbc_prob_train_y.mean())"
   ]
  },
  {
   "cell_type": "code",
   "execution_count": null,
   "metadata": {},
   "outputs": [],
   "source": []
  },
  {
   "cell_type": "code",
   "execution_count": null,
   "metadata": {},
   "outputs": [],
   "source": []
  },
  {
   "cell_type": "code",
   "execution_count": null,
   "metadata": {},
   "outputs": [],
   "source": []
  },
  {
   "cell_type": "code",
   "execution_count": null,
   "metadata": {},
   "outputs": [],
   "source": []
  },
  {
   "cell_type": "code",
   "execution_count": null,
   "metadata": {},
   "outputs": [],
   "source": []
  },
  {
   "cell_type": "code",
   "execution_count": null,
   "metadata": {},
   "outputs": [],
   "source": []
  }
 ],
 "metadata": {
  "kernelspec": {
   "display_name": "Python 3 (ipykernel)",
   "language": "python",
   "name": "python3"
  },
  "language_info": {
   "codemirror_mode": {
    "name": "ipython",
    "version": 3
   },
   "file_extension": ".py",
   "mimetype": "text/x-python",
   "name": "python",
   "nbconvert_exporter": "python",
   "pygments_lexer": "ipython3",
   "version": "3.11.5"
  },
  "toc": {
   "base_numbering": 1,
   "nav_menu": {},
   "number_sections": true,
   "sideBar": true,
   "skip_h1_title": false,
   "title_cell": "Table of Contents",
   "title_sidebar": "Contents",
   "toc_cell": false,
   "toc_position": {
    "height": "calc(100% - 180px)",
    "left": "10px",
    "top": "150px",
    "width": "305.175px"
   },
   "toc_section_display": true,
   "toc_window_display": true
  },
  "varInspector": {
   "cols": {
    "lenName": 16,
    "lenType": 16,
    "lenVar": 40
   },
   "kernels_config": {
    "python": {
     "delete_cmd_postfix": "",
     "delete_cmd_prefix": "del ",
     "library": "var_list.py",
     "varRefreshCmd": "print(var_dic_list())"
    },
    "r": {
     "delete_cmd_postfix": ") ",
     "delete_cmd_prefix": "rm(",
     "library": "var_list.r",
     "varRefreshCmd": "cat(var_dic_list()) "
    }
   },
   "types_to_exclude": [
    "module",
    "function",
    "builtin_function_or_method",
    "instance",
    "_Feature"
   ],
   "window_display": false
  }
 },
 "nbformat": 4,
 "nbformat_minor": 4
}
