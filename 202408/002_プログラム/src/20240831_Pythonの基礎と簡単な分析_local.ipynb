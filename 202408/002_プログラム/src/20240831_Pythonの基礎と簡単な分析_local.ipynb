{
 "cells": [
  {
   "cell_type": "markdown",
   "metadata": {},
   "source": [
    "# Pythonの基礎と簡単な分析\n",
    "\n",
    "## 内容\n",
    "\n",
    "- Pythonの基礎の確認\n",
    "- Pythonを使った簡単なデータ分析\n",
    "\n",
    "## ディレクトリ構成\n",
    "\n",
    "```\n",
    "20240831_データ分析研修\n",
    "├─input\n",
    "├─output\n",
    "│  └─df3.xlsx\n",
    "└─src\n",
    "    └─xxxx.ipynb\n",
    "```\n",
    "\n",
    "---\n",
    "\n",
    "## 参考URL\n",
    "\n",
    "### Pythonの基本\n",
    "\n",
    "1. 次のページを読み進めながら、実際のPythonの使い方を学びましょう。\n",
    "   - [ゼロからのPython入門講座](https://www.python.jp/train/index.html)\n",
    "\n",
    "- ※必要な項目のみ読めば大丈夫です\n",
    "\n",
    "### その他\n",
    "\n",
    "- [[東京大学]Pythonプログラミング入門](https://utokyo-ipp.github.io/)\n",
    "  - 東大のPython教材\n",
    "- [Python早見帳](https://chokkan.github.io/python/index.html)\n",
    "  - Python早見帳は、Pythonのプログラムと実行例をさっと確認（早見）できるJupyter Notebook（帳）です。"
   ]
  },
  {
   "cell_type": "markdown",
   "metadata": {},
   "source": [
    "# Load modules"
   ]
  },
  {
   "cell_type": "code",
   "execution_count": null,
   "metadata": {
    "ExecuteTime": {
     "end_time": "2024-08-30T17:44:40.474579Z",
     "start_time": "2024-08-30T17:44:39.155083Z"
    }
   },
   "outputs": [],
   "source": [
    "import sys, os\n",
    "import gc\n",
    "import numpy as np\n",
    "import pandas as pd\n",
    "\n",
    "# 可視化用関数\n",
    "import matplotlib.pyplot as plt\n",
    "import seaborn as sns\n",
    "\n",
    "import japanize_matplotlib\n",
    "\n",
    "%matplotlib inline"
   ]
  },
  {
   "cell_type": "code",
   "execution_count": null,
   "metadata": {},
   "outputs": [],
   "source": []
  },
  {
   "cell_type": "markdown",
   "metadata": {},
   "source": [
    "# Setting"
   ]
  },
  {
   "cell_type": "code",
   "execution_count": null,
   "metadata": {
    "ExecuteTime": {
     "end_time": "2024-08-30T17:44:40.478790Z",
     "start_time": "2024-08-30T17:44:40.476111Z"
    }
   },
   "outputs": [],
   "source": [
    "import warnings\n",
    "warnings.simplefilter('ignore')"
   ]
  },
  {
   "cell_type": "code",
   "execution_count": null,
   "metadata": {},
   "outputs": [],
   "source": []
  },
  {
   "cell_type": "markdown",
   "metadata": {},
   "source": [
    "# Python基礎"
   ]
  },
  {
   "cell_type": "markdown",
   "metadata": {},
   "source": [
    "## 数値"
   ]
  },
  {
   "cell_type": "code",
   "execution_count": null,
   "metadata": {
    "ExecuteTime": {
     "end_time": "2024-08-30T17:44:40.485232Z",
     "start_time": "2024-08-30T17:44:40.479735Z"
    }
   },
   "outputs": [],
   "source": [
    "a = 1 + 2\n",
    "a"
   ]
  },
  {
   "cell_type": "code",
   "execution_count": null,
   "metadata": {
    "ExecuteTime": {
     "end_time": "2024-08-30T17:44:40.490483Z",
     "start_time": "2024-08-30T17:44:40.487248Z"
    }
   },
   "outputs": [],
   "source": [
    "type(a)"
   ]
  },
  {
   "cell_type": "code",
   "execution_count": null,
   "metadata": {
    "ExecuteTime": {
     "end_time": "2024-08-30T17:44:40.495977Z",
     "start_time": "2024-08-30T17:44:40.491478Z"
    }
   },
   "outputs": [],
   "source": [
    "b = 1.5 + 2\n",
    "b"
   ]
  },
  {
   "cell_type": "code",
   "execution_count": null,
   "metadata": {
    "ExecuteTime": {
     "end_time": "2024-08-30T17:44:40.503666Z",
     "start_time": "2024-08-30T17:44:40.497480Z"
    }
   },
   "outputs": [],
   "source": [
    "type(b)"
   ]
  },
  {
   "cell_type": "markdown",
   "metadata": {},
   "source": [
    "## 文字列"
   ]
  },
  {
   "cell_type": "code",
   "execution_count": null,
   "metadata": {
    "ExecuteTime": {
     "end_time": "2024-08-30T17:44:40.508577Z",
     "start_time": "2024-08-30T17:44:40.504658Z"
    }
   },
   "outputs": [],
   "source": [
    "s = 'てすと' + 'します'\n",
    "s"
   ]
  },
  {
   "cell_type": "code",
   "execution_count": null,
   "metadata": {
    "ExecuteTime": {
     "end_time": "2024-08-30T17:44:40.513200Z",
     "start_time": "2024-08-30T17:44:40.509572Z"
    }
   },
   "outputs": [],
   "source": [
    "type(s)"
   ]
  },
  {
   "cell_type": "code",
   "execution_count": null,
   "metadata": {
    "ExecuteTime": {
     "end_time": "2024-08-30T17:44:40.518183Z",
     "start_time": "2024-08-30T17:44:40.514194Z"
    }
   },
   "outputs": [],
   "source": [
    "# *を使ってたくさん文字列を繋げることも可能\n",
    "t = 'あいうえお' * 3\n",
    "t"
   ]
  },
  {
   "cell_type": "markdown",
   "metadata": {},
   "source": [
    "## list型"
   ]
  },
  {
   "cell_type": "code",
   "execution_count": null,
   "metadata": {
    "ExecuteTime": {
     "end_time": "2024-08-30T17:44:40.523922Z",
     "start_time": "2024-08-30T17:44:40.520178Z"
    }
   },
   "outputs": [],
   "source": [
    "l = [1, 2, 3]\n",
    "l"
   ]
  },
  {
   "cell_type": "code",
   "execution_count": null,
   "metadata": {
    "ExecuteTime": {
     "end_time": "2024-08-30T17:44:40.528908Z",
     "start_time": "2024-08-30T17:44:40.524918Z"
    }
   },
   "outputs": [],
   "source": [
    "type(l)"
   ]
  },
  {
   "cell_type": "code",
   "execution_count": null,
   "metadata": {
    "ExecuteTime": {
     "end_time": "2024-08-30T17:44:40.532479Z",
     "start_time": "2024-08-30T17:44:40.529905Z"
    }
   },
   "outputs": [],
   "source": [
    "for ii in l:\n",
    "    print(ii)"
   ]
  },
  {
   "cell_type": "markdown",
   "metadata": {},
   "source": [
    "## 辞書型"
   ]
  },
  {
   "cell_type": "code",
   "execution_count": null,
   "metadata": {
    "ExecuteTime": {
     "end_time": "2024-08-30T17:44:40.538462Z",
     "start_time": "2024-08-30T17:44:40.533476Z"
    }
   },
   "outputs": [],
   "source": [
    "d = {\n",
    "    'あ': 5,\n",
    "    'い': 6,\n",
    "    'う': 7\n",
    "}"
   ]
  },
  {
   "cell_type": "code",
   "execution_count": null,
   "metadata": {
    "ExecuteTime": {
     "end_time": "2024-08-30T17:44:40.544706Z",
     "start_time": "2024-08-30T17:44:40.539459Z"
    }
   },
   "outputs": [],
   "source": [
    "d['い']"
   ]
  },
  {
   "cell_type": "code",
   "execution_count": null,
   "metadata": {
    "ExecuteTime": {
     "end_time": "2024-08-30T17:44:40.550206Z",
     "start_time": "2024-08-30T17:44:40.545702Z"
    }
   },
   "outputs": [],
   "source": [
    "type(d)"
   ]
  },
  {
   "cell_type": "code",
   "execution_count": null,
   "metadata": {
    "ExecuteTime": {
     "end_time": "2024-08-30T17:44:40.553841Z",
     "start_time": "2024-08-30T17:44:40.551200Z"
    }
   },
   "outputs": [],
   "source": [
    "for ii in d:\n",
    "    print(ii)"
   ]
  },
  {
   "cell_type": "code",
   "execution_count": null,
   "metadata": {},
   "outputs": [],
   "source": []
  },
  {
   "cell_type": "markdown",
   "metadata": {},
   "source": [
    "## 関数"
   ]
  },
  {
   "cell_type": "markdown",
   "metadata": {},
   "source": [
    "### 普通の関数"
   ]
  },
  {
   "cell_type": "code",
   "execution_count": null,
   "metadata": {
    "ExecuteTime": {
     "end_time": "2024-08-30T17:44:40.557775Z",
     "start_time": "2024-08-30T17:44:40.554835Z"
    }
   },
   "outputs": [],
   "source": [
    "def func0(x):\n",
    "    \"\"\"\n",
    "    x: 引数という\n",
    "    ret: 戻り値という\n",
    "    \"\"\"\n",
    "    ret = 2 * x + 1\n",
    "    return ret"
   ]
  },
  {
   "cell_type": "code",
   "execution_count": null,
   "metadata": {
    "ExecuteTime": {
     "end_time": "2024-08-30T17:44:40.562169Z",
     "start_time": "2024-08-30T17:44:40.558769Z"
    }
   },
   "outputs": [],
   "source": [
    "func0(5)"
   ]
  },
  {
   "cell_type": "code",
   "execution_count": null,
   "metadata": {},
   "outputs": [],
   "source": []
  },
  {
   "cell_type": "markdown",
   "metadata": {},
   "source": [
    "### lambda関数"
   ]
  },
  {
   "cell_type": "code",
   "execution_count": null,
   "metadata": {
    "ExecuteTime": {
     "end_time": "2024-08-30T17:44:40.566721Z",
     "start_time": "2024-08-30T17:44:40.563164Z"
    }
   },
   "outputs": [],
   "source": [
    "# xを渡すと2x+1を返す関数\n",
    "f = (lambda x: 2 * x + 1)\n",
    "f"
   ]
  },
  {
   "cell_type": "code",
   "execution_count": null,
   "metadata": {
    "ExecuteTime": {
     "end_time": "2024-08-30T17:44:40.571272Z",
     "start_time": "2024-08-30T17:44:40.567710Z"
    }
   },
   "outputs": [],
   "source": [
    "f(5)"
   ]
  },
  {
   "cell_type": "code",
   "execution_count": null,
   "metadata": {},
   "outputs": [],
   "source": []
  },
  {
   "cell_type": "markdown",
   "metadata": {},
   "source": [
    "# DataFrame作成"
   ]
  },
  {
   "cell_type": "markdown",
   "metadata": {},
   "source": [
    "row: 行.  \n",
    "column: 列.カラム名=列名."
   ]
  },
  {
   "cell_type": "markdown",
   "metadata": {},
   "source": [
    "## 作り方1"
   ]
  },
  {
   "cell_type": "markdown",
   "metadata": {},
   "source": [
    "pd.DataFrame(リスト, columns=リスト)"
   ]
  },
  {
   "cell_type": "code",
   "execution_count": null,
   "metadata": {
    "ExecuteTime": {
     "end_time": "2024-08-30T17:44:40.580936Z",
     "start_time": "2024-08-30T17:44:40.572266Z"
    }
   },
   "outputs": [],
   "source": [
    "df0 = pd.DataFrame(\n",
    "    [\n",
    "        ['太郎', 160, 55, 20],\n",
    "        ['次郎', 170,60,26],\n",
    "        ['三郎', 180, 70, 30],\n",
    "        ['四郎', 150, 50, 10],\n",
    "        ['花子', 145, 45, 13]\n",
    "    ],\n",
    "    columns=['名前', '身長', '体重', '年齢']\n",
    ")\n",
    "df0"
   ]
  },
  {
   "cell_type": "markdown",
   "metadata": {},
   "source": [
    "## 作り方2"
   ]
  },
  {
   "cell_type": "markdown",
   "metadata": {},
   "source": [
    "pd.DataFrame(辞書)"
   ]
  },
  {
   "cell_type": "code",
   "execution_count": null,
   "metadata": {
    "ExecuteTime": {
     "end_time": "2024-08-30T17:44:40.588333Z",
     "start_time": "2024-08-30T17:44:40.581933Z"
    }
   },
   "outputs": [],
   "source": [
    "df1 = pd.DataFrame(\n",
    "    {\n",
    "        '名前': ['太郎', '次郎', '三郎', '四郎', '花子'],\n",
    "        '身長': [160, 170, 180, 150, 145],\n",
    "        '体重': [50, 60, 70, 50, 45],\n",
    "        '年齢': [20, 26, 30, 10, 13]\n",
    "    }\n",
    ")\n",
    "df1"
   ]
  },
  {
   "cell_type": "markdown",
   "metadata": {},
   "source": [
    "## 比較してみる"
   ]
  },
  {
   "cell_type": "code",
   "execution_count": null,
   "metadata": {
    "ExecuteTime": {
     "end_time": "2024-08-30T17:44:40.596863Z",
     "start_time": "2024-08-30T17:44:40.589328Z"
    }
   },
   "outputs": [],
   "source": [
    "df0 == df1"
   ]
  },
  {
   "cell_type": "code",
   "execution_count": null,
   "metadata": {},
   "outputs": [],
   "source": []
  },
  {
   "cell_type": "markdown",
   "metadata": {},
   "source": [
    "# 前処理・分析の基礎"
   ]
  },
  {
   "cell_type": "markdown",
   "metadata": {},
   "source": [
    "## 列の指定"
   ]
  },
  {
   "cell_type": "code",
   "execution_count": null,
   "metadata": {
    "ExecuteTime": {
     "end_time": "2024-08-30T17:44:40.604108Z",
     "start_time": "2024-08-30T17:44:40.597858Z"
    }
   },
   "outputs": [],
   "source": [
    "df0[['名前', '年齢']]"
   ]
  },
  {
   "cell_type": "markdown",
   "metadata": {},
   "source": [
    "## 行の追加"
   ]
  },
  {
   "cell_type": "code",
   "execution_count": null,
   "metadata": {
    "ExecuteTime": {
     "end_time": "2024-08-30T17:44:40.612353Z",
     "start_time": "2024-08-30T17:44:40.605102Z"
    }
   },
   "outputs": [],
   "source": [
    "df0.loc[5] = ['五郎', 200, 90, 22]\n",
    "df0"
   ]
  },
  {
   "cell_type": "code",
   "execution_count": null,
   "metadata": {
    "ExecuteTime": {
     "end_time": "2024-08-30T17:44:40.617561Z",
     "start_time": "2024-08-30T17:44:40.613347Z"
    },
    "scrolled": true
   },
   "outputs": [],
   "source": [
    "df0.shape"
   ]
  },
  {
   "cell_type": "code",
   "execution_count": null,
   "metadata": {},
   "outputs": [],
   "source": []
  },
  {
   "cell_type": "markdown",
   "metadata": {},
   "source": [
    "## 列の追加"
   ]
  },
  {
   "cell_type": "markdown",
   "metadata": {},
   "source": [
    "### 全ての行で値が同じ場合"
   ]
  },
  {
   "cell_type": "code",
   "execution_count": null,
   "metadata": {
    "ExecuteTime": {
     "end_time": "2024-08-30T17:44:40.624808Z",
     "start_time": "2024-08-30T17:44:40.618553Z"
    }
   },
   "outputs": [],
   "source": [
    "df0['出身地'] = '島根'\n",
    "df0"
   ]
  },
  {
   "cell_type": "code",
   "execution_count": null,
   "metadata": {
    "ExecuteTime": {
     "end_time": "2024-08-30T17:44:40.632925Z",
     "start_time": "2024-08-30T17:44:40.629791Z"
    }
   },
   "outputs": [],
   "source": [
    "df0.shape"
   ]
  },
  {
   "cell_type": "code",
   "execution_count": null,
   "metadata": {},
   "outputs": [],
   "source": []
  },
  {
   "cell_type": "markdown",
   "metadata": {},
   "source": [
    "### 行ごとに値が違う場合"
   ]
  },
  {
   "cell_type": "code",
   "execution_count": null,
   "metadata": {
    "ExecuteTime": {
     "end_time": "2024-08-30T17:44:40.641412Z",
     "start_time": "2024-08-30T17:44:40.633919Z"
    }
   },
   "outputs": [],
   "source": [
    "df0['現住所'] = ['島根', '大阪', '東京', '島根', '東京', '広島']\n",
    "df0['性別'] = ['男', '男', '男', '男', '女', '男']\n",
    "df0"
   ]
  },
  {
   "cell_type": "code",
   "execution_count": null,
   "metadata": {
    "ExecuteTime": {
     "end_time": "2024-08-30T17:44:40.645574Z",
     "start_time": "2024-08-30T17:44:40.641924Z"
    }
   },
   "outputs": [],
   "source": [
    "df0.shape"
   ]
  },
  {
   "cell_type": "code",
   "execution_count": null,
   "metadata": {},
   "outputs": [],
   "source": []
  },
  {
   "cell_type": "markdown",
   "metadata": {},
   "source": [
    "### 条件を満たす行のみを抽出"
   ]
  },
  {
   "cell_type": "code",
   "execution_count": null,
   "metadata": {
    "ExecuteTime": {
     "end_time": "2024-08-30T17:44:40.654336Z",
     "start_time": "2024-08-30T17:44:40.646566Z"
    }
   },
   "outputs": [],
   "source": [
    "df2 = df0[df0['現住所']=='島根']\n",
    "df2"
   ]
  },
  {
   "cell_type": "code",
   "execution_count": null,
   "metadata": {
    "ExecuteTime": {
     "end_time": "2024-08-30T17:44:40.659599Z",
     "start_time": "2024-08-30T17:44:40.655332Z"
    }
   },
   "outputs": [],
   "source": [
    "df2.shape"
   ]
  },
  {
   "cell_type": "markdown",
   "metadata": {},
   "source": [
    "## 2つの列から計算して新たな列を追加"
   ]
  },
  {
   "cell_type": "code",
   "execution_count": null,
   "metadata": {
    "ExecuteTime": {
     "end_time": "2024-08-30T17:44:40.667379Z",
     "start_time": "2024-08-30T17:44:40.660591Z"
    }
   },
   "outputs": [],
   "source": [
    "df0"
   ]
  },
  {
   "cell_type": "markdown",
   "metadata": {},
   "source": [
    "BMIを追加してみることにする"
   ]
  },
  {
   "cell_type": "markdown",
   "metadata": {},
   "source": [
    "\\begin{align}\n",
    "\\mathrm{BMI} = \\dfrac{w}{h^2}\n",
    "\\end{align}"
   ]
  },
  {
   "cell_type": "code",
   "execution_count": null,
   "metadata": {
    "ExecuteTime": {
     "end_time": "2024-08-30T17:44:40.672192Z",
     "start_time": "2024-08-30T17:44:40.668374Z"
    }
   },
   "outputs": [],
   "source": [
    "df3 = df0.copy()\n",
    "df4 = df0.copy()"
   ]
  },
  {
   "cell_type": "code",
   "execution_count": null,
   "metadata": {},
   "outputs": [],
   "source": []
  },
  {
   "cell_type": "markdown",
   "metadata": {},
   "source": [
    "### BMIを計算する関数を定義してapply()を使用する"
   ]
  },
  {
   "cell_type": "code",
   "execution_count": null,
   "metadata": {
    "ExecuteTime": {
     "end_time": "2024-08-30T17:44:40.676187Z",
     "start_time": "2024-08-30T17:44:40.673184Z"
    }
   },
   "outputs": [],
   "source": [
    "def calc_bmi(row):\n",
    "    \"\"\"\n",
    "    BMIを計算して返す\n",
    "    \"\"\"\n",
    "    # print(row)\n",
    "    w = row['体重']\n",
    "    h = row['身長'] / 100\n",
    "    bmi = w / h**2\n",
    "    return bmi"
   ]
  },
  {
   "cell_type": "code",
   "execution_count": null,
   "metadata": {
    "ExecuteTime": {
     "end_time": "2024-08-30T17:44:40.685201Z",
     "start_time": "2024-08-30T17:44:40.677178Z"
    }
   },
   "outputs": [],
   "source": [
    "df3['BMI'] = df3.apply(calc_bmi, axis=1)\n",
    "df3"
   ]
  },
  {
   "cell_type": "code",
   "execution_count": null,
   "metadata": {},
   "outputs": [],
   "source": []
  },
  {
   "cell_type": "markdown",
   "metadata": {},
   "source": [
    "### BMIを計算するlambda関数を定義してapply()を使用する"
   ]
  },
  {
   "cell_type": "code",
   "execution_count": null,
   "metadata": {
    "ExecuteTime": {
     "end_time": "2024-08-30T17:44:40.693988Z",
     "start_time": "2024-08-30T17:44:40.686195Z"
    },
    "scrolled": true
   },
   "outputs": [],
   "source": [
    "df4['BMI'] = df4.apply(lambda row: row['体重'] / ((row['身長']/100)**2), axis=1)\n",
    "df4"
   ]
  },
  {
   "cell_type": "code",
   "execution_count": null,
   "metadata": {
    "ExecuteTime": {
     "end_time": "2024-08-30T17:44:40.702573Z",
     "start_time": "2024-08-30T17:44:40.694980Z"
    }
   },
   "outputs": [],
   "source": [
    "# 同じ結果になる\n",
    "df3 == df4"
   ]
  },
  {
   "cell_type": "code",
   "execution_count": null,
   "metadata": {},
   "outputs": [],
   "source": []
  },
  {
   "cell_type": "markdown",
   "metadata": {},
   "source": [
    "## 基本統計量を確認"
   ]
  },
  {
   "cell_type": "code",
   "execution_count": null,
   "metadata": {
    "ExecuteTime": {
     "end_time": "2024-08-30T17:44:40.715226Z",
     "start_time": "2024-08-30T17:44:40.703568Z"
    }
   },
   "outputs": [],
   "source": [
    "df3.describe()"
   ]
  },
  {
   "cell_type": "code",
   "execution_count": null,
   "metadata": {},
   "outputs": [],
   "source": []
  },
  {
   "cell_type": "markdown",
   "metadata": {},
   "source": [
    "## mean()など単体でも関数としてあるので使える"
   ]
  },
  {
   "cell_type": "code",
   "execution_count": null,
   "metadata": {
    "ExecuteTime": {
     "end_time": "2024-08-30T17:44:40.724059Z",
     "start_time": "2024-08-30T17:44:40.716217Z"
    }
   },
   "outputs": [],
   "source": [
    "df3"
   ]
  },
  {
   "cell_type": "code",
   "execution_count": null,
   "metadata": {},
   "outputs": [],
   "source": []
  },
  {
   "cell_type": "code",
   "execution_count": null,
   "metadata": {
    "ExecuteTime": {
     "end_time": "2024-08-30T17:44:40.731951Z",
     "start_time": "2024-08-30T17:44:40.725054Z"
    }
   },
   "outputs": [],
   "source": [
    "# 平均\n",
    "df3[[\n",
    "    '身長',\n",
    "    '体重',\n",
    "    '年齢',\n",
    "    'BMI'\n",
    "]].mean()"
   ]
  },
  {
   "cell_type": "code",
   "execution_count": null,
   "metadata": {
    "ExecuteTime": {
     "end_time": "2024-08-30T17:44:40.738859Z",
     "start_time": "2024-08-30T17:44:40.733942Z"
    }
   },
   "outputs": [],
   "source": [
    "# 最大値\n",
    "df3.max()"
   ]
  },
  {
   "cell_type": "code",
   "execution_count": null,
   "metadata": {
    "ExecuteTime": {
     "end_time": "2024-08-30T17:44:40.748459Z",
     "start_time": "2024-08-30T17:44:40.739852Z"
    }
   },
   "outputs": [],
   "source": [
    "df0"
   ]
  },
  {
   "cell_type": "code",
   "execution_count": null,
   "metadata": {
    "ExecuteTime": {
     "end_time": "2024-08-30T17:44:40.757026Z",
     "start_time": "2024-08-30T17:44:40.749453Z"
    }
   },
   "outputs": [],
   "source": [
    "df3"
   ]
  },
  {
   "cell_type": "code",
   "execution_count": null,
   "metadata": {
    "ExecuteTime": {
     "end_time": "2024-08-30T17:44:40.844254Z",
     "start_time": "2024-08-30T17:44:40.757998Z"
    }
   },
   "outputs": [],
   "source": [
    "gc.collect()"
   ]
  },
  {
   "cell_type": "markdown",
   "metadata": {},
   "source": [
    "## 相関を確認"
   ]
  },
  {
   "cell_type": "markdown",
   "metadata": {},
   "source": [
    "### 相関行列のDataFrame"
   ]
  },
  {
   "cell_type": "code",
   "execution_count": null,
   "metadata": {
    "ExecuteTime": {
     "end_time": "2024-08-30T17:44:40.851979Z",
     "start_time": "2024-08-30T17:44:40.845249Z"
    }
   },
   "outputs": [],
   "source": [
    "corr = df3[[\n",
    "    '身長',\n",
    "    '体重',\n",
    "    '年齢',\n",
    "    'BMI'\n",
    "]].corr()\n",
    "corr"
   ]
  },
  {
   "cell_type": "code",
   "execution_count": null,
   "metadata": {},
   "outputs": [],
   "source": []
  },
  {
   "cell_type": "markdown",
   "metadata": {},
   "source": [
    "### 相関行列をヒートマップで可視化"
   ]
  },
  {
   "cell_type": "code",
   "execution_count": null,
   "metadata": {
    "ExecuteTime": {
     "end_time": "2024-08-30T17:44:41.060061Z",
     "start_time": "2024-08-30T17:44:40.852971Z"
    }
   },
   "outputs": [],
   "source": [
    "sns.heatmap(corr)"
   ]
  },
  {
   "cell_type": "code",
   "execution_count": null,
   "metadata": {},
   "outputs": [],
   "source": []
  },
  {
   "cell_type": "markdown",
   "metadata": {},
   "source": [
    "## 散布図"
   ]
  },
  {
   "cell_type": "markdown",
   "metadata": {},
   "source": [
    "### scatterを使用"
   ]
  },
  {
   "cell_type": "code",
   "execution_count": null,
   "metadata": {
    "ExecuteTime": {
     "end_time": "2024-08-30T17:44:41.200141Z",
     "start_time": "2024-08-30T17:44:41.061055Z"
    }
   },
   "outputs": [],
   "source": [
    "plt.scatter(\n",
    "    df3['年齢'],\n",
    "    df3['身長']\n",
    ")\n",
    "\n",
    "# 表示範囲\n",
    "plt.xlim([0, 35])\n",
    "plt.ylim([130, 210])\n",
    "\n",
    "# 軸名、タイトル名\n",
    "plt.xlabel('年齢(歳)')\n",
    "plt.ylabel('身長(cm)')\n",
    "plt.title('年齢と身長の関係', fontsize=12)\n",
    "\n",
    "# grid\n",
    "plt.grid(ls='--')\n",
    "plt.show()"
   ]
  },
  {
   "cell_type": "code",
   "execution_count": null,
   "metadata": {},
   "outputs": [],
   "source": []
  },
  {
   "cell_type": "markdown",
   "metadata": {},
   "source": [
    "### pairplot"
   ]
  },
  {
   "cell_type": "code",
   "execution_count": null,
   "metadata": {
    "ExecuteTime": {
     "end_time": "2024-08-30T17:44:43.751778Z",
     "start_time": "2024-08-30T17:44:41.201135Z"
    }
   },
   "outputs": [],
   "source": [
    "sns.pairplot(\n",
    "    df3\n",
    ")"
   ]
  },
  {
   "cell_type": "code",
   "execution_count": null,
   "metadata": {},
   "outputs": [],
   "source": []
  },
  {
   "cell_type": "code",
   "execution_count": null,
   "metadata": {},
   "outputs": [],
   "source": []
  },
  {
   "cell_type": "markdown",
   "metadata": {},
   "source": [
    "## 集計を行う"
   ]
  },
  {
   "cell_type": "code",
   "execution_count": null,
   "metadata": {
    "ExecuteTime": {
     "end_time": "2024-08-30T17:44:43.760875Z",
     "start_time": "2024-08-30T17:44:43.753771Z"
    }
   },
   "outputs": [],
   "source": [
    "df3"
   ]
  },
  {
   "cell_type": "markdown",
   "metadata": {},
   "source": [
    "### ある列の各値の数を確認"
   ]
  },
  {
   "cell_type": "code",
   "execution_count": null,
   "metadata": {
    "ExecuteTime": {
     "end_time": "2024-08-30T17:44:43.767852Z",
     "start_time": "2024-08-30T17:44:43.762864Z"
    }
   },
   "outputs": [],
   "source": [
    "df3['現住所'].value_counts()"
   ]
  },
  {
   "cell_type": "code",
   "execution_count": null,
   "metadata": {},
   "outputs": [],
   "source": []
  },
  {
   "cell_type": "markdown",
   "metadata": {},
   "source": [
    "### クロス集計"
   ]
  },
  {
   "cell_type": "code",
   "execution_count": null,
   "metadata": {
    "ExecuteTime": {
     "end_time": "2024-08-30T17:44:43.781823Z",
     "start_time": "2024-08-30T17:44:43.769845Z"
    }
   },
   "outputs": [],
   "source": [
    "# pivot table\n",
    "pd.pivot_table(\n",
    "    df3,\n",
    "    index='性別',\n",
    "    columns='現住所',\n",
    "    values='BMI',\n",
    "    aggfunc='mean'\n",
    ")"
   ]
  },
  {
   "cell_type": "code",
   "execution_count": null,
   "metadata": {
    "ExecuteTime": {
     "end_time": "2024-08-30T17:44:43.807751Z",
     "start_time": "2024-08-30T17:44:43.783815Z"
    }
   },
   "outputs": [],
   "source": [
    "# pivot table\n",
    "pd.pivot_table(\n",
    "    df3,\n",
    "    index='性別',\n",
    "    columns='現住所',\n",
    "    values='名前',\n",
    "    aggfunc='nunique',\n",
    "    # 合計(All)を表示させるかどうか\n",
    "    margins=True\n",
    ")"
   ]
  },
  {
   "cell_type": "code",
   "execution_count": null,
   "metadata": {},
   "outputs": [],
   "source": []
  },
  {
   "cell_type": "code",
   "execution_count": null,
   "metadata": {
    "ExecuteTime": {
     "end_time": "2024-08-30T17:44:43.830046Z",
     "start_time": "2024-08-30T17:44:43.809165Z"
    }
   },
   "outputs": [],
   "source": [
    "# crosstabが便利\n",
    "pd.crosstab(\n",
    "    index=[df3['性別']],\n",
    "    columns=[df3['現住所']],\n",
    "    # 合計(All)を表示させるかどうか\n",
    "    margins=True\n",
    ")"
   ]
  },
  {
   "cell_type": "code",
   "execution_count": null,
   "metadata": {
    "ExecuteTime": {
     "end_time": "2024-08-30T17:44:43.858189Z",
     "start_time": "2024-08-30T17:44:43.832039Z"
    }
   },
   "outputs": [],
   "source": [
    "# crosstabが便利\n",
    "# 2要素の指定も可能\n",
    "pd.crosstab(\n",
    "    index=[df3['性別']],\n",
    "    columns=[\n",
    "        df3['出身地'],\n",
    "        df3['現住所']\n",
    "    ],\n",
    "    # 合計(All)を表示させるかどうか\n",
    "    margins=True\n",
    ")"
   ]
  },
  {
   "cell_type": "code",
   "execution_count": null,
   "metadata": {},
   "outputs": [],
   "source": []
  },
  {
   "cell_type": "markdown",
   "metadata": {},
   "source": [
    "## ダミー変数化"
   ]
  },
  {
   "cell_type": "code",
   "execution_count": null,
   "metadata": {
    "ExecuteTime": {
     "end_time": "2024-08-30T17:44:43.866001Z",
     "start_time": "2024-08-30T17:44:43.859179Z"
    }
   },
   "outputs": [],
   "source": [
    "df3"
   ]
  },
  {
   "cell_type": "code",
   "execution_count": null,
   "metadata": {
    "ExecuteTime": {
     "end_time": "2024-08-30T17:44:43.876995Z",
     "start_time": "2024-08-30T17:44:43.867029Z"
    }
   },
   "outputs": [],
   "source": [
    "df4 = pd.get_dummies(df3, columns=['現住所'], dtype=int)\n",
    "df4"
   ]
  },
  {
   "cell_type": "code",
   "execution_count": null,
   "metadata": {},
   "outputs": [],
   "source": []
  },
  {
   "cell_type": "markdown",
   "metadata": {},
   "source": [
    "# データの出力と読み込み"
   ]
  },
  {
   "cell_type": "markdown",
   "metadata": {},
   "source": [
    "## DataFrameをExcelとして保存してみる"
   ]
  },
  {
   "cell_type": "code",
   "execution_count": null,
   "metadata": {
    "ExecuteTime": {
     "end_time": "2024-08-30T17:44:44.207135Z",
     "start_time": "2024-08-30T17:44:43.877992Z"
    }
   },
   "outputs": [],
   "source": [
    "# localの場合\n",
    "df3.to_excel('../output/df3.xlsx', index=False)"
   ]
  },
  {
   "cell_type": "code",
   "execution_count": null,
   "metadata": {},
   "outputs": [],
   "source": []
  },
  {
   "cell_type": "markdown",
   "metadata": {},
   "source": [
    "## Excelを読み込んでDataFrameを作成する"
   ]
  },
  {
   "cell_type": "code",
   "execution_count": null,
   "metadata": {
    "ExecuteTime": {
     "end_time": "2024-08-30T17:44:44.252678Z",
     "start_time": "2024-08-30T17:44:44.210114Z"
    }
   },
   "outputs": [],
   "source": [
    "# localの場合\n",
    "df5 = pd.read_excel('../output/df3.xlsx')\n",
    "df5"
   ]
  },
  {
   "cell_type": "code",
   "execution_count": null,
   "metadata": {},
   "outputs": [],
   "source": []
  },
  {
   "cell_type": "code",
   "execution_count": null,
   "metadata": {},
   "outputs": [],
   "source": []
  }
 ],
 "metadata": {
  "kernelspec": {
   "display_name": "Python 3 (ipykernel)",
   "language": "python",
   "name": "python3"
  },
  "language_info": {
   "codemirror_mode": {
    "name": "ipython",
    "version": 3
   },
   "file_extension": ".py",
   "mimetype": "text/x-python",
   "name": "python",
   "nbconvert_exporter": "python",
   "pygments_lexer": "ipython3",
   "version": "3.11.5"
  },
  "latex_envs": {
   "LaTeX_envs_menu_present": true,
   "autoclose": false,
   "autocomplete": true,
   "bibliofile": "biblio.bib",
   "cite_by": "apalike",
   "current_citInitial": 1,
   "eqLabelWithNumbers": true,
   "eqNumInitial": 1,
   "hotkeys": {
    "equation": "Ctrl-E",
    "itemize": "Ctrl-I"
   },
   "labels_anchors": false,
   "latex_user_defs": false,
   "report_style_numbering": false,
   "user_envs_cfg": false
  },
  "toc": {
   "base_numbering": 1,
   "nav_menu": {},
   "number_sections": true,
   "sideBar": true,
   "skip_h1_title": false,
   "title_cell": "Table of Contents",
   "title_sidebar": "Contents",
   "toc_cell": false,
   "toc_position": {
    "height": "calc(100% - 180px)",
    "left": "10px",
    "top": "150px",
    "width": "303.825px"
   },
   "toc_section_display": true,
   "toc_window_display": true
  },
  "varInspector": {
   "cols": {
    "lenName": 16,
    "lenType": 16,
    "lenVar": 40
   },
   "kernels_config": {
    "python": {
     "delete_cmd_postfix": "",
     "delete_cmd_prefix": "del ",
     "library": "var_list.py",
     "varRefreshCmd": "print(var_dic_list())"
    },
    "r": {
     "delete_cmd_postfix": ") ",
     "delete_cmd_prefix": "rm(",
     "library": "var_list.r",
     "varRefreshCmd": "cat(var_dic_list()) "
    }
   },
   "types_to_exclude": [
    "module",
    "function",
    "builtin_function_or_method",
    "instance",
    "_Feature"
   ],
   "window_display": false
  }
 },
 "nbformat": 4,
 "nbformat_minor": 2
}
