{
 "cells": [
  {
   "cell_type": "markdown",
   "metadata": {},
   "source": [
    "# データ分析とモデル作成sample\n",
    "\n",
    "## 内容\n",
    "\n",
    "- タイタニックのデータを使用して，データ分析とモデル作成を行う\n",
    "\n",
    "### 各カラムの意味\n",
    "\n",
    "1. **survived**: 乗客が生存したかどうか（0 = 死亡, 1 = 生存）。\n",
    "2. **pclass**: 乗客のチケットクラス（1 = 1等, 2 = 2等, 3 = 3等）。\n",
    "3. **sex**: 乗客の性別（male = 男性, female = 女性）。\n",
    "4. **age**: 乗客の年齢。NaNの値も含まれ、年齢が不明な場合があります。\n",
    "5. **sibsp**: 兄弟姉妹または配偶者の数。乗船した兄弟姉妹または配偶者の数を示します。\n",
    "6. **parch**: 両親または子供の数。乗船した親または子供の数を示します。\n",
    "7. **fare**: 乗船料金。乗客が支払った運賃を表します。\n",
    "8. **embarked**: 乗船港（C = Cherbourg, Q = Queenstown, S = Southampton）。\n",
    "9. **class**: チケットのクラスを文字列で示したもの（'First', 'Second', 'Third'）。\n",
    "10. **who**: 乗客のカテゴリー（'man', 'woman', 'child'）。\n",
    "11. **adult_male**: 乗客が成人男性かどうか（True = 成人男性, False = それ以外）。\n",
    "12. **deck**: 乗客が乗っていたデッキ（甲板）のレベル。NaNの値も多く含まれます。\n",
    "13. **embark_town**: 乗船した港の町（'Cherbourg', 'Queenstown', 'Southampton'）。\n",
    "14. **alive**: 生存か死亡かを文字列で示したもの（'yes' = 生存, 'no' = 死亡）。\n",
    "15. **alone**: 乗客が単独で乗船したかどうか（True = 単独, False = 家族や他の人と一緒）。"
   ]
  },
  {
   "cell_type": "code",
   "execution_count": null,
   "metadata": {},
   "outputs": [],
   "source": []
  },
  {
   "cell_type": "markdown",
   "metadata": {},
   "source": [
    "# Load modules"
   ]
  },
  {
   "cell_type": "markdown",
   "metadata": {},
   "source": [
    "ライブラリ読み込み"
   ]
  },
  {
   "cell_type": "code",
   "execution_count": null,
   "metadata": {
    "ExecuteTime": {
     "end_time": "2024-08-30T22:01:06.365639Z",
     "start_time": "2024-08-30T22:01:04.973472Z"
    },
    "code_folding": []
   },
   "outputs": [],
   "source": [
    "# ライブラリ読み込み\n",
    "import sys, os\n",
    "import time\n",
    "import gc\n",
    "from datetime import datetime as dt\n",
    "import numpy as np\n",
    "import pandas as pd\n",
    "import random\n",
    "import matplotlib.pyplot as plt\n",
    "import japanize_matplotlib\n",
    "\n",
    "import joblib\n",
    "import re # 正規表現\n",
    "\n",
    "import seaborn as sns\n",
    "\n",
    "from sklearn import tree\n",
    "from sklearn.tree import DecisionTreeClassifier\n",
    "from sklearn.ensemble import RandomForestClassifier\n",
    "\n",
    "from sklearn.model_selection import train_test_split\n",
    "# from sklearn.model_selection import GridSearchCV\n",
    "\n",
    "# 評価関数\n",
    "from sklearn.metrics import confusion_matrix\n",
    "from sklearn.metrics import accuracy_score\n",
    "from sklearn.metrics import f1_score\n",
    "from sklearn.metrics import precision_score\n",
    "from sklearn.metrics import recall_score\n",
    "from sklearn.metrics import roc_auc_score\n",
    "\n",
    "%matplotlib inline"
   ]
  },
  {
   "cell_type": "code",
   "execution_count": null,
   "metadata": {
    "ExecuteTime": {
     "end_time": "2024-08-30T22:01:06.451022Z",
     "start_time": "2024-08-30T22:01:06.367628Z"
    },
    "scrolled": true
   },
   "outputs": [],
   "source": [
    "gc.collect()"
   ]
  },
  {
   "cell_type": "markdown",
   "metadata": {},
   "source": [
    "# Configure"
   ]
  },
  {
   "cell_type": "markdown",
   "metadata": {},
   "source": [
    "## pandas.DataFrameの表示行数・列数を変更"
   ]
  },
  {
   "cell_type": "code",
   "execution_count": null,
   "metadata": {
    "ExecuteTime": {
     "end_time": "2024-08-30T22:01:06.457527Z",
     "start_time": "2024-08-30T22:01:06.452526Z"
    }
   },
   "outputs": [],
   "source": [
    "pd.set_option('display.max_rows', 100)\n",
    "pd.set_option('display.max_columns', 100)"
   ]
  },
  {
   "cell_type": "markdown",
   "metadata": {},
   "source": [
    "## warningの表示を削除"
   ]
  },
  {
   "cell_type": "code",
   "execution_count": null,
   "metadata": {
    "ExecuteTime": {
     "end_time": "2024-08-30T22:01:06.463020Z",
     "start_time": "2024-08-30T22:01:06.459516Z"
    }
   },
   "outputs": [],
   "source": [
    "# warningの削除\n",
    "import warnings\n",
    "warnings.filterwarnings('ignore')"
   ]
  },
  {
   "cell_type": "markdown",
   "metadata": {},
   "source": [
    "## random seed\n",
    "- random系moduleのseed値を設定する."
   ]
  },
  {
   "cell_type": "code",
   "execution_count": null,
   "metadata": {
    "ExecuteTime": {
     "end_time": "2024-08-30T22:01:06.468207Z",
     "start_time": "2024-08-30T22:01:06.464524Z"
    }
   },
   "outputs": [],
   "source": [
    "# random系moduleのseed値を設定\n",
    "random.seed(57)\n",
    "np.random.seed(57)"
   ]
  },
  {
   "cell_type": "code",
   "execution_count": null,
   "metadata": {},
   "outputs": [],
   "source": []
  },
  {
   "cell_type": "markdown",
   "metadata": {},
   "source": [
    "# Constants"
   ]
  },
  {
   "cell_type": "markdown",
   "metadata": {},
   "source": [
    "## date"
   ]
  },
  {
   "cell_type": "code",
   "execution_count": null,
   "metadata": {
    "ExecuteTime": {
     "end_time": "2024-08-30T22:01:06.475062Z",
     "start_time": "2024-08-30T22:01:06.469199Z"
    }
   },
   "outputs": [],
   "source": [
    "today_dt = dt.today()\n",
    "today_str = dt.strftime(today_dt, '%Y%m%d')\n",
    "today_str"
   ]
  },
  {
   "cell_type": "code",
   "execution_count": null,
   "metadata": {},
   "outputs": [],
   "source": []
  },
  {
   "cell_type": "markdown",
   "metadata": {},
   "source": [
    "## paths"
   ]
  },
  {
   "cell_type": "code",
   "execution_count": null,
   "metadata": {
    "ExecuteTime": {
     "end_time": "2024-08-30T22:01:06.480286Z",
     "start_time": "2024-08-30T22:01:06.476055Z"
    }
   },
   "outputs": [],
   "source": [
    "input_dpath = '../input/'\n",
    "output_dpath = '../output/'"
   ]
  },
  {
   "cell_type": "code",
   "execution_count": null,
   "metadata": {},
   "outputs": [],
   "source": []
  },
  {
   "cell_type": "markdown",
   "metadata": {},
   "source": [
    "# Functions"
   ]
  },
  {
   "cell_type": "markdown",
   "metadata": {},
   "source": [
    "## 数値計算"
   ]
  },
  {
   "cell_type": "markdown",
   "metadata": {},
   "source": [
    "### 数字を四捨五入で丸める"
   ]
  },
  {
   "cell_type": "code",
   "execution_count": null,
   "metadata": {
    "ExecuteTime": {
     "end_time": "2024-08-30T22:01:06.486155Z",
     "start_time": "2024-08-30T22:01:06.481280Z"
    },
    "code_folding": [
     0
    ]
   },
   "outputs": [],
   "source": [
    "def pro_round(num, ndigits=0):\n",
    "    \"\"\"\n",
    "    数字を四捨五入で丸める。\n",
    "\n",
    "    Args:\n",
    "        num: int or float\n",
    "            丸めたい数字。\n",
    "\n",
    "        ndigits: int, optional(default=0)\n",
    "            丸めた後の小数部分の桁数。\n",
    "\n",
    "    Returns:\n",
    "        rounded: int or float\n",
    "            丸めた後の数字。\n",
    "    \"\"\"\n",
    "    num *= 10 ** ndigits\n",
    "    rounded = ( 2* num + 1 ) // 2\n",
    "    rounded /= 10 ** ndigits\n",
    "\n",
    "    if ndigits == 0:\n",
    "        rounded = int(rounded)\n",
    "\n",
    "    return rounded"
   ]
  },
  {
   "cell_type": "markdown",
   "metadata": {},
   "source": [
    "### スタージェスの公式"
   ]
  },
  {
   "cell_type": "code",
   "execution_count": null,
   "metadata": {
    "ExecuteTime": {
     "end_time": "2024-08-30T22:01:06.493113Z",
     "start_time": "2024-08-30T22:01:06.487154Z"
    },
    "code_folding": [
     0
    ]
   },
   "outputs": [],
   "source": [
    "def sturges_rule(num):\n",
    "    \"\"\"\n",
    "    スタージェスの公式を用いて、\n",
    "    サンプルサイズから階級(カテゴリ、ビン(bins))の数を計算する。\n",
    "    公式のTeX表記: \\[bins = 1 + \\log_2{N} \\nonumber \\]\n",
    "\n",
    "    Args:\n",
    "        num: int\n",
    "            サンプルサイズ。原則1以上の整数を想定。\n",
    "    \n",
    "    Returns:\n",
    "        n_bins: int\n",
    "            スタージェスの公式から導かれた適切な階級の数。\n",
    "    \"\"\"\n",
    "    # numが0以下の時は1を返す\n",
    "    if num <= 0:\n",
    "        num = 1\n",
    "        return 1\n",
    "    \n",
    "    # スタージェスの公式\n",
    "    n_bins = int(pro_round(1 + np.log2(num), 0))\n",
    "    \n",
    "    return n_bins"
   ]
  },
  {
   "cell_type": "markdown",
   "metadata": {},
   "source": [
    "# Load data"
   ]
  },
  {
   "cell_type": "markdown",
   "metadata": {},
   "source": [
    "## データ準備"
   ]
  },
  {
   "cell_type": "code",
   "execution_count": null,
   "metadata": {
    "ExecuteTime": {
     "end_time": "2024-08-30T22:01:06.509018Z",
     "start_time": "2024-08-30T22:01:06.495099Z"
    }
   },
   "outputs": [],
   "source": [
    "# タイタニックデータ\n",
    "# seabornからロード\n",
    "titanic_df = sns.load_dataset('titanic')"
   ]
  },
  {
   "cell_type": "code",
   "execution_count": null,
   "metadata": {},
   "outputs": [],
   "source": []
  },
  {
   "cell_type": "markdown",
   "metadata": {},
   "source": [
    "# Explatory data analysis"
   ]
  },
  {
   "cell_type": "markdown",
   "metadata": {},
   "source": [
    "## 基本的な情報を確認"
   ]
  },
  {
   "cell_type": "markdown",
   "metadata": {},
   "source": [
    "### 各カラムの意味\n",
    "\n",
    "1. **survived**: 乗客が生存したかどうか（0 = 死亡, 1 = 生存）。\n",
    "2. **pclass**: 乗客のチケットクラス（1 = 1等, 2 = 2等, 3 = 3等）。\n",
    "3. **sex**: 乗客の性別（male = 男性, female = 女性）。\n",
    "4. **age**: 乗客の年齢。NaNの値も含まれ、年齢が不明な場合があります。\n",
    "5. **sibsp**: 兄弟姉妹または配偶者の数。乗船した兄弟姉妹または配偶者の数を示します。\n",
    "6. **parch**: 両親または子供の数。乗船した親または子供の数を示します。\n",
    "7. **fare**: 乗船料金。乗客が支払った運賃を表します。\n",
    "8. **embarked**: 乗船港（C = Cherbourg, Q = Queenstown, S = Southampton）。\n",
    "9. **class**: チケットのクラスを文字列で示したもの（'First', 'Second', 'Third'）。\n",
    "10. **who**: 乗客のカテゴリー（'man', 'woman', 'child'）。\n",
    "11. **adult_male**: 乗客が成人男性かどうか（True = 成人男性, False = それ以外）。\n",
    "12. **deck**: 乗客が乗っていたデッキ（甲板）のレベル。NaNの値も多く含まれます。\n",
    "13. **embark_town**: 乗船した港の町（'Cherbourg', 'Queenstown', 'Southampton'）。\n",
    "14. **alive**: 生存か死亡かを文字列で示したもの（'yes' = 生存, 'no' = 死亡）。\n",
    "15. **alone**: 乗客が単独で乗船したかどうか（True = 単独, False = 家族や他の人と一緒）。"
   ]
  },
  {
   "cell_type": "code",
   "execution_count": null,
   "metadata": {
    "ExecuteTime": {
     "end_time": "2024-08-30T22:01:06.514951Z",
     "start_time": "2024-08-30T22:01:06.509965Z"
    }
   },
   "outputs": [],
   "source": [
    "# 全カラムのリスト\n",
    "titanic_df.columns.tolist()"
   ]
  },
  {
   "cell_type": "markdown",
   "metadata": {},
   "source": [
    "### データの中身を確認する"
   ]
  },
  {
   "cell_type": "code",
   "execution_count": null,
   "metadata": {
    "ExecuteTime": {
     "end_time": "2024-08-30T22:01:06.526935Z",
     "start_time": "2024-08-30T22:01:06.515949Z"
    }
   },
   "outputs": [],
   "source": [
    "# 上から3行読む\n",
    "titanic_df.head(3)"
   ]
  },
  {
   "cell_type": "code",
   "execution_count": null,
   "metadata": {
    "ExecuteTime": {
     "end_time": "2024-08-30T22:01:06.537736Z",
     "start_time": "2024-08-30T22:01:06.527923Z"
    }
   },
   "outputs": [],
   "source": [
    "# head()の中を何も指定しないと5行読み込む扱い\n",
    "titanic_df.head()"
   ]
  },
  {
   "cell_type": "code",
   "execution_count": null,
   "metadata": {
    "ExecuteTime": {
     "end_time": "2024-08-30T22:01:06.548548Z",
     "start_time": "2024-08-30T22:01:06.538731Z"
    }
   },
   "outputs": [],
   "source": [
    "# tail()は最後の5行\n",
    "titanic_df.tail()"
   ]
  },
  {
   "cell_type": "code",
   "execution_count": null,
   "metadata": {
    "ExecuteTime": {
     "end_time": "2024-08-30T22:01:06.554525Z",
     "start_time": "2024-08-30T22:01:06.549539Z"
    }
   },
   "outputs": [],
   "source": [
    "# (行数, 列数)を確認\n",
    "titanic_df.shape"
   ]
  },
  {
   "cell_type": "code",
   "execution_count": null,
   "metadata": {},
   "outputs": [],
   "source": []
  },
  {
   "cell_type": "code",
   "execution_count": null,
   "metadata": {},
   "outputs": [],
   "source": []
  },
  {
   "cell_type": "markdown",
   "metadata": {},
   "source": [
    "## データ型を確認"
   ]
  },
  {
   "cell_type": "code",
   "execution_count": null,
   "metadata": {
    "ExecuteTime": {
     "end_time": "2024-08-30T22:01:06.560169Z",
     "start_time": "2024-08-30T22:01:06.555522Z"
    }
   },
   "outputs": [],
   "source": [
    "titanic_df.dtypes"
   ]
  },
  {
   "cell_type": "code",
   "execution_count": null,
   "metadata": {
    "ExecuteTime": {
     "end_time": "2024-08-30T22:01:06.574755Z",
     "start_time": "2024-08-30T22:01:06.561162Z"
    }
   },
   "outputs": [],
   "source": [
    "# 数値列のみを含むデータフレームを作成\n",
    "numeric_df = titanic_df.select_dtypes(include=['number'])\n",
    "numeric_df.head()"
   ]
  },
  {
   "cell_type": "code",
   "execution_count": null,
   "metadata": {},
   "outputs": [],
   "source": []
  },
  {
   "cell_type": "markdown",
   "metadata": {},
   "source": [
    "## 基本統計量を見る"
   ]
  },
  {
   "cell_type": "code",
   "execution_count": null,
   "metadata": {
    "ExecuteTime": {
     "end_time": "2024-08-30T22:01:06.590234Z",
     "start_time": "2024-08-30T22:01:06.575749Z"
    }
   },
   "outputs": [],
   "source": [
    "# 基本統計量を見る\n",
    "titanic_df.describe()"
   ]
  },
  {
   "cell_type": "markdown",
   "metadata": {},
   "source": [
    "## 相関を見る"
   ]
  },
  {
   "cell_type": "code",
   "execution_count": null,
   "metadata": {
    "ExecuteTime": {
     "end_time": "2024-08-30T22:01:06.599913Z",
     "start_time": "2024-08-30T22:01:06.592221Z"
    }
   },
   "outputs": [],
   "source": [
    "corr_df = numeric_df.corr()\n",
    "corr_df"
   ]
  },
  {
   "cell_type": "code",
   "execution_count": null,
   "metadata": {
    "ExecuteTime": {
     "end_time": "2024-08-30T22:01:06.828949Z",
     "start_time": "2024-08-30T22:01:06.600907Z"
    }
   },
   "outputs": [],
   "source": [
    "# ヒートマップで表示も可能\n",
    "sns.heatmap(corr_df)"
   ]
  },
  {
   "cell_type": "markdown",
   "metadata": {},
   "source": [
    "### 相関係数(の絶対値)が高い順に並べる"
   ]
  },
  {
   "cell_type": "code",
   "execution_count": null,
   "metadata": {
    "ExecuteTime": {
     "end_time": "2024-08-30T22:01:06.833926Z",
     "start_time": "2024-08-30T22:01:06.829935Z"
    }
   },
   "outputs": [],
   "source": [
    "# 目的変数\n",
    "target = 'survived'"
   ]
  },
  {
   "cell_type": "code",
   "execution_count": null,
   "metadata": {
    "ExecuteTime": {
     "end_time": "2024-08-30T22:01:06.847353Z",
     "start_time": "2024-08-30T22:01:06.835920Z"
    },
    "scrolled": true
   },
   "outputs": [],
   "source": [
    "# 相関係数の絶対値が高い順に並べる\n",
    "corr_df0 = corr_df[[target]]\n",
    "corr_df0['abs_corr'] = corr_df0[target].abs()\n",
    "corr_df0 = corr_df0.sort_values(by='abs_corr', ascending=False)\n",
    "corr_df0"
   ]
  },
  {
   "cell_type": "code",
   "execution_count": null,
   "metadata": {},
   "outputs": [],
   "source": []
  },
  {
   "cell_type": "markdown",
   "metadata": {},
   "source": [
    "以下2つは同じ\n",
    "titanic_df['pclass']\n",
    "titanic_df.pclass"
   ]
  },
  {
   "cell_type": "code",
   "execution_count": null,
   "metadata": {},
   "outputs": [],
   "source": []
  },
  {
   "cell_type": "markdown",
   "metadata": {},
   "source": [
    "## 度数を見てみる"
   ]
  },
  {
   "cell_type": "markdown",
   "metadata": {},
   "source": [
    "### survived"
   ]
  },
  {
   "cell_type": "code",
   "execution_count": null,
   "metadata": {
    "ExecuteTime": {
     "end_time": "2024-08-30T22:01:06.853885Z",
     "start_time": "2024-08-30T22:01:06.848341Z"
    }
   },
   "outputs": [],
   "source": [
    "titanic_df.survived.value_counts()"
   ]
  },
  {
   "cell_type": "code",
   "execution_count": null,
   "metadata": {},
   "outputs": [],
   "source": []
  },
  {
   "cell_type": "markdown",
   "metadata": {},
   "source": [
    "### pclass"
   ]
  },
  {
   "cell_type": "code",
   "execution_count": null,
   "metadata": {
    "ExecuteTime": {
     "end_time": "2024-08-30T22:01:06.860187Z",
     "start_time": "2024-08-30T22:01:06.854844Z"
    },
    "scrolled": false
   },
   "outputs": [],
   "source": [
    "titanic_df.pclass.value_counts()"
   ]
  },
  {
   "cell_type": "markdown",
   "metadata": {},
   "source": [
    "### 性別"
   ]
  },
  {
   "cell_type": "code",
   "execution_count": null,
   "metadata": {
    "ExecuteTime": {
     "end_time": "2024-08-30T22:01:06.866168Z",
     "start_time": "2024-08-30T22:01:06.861182Z"
    }
   },
   "outputs": [],
   "source": [
    "titanic_df.sex.value_counts()"
   ]
  },
  {
   "cell_type": "code",
   "execution_count": null,
   "metadata": {},
   "outputs": [],
   "source": []
  },
  {
   "cell_type": "markdown",
   "metadata": {},
   "source": [
    "## 各変数の尺度を確認することが重要"
   ]
  },
  {
   "cell_type": "markdown",
   "metadata": {},
   "source": [
    "参考: http://www.gen-info.osaka-u.ac.jp/MEPHAS/express/express0.html  \n",
    "  \n",
    "- 順序尺度以上：順序尺度・間隔尺度・比例尺度のいずれかである場合です  \n",
    "- 間隔尺度以上：間隔尺度・比例尺度のいずれかである場合です  \n",
    "  \n",
    "### 名義尺度\n",
    "単に区別するために用いられている尺度。  \n",
    "例えば、血液型でＡ型・Ｂ型・Ｏ型・ＡＢ型を、 それぞれ０・１・２・３と数値に対応させたもの。  \n",
    "これらの変数の平均値を求めてもまったく意味がありません。  \n",
    "  \n",
    "### 順序尺度\n",
    "大小関係にのみ意味がある尺度。  \n",
    "例えば、治療効果の判定において、 悪化・不変・改善・著効を、それぞれ-１・０・１・２と数値に対応させたもの。  \n",
    "平均値は定義できないが中央値は定義できます。  \n",
    "  \n",
    "### 間隔尺度\n",
    "数値の差のみに意味がある尺度。  \n",
    "「距離尺度」とも呼びます。順序尺度の性質も備えています。  \n",
    "例えば、温度が10℃から15℃になったときに、50％の温度上昇があったとはいいません。 温度が10℃から15℃になったときも、100℃から105℃になったときも、 ともに５℃の温度上昇です。そして、５℃という数値には意味があります。  \n",
    "  \n",
    "### 比例尺度\n",
    "数値の差とともに数値の比にも意味がある尺度。  \n",
    "「比尺度」とも呼びます。順序尺度・間隔尺度の性質も備えています。  \n",
    "例えば、体重は50kgから60kgになったときと、100kgから110kgになったときとは、 同じ10kgの増加であっても、前者は20％増、後者は10％増です。 また、比が定義できるということは絶対零点を持つことと同じことを表します。  "
   ]
  },
  {
   "cell_type": "markdown",
   "metadata": {},
   "source": [
    "## Excelで保存してみる"
   ]
  },
  {
   "cell_type": "markdown",
   "metadata": {},
   "source": [
    "to_excel(ファイル名, index=(indexをつけるかどうか))"
   ]
  },
  {
   "cell_type": "code",
   "execution_count": null,
   "metadata": {
    "ExecuteTime": {
     "end_time": "2024-08-30T22:01:06.872153Z",
     "start_time": "2024-08-30T22:01:06.867164Z"
    }
   },
   "outputs": [],
   "source": [
    "titanic_fpath = f'{input_dpath}titanic_{today_str}.xlsx'\n",
    "titanic_fpath"
   ]
  },
  {
   "cell_type": "code",
   "execution_count": null,
   "metadata": {
    "ExecuteTime": {
     "end_time": "2024-08-30T22:01:07.255053Z",
     "start_time": "2024-08-30T22:01:06.874148Z"
    }
   },
   "outputs": [],
   "source": [
    "# 保存する\n",
    "titanic_df.to_excel(titanic_fpath, index=False)"
   ]
  },
  {
   "cell_type": "markdown",
   "metadata": {},
   "source": [
    "## Excelを読み込む"
   ]
  },
  {
   "cell_type": "code",
   "execution_count": null,
   "metadata": {
    "ExecuteTime": {
     "end_time": "2024-08-30T22:01:07.449502Z",
     "start_time": "2024-08-30T22:01:07.260038Z"
    }
   },
   "outputs": [],
   "source": [
    "# 読み込む\n",
    "nakami_df = pd.read_excel(titanic_fpath)\n",
    "nakami_df.head(3)"
   ]
  },
  {
   "cell_type": "code",
   "execution_count": null,
   "metadata": {},
   "outputs": [],
   "source": []
  },
  {
   "cell_type": "markdown",
   "metadata": {},
   "source": [
    "# Preprocessing"
   ]
  },
  {
   "cell_type": "code",
   "execution_count": null,
   "metadata": {
    "ExecuteTime": {
     "end_time": "2024-08-30T22:01:07.468631Z",
     "start_time": "2024-08-30T22:01:07.450497Z"
    },
    "scrolled": true
   },
   "outputs": [],
   "source": [
    "df = titanic_df.copy()\n",
    "df.head(3)"
   ]
  },
  {
   "cell_type": "code",
   "execution_count": null,
   "metadata": {
    "ExecuteTime": {
     "end_time": "2024-08-30T22:01:07.474602Z",
     "start_time": "2024-08-30T22:01:07.469619Z"
    }
   },
   "outputs": [],
   "source": [
    "df.shape"
   ]
  },
  {
   "cell_type": "code",
   "execution_count": null,
   "metadata": {},
   "outputs": [],
   "source": []
  },
  {
   "cell_type": "markdown",
   "metadata": {},
   "source": [
    "## leakage対策"
   ]
  },
  {
   "cell_type": "markdown",
   "metadata": {},
   "source": [
    "leakageについて  \n",
    "https://www.datarobot.com/jp/wiki/target-leakage/"
   ]
  },
  {
   "cell_type": "markdown",
   "metadata": {},
   "source": [
    "### aliveがsurvivedの情報を含んでいるのでaliveカラムを削除"
   ]
  },
  {
   "cell_type": "code",
   "execution_count": null,
   "metadata": {
    "ExecuteTime": {
     "end_time": "2024-08-30T22:01:07.483170Z",
     "start_time": "2024-08-30T22:01:07.476112Z"
    },
    "scrolled": true
   },
   "outputs": [],
   "source": [
    "# 重複した行を削除\n",
    "df[[target, 'alive']].drop_duplicates()"
   ]
  },
  {
   "cell_type": "code",
   "execution_count": null,
   "metadata": {
    "ExecuteTime": {
     "end_time": "2024-08-30T22:01:07.494050Z",
     "start_time": "2024-08-30T22:01:07.485150Z"
    }
   },
   "outputs": [],
   "source": [
    "df = df.drop('alive', axis=1)\n",
    "df.head(3)"
   ]
  },
  {
   "cell_type": "code",
   "execution_count": null,
   "metadata": {},
   "outputs": [],
   "source": []
  },
  {
   "cell_type": "markdown",
   "metadata": {},
   "source": [
    "## 欠損処理"
   ]
  },
  {
   "cell_type": "markdown",
   "metadata": {},
   "source": [
    "### 今回は簡易的に考えるため欠損は削除する"
   ]
  },
  {
   "cell_type": "code",
   "execution_count": null,
   "metadata": {
    "ExecuteTime": {
     "end_time": "2024-08-30T22:01:07.497906Z",
     "start_time": "2024-08-30T22:01:07.495039Z"
    }
   },
   "outputs": [],
   "source": [
    "df.shape"
   ]
  },
  {
   "cell_type": "code",
   "execution_count": null,
   "metadata": {},
   "outputs": [],
   "source": []
  },
  {
   "cell_type": "code",
   "execution_count": null,
   "metadata": {
    "ExecuteTime": {
     "end_time": "2024-08-30T22:01:07.505399Z",
     "start_time": "2024-08-30T22:01:07.498891Z"
    }
   },
   "outputs": [],
   "source": [
    "df = df.dropna(\n",
    "    axis=0,\n",
    "    subset=[\n",
    "        'survived',\n",
    "        'pclass',\n",
    "        'age',\n",
    "        'sibsp',\n",
    "        'parch',\n",
    "        'fare',\n",
    "        'class',\n",
    "        'who',\n",
    "        'adult_male'\n",
    "    ]\n",
    ")"
   ]
  },
  {
   "cell_type": "code",
   "execution_count": null,
   "metadata": {
    "ExecuteTime": {
     "end_time": "2024-08-30T22:01:07.510623Z",
     "start_time": "2024-08-30T22:01:07.505924Z"
    }
   },
   "outputs": [],
   "source": [
    "df.shape"
   ]
  },
  {
   "cell_type": "code",
   "execution_count": null,
   "metadata": {},
   "outputs": [],
   "source": []
  },
  {
   "cell_type": "markdown",
   "metadata": {},
   "source": [
    "## 型を修正"
   ]
  },
  {
   "cell_type": "code",
   "execution_count": null,
   "metadata": {
    "ExecuteTime": {
     "end_time": "2024-08-30T22:01:07.516192Z",
     "start_time": "2024-08-30T22:01:07.511617Z"
    }
   },
   "outputs": [],
   "source": [
    "df.columns.tolist()"
   ]
  },
  {
   "cell_type": "code",
   "execution_count": null,
   "metadata": {
    "ExecuteTime": {
     "end_time": "2024-08-30T22:01:07.522376Z",
     "start_time": "2024-08-30T22:01:07.517705Z"
    }
   },
   "outputs": [],
   "source": [
    "int_cols = [\n",
    "    'pclass',\n",
    "    'age',\n",
    "    'sibsp',\n",
    "    'parch'\n",
    "]"
   ]
  },
  {
   "cell_type": "code",
   "execution_count": null,
   "metadata": {
    "ExecuteTime": {
     "end_time": "2024-08-30T22:01:07.528871Z",
     "start_time": "2024-08-30T22:01:07.524360Z"
    }
   },
   "outputs": [],
   "source": [
    "for col in int_cols:\n",
    "    \n",
    "    # int型にする\n",
    "    df[col] = df[col].astype(int)"
   ]
  },
  {
   "cell_type": "code",
   "execution_count": null,
   "metadata": {},
   "outputs": [],
   "source": []
  },
  {
   "cell_type": "markdown",
   "metadata": {},
   "source": [
    "## 階級に分ける"
   ]
  },
  {
   "cell_type": "markdown",
   "metadata": {},
   "source": [
    "### 階級に分けるカラムの指定"
   ]
  },
  {
   "cell_type": "code",
   "execution_count": null,
   "metadata": {
    "ExecuteTime": {
     "end_time": "2024-08-30T22:01:07.534229Z",
     "start_time": "2024-08-30T22:01:07.530858Z"
    }
   },
   "outputs": [],
   "source": [
    "cls_cols = ['age', 'fare']"
   ]
  },
  {
   "cell_type": "markdown",
   "metadata": {},
   "source": [
    "### 階級数をスタージェスの公式で計算"
   ]
  },
  {
   "cell_type": "code",
   "execution_count": null,
   "metadata": {
    "ExecuteTime": {
     "end_time": "2024-08-30T22:01:07.539775Z",
     "start_time": "2024-08-30T22:01:07.536216Z"
    }
   },
   "outputs": [],
   "source": [
    "n_class = sturges_rule(len(df))\n",
    "n_class"
   ]
  },
  {
   "cell_type": "markdown",
   "metadata": {},
   "source": [
    "### 階級に分ける場合\n",
    "\n",
    "- 参考: [pandasのcut, qcut関数でビニング処理（ビン分割）](https://note.nkmk.me/python-pandas-cut-qcut-binning/)"
   ]
  },
  {
   "cell_type": "code",
   "execution_count": null,
   "metadata": {
    "ExecuteTime": {
     "end_time": "2024-08-30T22:01:07.543844Z",
     "start_time": "2024-08-30T22:01:07.540764Z"
    }
   },
   "outputs": [],
   "source": [
    "for_class_df = df.copy()"
   ]
  },
  {
   "cell_type": "code",
   "execution_count": null,
   "metadata": {
    "ExecuteTime": {
     "end_time": "2024-08-30T22:01:07.549907Z",
     "start_time": "2024-08-30T22:01:07.544839Z"
    }
   },
   "outputs": [],
   "source": [
    "for_class_df['age'].value_counts().head()"
   ]
  },
  {
   "cell_type": "code",
   "execution_count": null,
   "metadata": {
    "ExecuteTime": {
     "end_time": "2024-08-30T22:01:07.555137Z",
     "start_time": "2024-08-30T22:01:07.550900Z"
    }
   },
   "outputs": [],
   "source": [
    "# ユニーク数の確認\n",
    "for_class_df['age'].nunique()"
   ]
  },
  {
   "cell_type": "code",
   "execution_count": null,
   "metadata": {
    "ExecuteTime": {
     "end_time": "2024-08-30T22:01:07.564848Z",
     "start_time": "2024-08-30T22:01:07.556132Z"
    }
   },
   "outputs": [],
   "source": [
    "# 階級に分ける(ビニング処理)\n",
    "for_class_df['age_splitted'] = pd.cut(for_class_df['age'], bins=n_class)\n",
    "for_class_df['age_splitted'] = for_class_df['age_splitted'].apply(lambda x: str(x).replace(',', '_').replace(' ', ''))"
   ]
  },
  {
   "cell_type": "code",
   "execution_count": null,
   "metadata": {
    "ExecuteTime": {
     "end_time": "2024-08-30T22:01:07.570339Z",
     "start_time": "2024-08-30T22:01:07.565839Z"
    }
   },
   "outputs": [],
   "source": [
    "for_class_df['age_splitted'].value_counts().head()"
   ]
  },
  {
   "cell_type": "code",
   "execution_count": null,
   "metadata": {
    "ExecuteTime": {
     "end_time": "2024-08-30T22:01:07.574299Z",
     "start_time": "2024-08-30T22:01:07.571331Z"
    }
   },
   "outputs": [],
   "source": [
    "# ユニーク数の確認\n",
    "for_class_df['age_splitted'].nunique()"
   ]
  },
  {
   "cell_type": "code",
   "execution_count": null,
   "metadata": {},
   "outputs": [],
   "source": []
  },
  {
   "cell_type": "code",
   "execution_count": null,
   "metadata": {
    "ExecuteTime": {
     "end_time": "2024-08-30T22:01:07.580039Z",
     "start_time": "2024-08-30T22:01:07.575292Z"
    }
   },
   "outputs": [],
   "source": [
    "for_class_df['fare'].value_counts().head()"
   ]
  },
  {
   "cell_type": "code",
   "execution_count": null,
   "metadata": {
    "ExecuteTime": {
     "end_time": "2024-08-30T22:01:07.584184Z",
     "start_time": "2024-08-30T22:01:07.581035Z"
    }
   },
   "outputs": [],
   "source": [
    "# ユニーク数の確認\n",
    "for_class_df['fare'].nunique()"
   ]
  },
  {
   "cell_type": "code",
   "execution_count": null,
   "metadata": {
    "ExecuteTime": {
     "end_time": "2024-08-30T22:01:07.590539Z",
     "start_time": "2024-08-30T22:01:07.585177Z"
    }
   },
   "outputs": [],
   "source": [
    "# 階級に分ける(ビニング処理)\n",
    "for_class_df['fare_splitted'] = pd.cut(for_class_df['fare'], bins=n_class)\n",
    "for_class_df['fare_splitted'] = for_class_df['fare_splitted'].apply(lambda x: str(x).replace(',', '_').replace(' ', ''))"
   ]
  },
  {
   "cell_type": "code",
   "execution_count": null,
   "metadata": {
    "ExecuteTime": {
     "end_time": "2024-08-30T22:01:07.596524Z",
     "start_time": "2024-08-30T22:01:07.591532Z"
    }
   },
   "outputs": [],
   "source": [
    "for_class_df['fare_splitted'].value_counts().head()"
   ]
  },
  {
   "cell_type": "code",
   "execution_count": null,
   "metadata": {
    "ExecuteTime": {
     "end_time": "2024-08-30T22:01:07.600951Z",
     "start_time": "2024-08-30T22:01:07.597043Z"
    }
   },
   "outputs": [],
   "source": [
    "# ユニーク数の確認\n",
    "for_class_df['fare_splitted'].nunique()"
   ]
  },
  {
   "cell_type": "code",
   "execution_count": null,
   "metadata": {},
   "outputs": [],
   "source": []
  },
  {
   "cell_type": "code",
   "execution_count": null,
   "metadata": {},
   "outputs": [],
   "source": []
  },
  {
   "cell_type": "markdown",
   "metadata": {},
   "source": [
    "## ダミー変数化"
   ]
  },
  {
   "cell_type": "markdown",
   "metadata": {},
   "source": [
    "### カテゴリ変数のカラムの指定"
   ]
  },
  {
   "cell_type": "code",
   "execution_count": null,
   "metadata": {
    "ExecuteTime": {
     "end_time": "2024-08-30T22:01:07.610604Z",
     "start_time": "2024-08-30T22:01:07.601943Z"
    }
   },
   "outputs": [],
   "source": [
    "df.head()"
   ]
  },
  {
   "cell_type": "code",
   "execution_count": null,
   "metadata": {
    "ExecuteTime": {
     "end_time": "2024-08-30T22:01:07.617579Z",
     "start_time": "2024-08-30T22:01:07.611596Z"
    },
    "scrolled": true
   },
   "outputs": [],
   "source": [
    "df.nunique()"
   ]
  },
  {
   "cell_type": "code",
   "execution_count": null,
   "metadata": {},
   "outputs": [],
   "source": []
  },
  {
   "cell_type": "code",
   "execution_count": null,
   "metadata": {
    "ExecuteTime": {
     "end_time": "2024-08-30T22:01:07.622579Z",
     "start_time": "2024-08-30T22:01:07.618577Z"
    }
   },
   "outputs": [],
   "source": [
    "# カテゴリ変数のカラム\n",
    "cate_cols = df.columns.tolist()\n",
    "cate_cols = list(set(cate_cols) - {target, 'age', 'fare'})\n",
    "cate_cols"
   ]
  },
  {
   "cell_type": "code",
   "execution_count": null,
   "metadata": {},
   "outputs": [],
   "source": []
  },
  {
   "cell_type": "markdown",
   "metadata": {},
   "source": [
    "### ダミー変数化"
   ]
  },
  {
   "cell_type": "code",
   "execution_count": null,
   "metadata": {
    "ExecuteTime": {
     "end_time": "2024-08-30T22:01:07.630666Z",
     "start_time": "2024-08-30T22:01:07.623569Z"
    }
   },
   "outputs": [],
   "source": [
    "df.columns.tolist()"
   ]
  },
  {
   "cell_type": "code",
   "execution_count": null,
   "metadata": {
    "ExecuteTime": {
     "end_time": "2024-08-30T22:01:07.653125Z",
     "start_time": "2024-08-30T22:01:07.631662Z"
    }
   },
   "outputs": [],
   "source": [
    "df = pd.get_dummies(\n",
    "    df,\n",
    "    dummy_na=True,\n",
    "    columns=cate_cols,\n",
    "    dtype=int\n",
    ")\n",
    "df.head(3)"
   ]
  },
  {
   "cell_type": "code",
   "execution_count": null,
   "metadata": {
    "ExecuteTime": {
     "end_time": "2024-08-30T22:01:07.657119Z",
     "start_time": "2024-08-30T22:01:07.654114Z"
    }
   },
   "outputs": [],
   "source": [
    "df.shape"
   ]
  },
  {
   "cell_type": "code",
   "execution_count": null,
   "metadata": {
    "ExecuteTime": {
     "end_time": "2024-08-30T22:01:07.662940Z",
     "start_time": "2024-08-30T22:01:07.658624Z"
    },
    "scrolled": true
   },
   "outputs": [],
   "source": [
    "# カラムの確認\n",
    "df.columns.tolist()"
   ]
  },
  {
   "cell_type": "code",
   "execution_count": null,
   "metadata": {},
   "outputs": [],
   "source": []
  },
  {
   "cell_type": "markdown",
   "metadata": {},
   "source": [
    "## 目的変数と説明変数で分ける"
   ]
  },
  {
   "cell_type": "code",
   "execution_count": null,
   "metadata": {
    "ExecuteTime": {
     "end_time": "2024-08-30T22:01:07.668934Z",
     "start_time": "2024-08-30T22:01:07.664930Z"
    },
    "scrolled": true
   },
   "outputs": [],
   "source": [
    "df.columns.tolist()"
   ]
  },
  {
   "cell_type": "code",
   "execution_count": null,
   "metadata": {
    "ExecuteTime": {
     "end_time": "2024-08-30T22:01:07.673824Z",
     "start_time": "2024-08-30T22:01:07.669924Z"
    },
    "scrolled": true
   },
   "outputs": [],
   "source": [
    "data_x = df.drop(labels=[target], axis=1)\n",
    "data_y = df[target]"
   ]
  },
  {
   "cell_type": "code",
   "execution_count": null,
   "metadata": {},
   "outputs": [],
   "source": []
  },
  {
   "cell_type": "markdown",
   "metadata": {},
   "source": [
    "## trainとtestに分割"
   ]
  },
  {
   "cell_type": "code",
   "execution_count": null,
   "metadata": {
    "ExecuteTime": {
     "end_time": "2024-08-30T22:01:07.680463Z",
     "start_time": "2024-08-30T22:01:07.674815Z"
    }
   },
   "outputs": [],
   "source": [
    "train_x, test_x, train_y, test_y = train_test_split(\n",
    "    data_x,\n",
    "    data_y,\n",
    "    random_state=57,\n",
    "    test_size=0.3\n",
    ")"
   ]
  },
  {
   "cell_type": "code",
   "execution_count": null,
   "metadata": {
    "ExecuteTime": {
     "end_time": "2024-08-30T22:01:07.696811Z",
     "start_time": "2024-08-30T22:01:07.681454Z"
    },
    "scrolled": true
   },
   "outputs": [],
   "source": [
    "train_x.head()"
   ]
  },
  {
   "cell_type": "code",
   "execution_count": null,
   "metadata": {
    "ExecuteTime": {
     "end_time": "2024-08-30T22:01:07.701803Z",
     "start_time": "2024-08-30T22:01:07.697800Z"
    }
   },
   "outputs": [],
   "source": [
    "print('train_x.shape:', train_x.shape)\n",
    "print('test_x.shape:', test_x.shape)\n",
    "print('train_y.shape:', train_y.shape)\n",
    "print('test_y.shape:', test_y.shape)"
   ]
  },
  {
   "cell_type": "code",
   "execution_count": null,
   "metadata": {},
   "outputs": [],
   "source": []
  },
  {
   "cell_type": "markdown",
   "metadata": {},
   "source": [
    "## 中間データを出力"
   ]
  },
  {
   "cell_type": "code",
   "execution_count": null,
   "metadata": {
    "ExecuteTime": {
     "end_time": "2024-08-30T22:01:07.707049Z",
     "start_time": "2024-08-30T22:01:07.702793Z"
    }
   },
   "outputs": [],
   "source": [
    "pp_data_dict = {\n",
    "    'train_x': train_x,\n",
    "    'train_y': train_y,\n",
    "    'test_x': test_x,\n",
    "    'test_y': test_y\n",
    "}"
   ]
  },
  {
   "cell_type": "code",
   "execution_count": null,
   "metadata": {
    "ExecuteTime": {
     "end_time": "2024-08-30T22:01:07.719013Z",
     "start_time": "2024-08-30T22:01:07.708039Z"
    }
   },
   "outputs": [],
   "source": [
    "# 圧縮ファイルとして出力\n",
    "joblib.dump(\n",
    "    pp_data_dict,\n",
    "    f'{input_dpath}pp_titanic_data_dict.pkl3',\n",
    "    compress=3\n",
    ")"
   ]
  },
  {
   "cell_type": "code",
   "execution_count": null,
   "metadata": {},
   "outputs": [],
   "source": []
  },
  {
   "cell_type": "markdown",
   "metadata": {},
   "source": [
    "# Decision Tree Classifier"
   ]
  },
  {
   "cell_type": "markdown",
   "metadata": {},
   "source": [
    "## create model"
   ]
  },
  {
   "cell_type": "code",
   "execution_count": null,
   "metadata": {
    "ExecuteTime": {
     "end_time": "2024-08-30T22:01:07.730393Z",
     "start_time": "2024-08-30T22:01:07.720013Z"
    },
    "scrolled": true
   },
   "outputs": [],
   "source": [
    "dtc = DecisionTreeClassifier(\n",
    "    criterion='gini',\n",
    "    max_depth=10,\n",
    "    min_samples_leaf=5,\n",
    "    random_state=57\n",
    ")\n",
    "dtc.fit(train_x, train_y)"
   ]
  },
  {
   "cell_type": "code",
   "execution_count": null,
   "metadata": {},
   "outputs": [],
   "source": []
  },
  {
   "cell_type": "markdown",
   "metadata": {},
   "source": [
    "## 寄与度分析"
   ]
  },
  {
   "cell_type": "code",
   "execution_count": null,
   "metadata": {
    "ExecuteTime": {
     "end_time": "2024-08-30T22:01:07.734328Z",
     "start_time": "2024-08-30T22:01:07.731900Z"
    }
   },
   "outputs": [],
   "source": [
    "# 説明変数\n",
    "features = train_x.columns\n",
    "\n",
    "# 寄与率\n",
    "dtc_importances = dtc.feature_importances_"
   ]
  },
  {
   "cell_type": "code",
   "execution_count": null,
   "metadata": {
    "ExecuteTime": {
     "end_time": "2024-08-30T22:01:08.010803Z",
     "start_time": "2024-08-30T22:01:07.735315Z"
    },
    "scrolled": true
   },
   "outputs": [],
   "source": [
    "# dtc_importances描き方\n",
    "dtc_importance_df = pd.DataFrame(\n",
    "    {'feature': features, 'importance':  dtc_importances}\n",
    ").sort_values(by='importance', ascending=True)\n",
    "\n",
    "dtc_importance_df.tail(10).plot(\n",
    "    x='feature',\n",
    "    y='importance',\n",
    "    kind='barh',\n",
    "    figsize=(12,9)\n",
    ")\n",
    "\n",
    "display(dtc_importance_df.sort_values(by='importance', ascending=False).head(10))"
   ]
  },
  {
   "cell_type": "code",
   "execution_count": null,
   "metadata": {},
   "outputs": [],
   "source": []
  },
  {
   "cell_type": "markdown",
   "metadata": {},
   "source": [
    "## 木の一つを可視化する"
   ]
  },
  {
   "cell_type": "code",
   "execution_count": null,
   "metadata": {
    "ExecuteTime": {
     "end_time": "2024-08-30T22:01:08.866731Z",
     "start_time": "2024-08-30T22:01:08.011841Z"
    },
    "scrolled": true
   },
   "outputs": [],
   "source": [
    "# 可視化の設定\n",
    "plt.figure(\n",
    "    figsize=(10, 5), # 描画サイズ\n",
    "    facecolor='white', # 背景色\n",
    "    dpi=200 # 解像度\n",
    ")\n",
    "\n",
    "# 決定木の可視化\n",
    "tree.plot_tree(\n",
    "    decision_tree=dtc, # 決定木モデル\n",
    "    max_depth=3, # 表示する木の深さ\n",
    "    feature_names=features, # 説明変数名\n",
    "    class_names=['死亡', '生存'], # 目的変数の各クラス名\n",
    "    fontsize=4,\n",
    "    filled=True # ノードに色を付ける\n",
    ")"
   ]
  },
  {
   "cell_type": "code",
   "execution_count": null,
   "metadata": {},
   "outputs": [],
   "source": []
  },
  {
   "cell_type": "markdown",
   "metadata": {},
   "source": [
    "## 精度評価"
   ]
  },
  {
   "cell_type": "markdown",
   "metadata": {},
   "source": [
    "### train"
   ]
  },
  {
   "cell_type": "code",
   "execution_count": null,
   "metadata": {
    "ExecuteTime": {
     "end_time": "2024-08-30T22:01:08.875678Z",
     "start_time": "2024-08-30T22:01:08.868722Z"
    }
   },
   "outputs": [],
   "source": [
    "# trainを予測\n",
    "pred_train_y = dtc.predict(train_x)\n",
    "\n",
    "# y=1である確率を予測\n",
    "prob_train_y = dtc.predict_proba(train_x).T[1]"
   ]
  },
  {
   "cell_type": "code",
   "execution_count": null,
   "metadata": {
    "ExecuteTime": {
     "end_time": "2024-08-30T22:01:08.885857Z",
     "start_time": "2024-08-30T22:01:08.876664Z"
    }
   },
   "outputs": [],
   "source": [
    "dtc_train_valid_df = pd.DataFrame(\n",
    "    {\n",
    "        'prob_y': prob_train_y,\n",
    "        'pred_y': pred_train_y,\n",
    "        target: train_y\n",
    "    }\n",
    ")\n",
    "dtc_train_valid_df.head()"
   ]
  },
  {
   "cell_type": "code",
   "execution_count": null,
   "metadata": {
    "ExecuteTime": {
     "end_time": "2024-08-30T22:01:08.895080Z",
     "start_time": "2024-08-30T22:01:08.887837Z"
    }
   },
   "outputs": [],
   "source": [
    "# accuracy\n",
    "dtc_train_accuracy_val = accuracy_score(\n",
    "    dtc_train_valid_df[target],\n",
    "    dtc_train_valid_df['pred_y']\n",
    ")\n",
    "\n",
    "# auc\n",
    "dtc_train_auc_val = roc_auc_score(\n",
    "    dtc_train_valid_df[target],\n",
    "    dtc_train_valid_df['prob_y']\n",
    ")\n",
    "\n",
    "print('accuracy:', dtc_train_accuracy_val)\n",
    "print('auc:', dtc_train_auc_val)"
   ]
  },
  {
   "cell_type": "code",
   "execution_count": null,
   "metadata": {},
   "outputs": [],
   "source": []
  },
  {
   "cell_type": "markdown",
   "metadata": {},
   "source": [
    "### test"
   ]
  },
  {
   "cell_type": "code",
   "execution_count": null,
   "metadata": {
    "ExecuteTime": {
     "end_time": "2024-08-30T22:01:08.903629Z",
     "start_time": "2024-08-30T22:01:08.897069Z"
    }
   },
   "outputs": [],
   "source": [
    "# testを予測\n",
    "pred_test_y = dtc.predict(test_x)\n",
    "\n",
    "# y=1である確率を予測\n",
    "prob_test_y = dtc.predict_proba(test_x).T[1]"
   ]
  },
  {
   "cell_type": "code",
   "execution_count": null,
   "metadata": {
    "ExecuteTime": {
     "end_time": "2024-08-30T22:01:08.911628Z",
     "start_time": "2024-08-30T22:01:08.904626Z"
    }
   },
   "outputs": [],
   "source": [
    "dtc_test_valid_df = pd.DataFrame(\n",
    "    {\n",
    "        'prob_y': prob_test_y,\n",
    "        'pred_y': pred_test_y,\n",
    "        target: test_y\n",
    "    }\n",
    ")\n",
    "dtc_test_valid_df.head()"
   ]
  },
  {
   "cell_type": "code",
   "execution_count": null,
   "metadata": {
    "ExecuteTime": {
     "end_time": "2024-08-30T22:01:08.921130Z",
     "start_time": "2024-08-30T22:01:08.913608Z"
    }
   },
   "outputs": [],
   "source": [
    "# accuracy\n",
    "dtc_test_accuracy_val = accuracy_score(\n",
    "    dtc_test_valid_df[target],\n",
    "    dtc_test_valid_df['pred_y']\n",
    ")\n",
    "\n",
    "# auc\n",
    "dtc_test_auc_val = roc_auc_score(\n",
    "    dtc_test_valid_df[target],\n",
    "    dtc_test_valid_df['prob_y']\n",
    ")\n",
    "\n",
    "print('accuracy:', dtc_test_accuracy_val)\n",
    "print('auc:', dtc_test_auc_val)"
   ]
  },
  {
   "cell_type": "code",
   "execution_count": null,
   "metadata": {},
   "outputs": [],
   "source": []
  },
  {
   "cell_type": "code",
   "execution_count": null,
   "metadata": {},
   "outputs": [],
   "source": []
  },
  {
   "cell_type": "code",
   "execution_count": null,
   "metadata": {},
   "outputs": [],
   "source": []
  },
  {
   "cell_type": "markdown",
   "metadata": {},
   "source": [
    "# Random Forest"
   ]
  },
  {
   "cell_type": "markdown",
   "metadata": {},
   "source": [
    "## create model"
   ]
  },
  {
   "cell_type": "code",
   "execution_count": null,
   "metadata": {
    "ExecuteTime": {
     "end_time": "2024-08-30T22:01:09.051873Z",
     "start_time": "2024-08-30T22:01:08.921651Z"
    },
    "scrolled": true
   },
   "outputs": [],
   "source": [
    "rfc = RandomForestClassifier(\n",
    "    bootstrap=True,\n",
    "    criterion='gini',\n",
    "    max_depth=11,\n",
    "    min_samples_leaf=5,\n",
    "    n_estimators=100,\n",
    "    random_state=57\n",
    ")\n",
    "rfc.fit(train_x, train_y)"
   ]
  },
  {
   "cell_type": "code",
   "execution_count": null,
   "metadata": {},
   "outputs": [],
   "source": []
  },
  {
   "cell_type": "markdown",
   "metadata": {},
   "source": [
    "## 寄与度分析"
   ]
  },
  {
   "cell_type": "code",
   "execution_count": null,
   "metadata": {
    "ExecuteTime": {
     "end_time": "2024-08-30T22:01:09.062714Z",
     "start_time": "2024-08-30T22:01:09.053874Z"
    }
   },
   "outputs": [],
   "source": [
    "# 説明変数\n",
    "features = train_x.columns\n",
    "\n",
    "# 寄与率\n",
    "rfc_importances = rfc.feature_importances_"
   ]
  },
  {
   "cell_type": "code",
   "execution_count": null,
   "metadata": {
    "ExecuteTime": {
     "end_time": "2024-08-30T22:01:09.235431Z",
     "start_time": "2024-08-30T22:01:09.064705Z"
    },
    "scrolled": true
   },
   "outputs": [],
   "source": [
    "# rfc_importances描き方\n",
    "rfc_importance_df = pd.DataFrame(\n",
    "    {'feature': features, 'importance':  rfc_importances}\n",
    ").sort_values(by='importance', ascending=True)\n",
    "\n",
    "rfc_importance_df.tail(10).plot(\n",
    "    x='feature',\n",
    "    y='importance',\n",
    "    kind='barh',\n",
    "    figsize=(12,9)\n",
    ")\n",
    "\n",
    "display(rfc_importance_df.sort_values(by='importance', ascending=False).head(10))"
   ]
  },
  {
   "cell_type": "code",
   "execution_count": null,
   "metadata": {},
   "outputs": [],
   "source": []
  },
  {
   "cell_type": "markdown",
   "metadata": {},
   "source": [
    "## 木の一つを可視化する"
   ]
  },
  {
   "cell_type": "code",
   "execution_count": null,
   "metadata": {
    "ExecuteTime": {
     "end_time": "2024-08-30T22:01:09.240867Z",
     "start_time": "2024-08-30T22:01:09.236425Z"
    }
   },
   "outputs": [],
   "source": [
    "# 試しに木の一つを視覚化する\n",
    "estimators = rfc.estimators_\n",
    "len(estimators)"
   ]
  },
  {
   "cell_type": "code",
   "execution_count": null,
   "metadata": {
    "ExecuteTime": {
     "end_time": "2024-08-30T22:01:10.001990Z",
     "start_time": "2024-08-30T22:01:09.241862Z"
    },
    "scrolled": true
   },
   "outputs": [],
   "source": [
    "# 可視化の設定\n",
    "plt.figure(\n",
    "    figsize=(10, 5), # 描画サイズ\n",
    "    facecolor='white', # 背景色\n",
    "    dpi=200 # 解像度\n",
    ")\n",
    "\n",
    "# 決定木の可視化\n",
    "tree.plot_tree(\n",
    "    decision_tree=estimators[0], # 決定木モデル\n",
    "    max_depth=3, # 表示する木の深さ\n",
    "    feature_names=features, # 説明変数名\n",
    "    class_names=['死亡', '生存'], # 目的変数の各クラス名\n",
    "    fontsize=4,\n",
    "    filled=True # ノードに色を付ける\n",
    ")"
   ]
  },
  {
   "cell_type": "code",
   "execution_count": null,
   "metadata": {},
   "outputs": [],
   "source": []
  },
  {
   "cell_type": "code",
   "execution_count": null,
   "metadata": {},
   "outputs": [],
   "source": []
  },
  {
   "cell_type": "markdown",
   "metadata": {},
   "source": [
    "## 精度評価"
   ]
  },
  {
   "cell_type": "markdown",
   "metadata": {},
   "source": [
    "### train"
   ]
  },
  {
   "cell_type": "code",
   "execution_count": null,
   "metadata": {
    "ExecuteTime": {
     "end_time": "2024-08-30T22:01:10.031901Z",
     "start_time": "2024-08-30T22:01:10.002978Z"
    }
   },
   "outputs": [],
   "source": [
    "# trainを予測\n",
    "pred_train_y = rfc.predict(train_x)\n",
    "\n",
    "# y=1である確率を予測\n",
    "prob_train_y = rfc.predict_proba(train_x).T[1]"
   ]
  },
  {
   "cell_type": "code",
   "execution_count": null,
   "metadata": {
    "ExecuteTime": {
     "end_time": "2024-08-30T22:01:10.053143Z",
     "start_time": "2024-08-30T22:01:10.045789Z"
    }
   },
   "outputs": [],
   "source": [
    "rfc_train_valid_df = pd.DataFrame(\n",
    "    {\n",
    "        'prob_y': prob_train_y,\n",
    "        'pred_y': pred_train_y,\n",
    "        target: train_y\n",
    "    }\n",
    ")\n",
    "rfc_train_valid_df.head()"
   ]
  },
  {
   "cell_type": "code",
   "execution_count": null,
   "metadata": {
    "ExecuteTime": {
     "end_time": "2024-08-30T22:01:10.061119Z",
     "start_time": "2024-08-30T22:01:10.055136Z"
    }
   },
   "outputs": [],
   "source": [
    "# accuracy\n",
    "rfc_train_accuracy_val = accuracy_score(\n",
    "    rfc_train_valid_df[target],\n",
    "    rfc_train_valid_df['pred_y']\n",
    ")\n",
    "\n",
    "# auc\n",
    "rfc_train_auc_val = roc_auc_score(\n",
    "    rfc_train_valid_df[target],\n",
    "    rfc_train_valid_df['prob_y']\n",
    ")\n",
    "\n",
    "print('accuracy:', rfc_train_accuracy_val)\n",
    "print('auc:', rfc_train_auc_val)"
   ]
  },
  {
   "cell_type": "code",
   "execution_count": null,
   "metadata": {},
   "outputs": [],
   "source": []
  },
  {
   "cell_type": "code",
   "execution_count": null,
   "metadata": {},
   "outputs": [],
   "source": []
  },
  {
   "cell_type": "markdown",
   "metadata": {},
   "source": [
    "### test"
   ]
  },
  {
   "cell_type": "code",
   "execution_count": null,
   "metadata": {
    "ExecuteTime": {
     "end_time": "2024-08-30T22:01:10.085463Z",
     "start_time": "2024-08-30T22:01:10.062249Z"
    }
   },
   "outputs": [],
   "source": [
    "# testを予測\n",
    "pred_test_y = rfc.predict(test_x)\n",
    "\n",
    "# y=1である確率を予測\n",
    "prob_test_y = rfc.predict_proba(test_x).T[1]"
   ]
  },
  {
   "cell_type": "code",
   "execution_count": null,
   "metadata": {
    "ExecuteTime": {
     "end_time": "2024-08-30T22:01:10.093459Z",
     "start_time": "2024-08-30T22:01:10.086459Z"
    }
   },
   "outputs": [],
   "source": [
    "rfc_test_valid_df = pd.DataFrame(\n",
    "    {\n",
    "        'prob_y': prob_test_y,\n",
    "        'pred_y': pred_test_y,\n",
    "        target: test_y\n",
    "    }\n",
    ")\n",
    "rfc_test_valid_df.head()"
   ]
  },
  {
   "cell_type": "code",
   "execution_count": null,
   "metadata": {
    "ExecuteTime": {
     "end_time": "2024-08-30T22:01:10.101444Z",
     "start_time": "2024-08-30T22:01:10.094448Z"
    }
   },
   "outputs": [],
   "source": [
    "# accuracy\n",
    "rfc_test_accuracy_val = accuracy_score(\n",
    "    rfc_test_valid_df[target],\n",
    "    rfc_test_valid_df['pred_y']\n",
    ")\n",
    "\n",
    "# auc\n",
    "rfc_test_auc_val = roc_auc_score(\n",
    "    rfc_test_valid_df[target],\n",
    "    rfc_test_valid_df['prob_y']\n",
    ")\n",
    "\n",
    "print('accuracy:', rfc_test_accuracy_val)\n",
    "print('auc:', rfc_test_auc_val)"
   ]
  },
  {
   "cell_type": "code",
   "execution_count": null,
   "metadata": {},
   "outputs": [],
   "source": []
  },
  {
   "cell_type": "code",
   "execution_count": null,
   "metadata": {},
   "outputs": [],
   "source": []
  },
  {
   "cell_type": "markdown",
   "metadata": {},
   "source": [
    "## 精度評価の結果を再確認\n",
    "\n",
    "- 今回作ったモデルについては決定木の方が過学習気味であり，ランダムフォレストの方が汎化性能が高い"
   ]
  },
  {
   "cell_type": "code",
   "execution_count": null,
   "metadata": {
    "ExecuteTime": {
     "end_time": "2024-08-30T22:01:10.106377Z",
     "start_time": "2024-08-30T22:01:10.102947Z"
    }
   },
   "outputs": [],
   "source": [
    "print('dtc train accuracy:', dtc_train_accuracy_val)\n",
    "print('dtc test accuracy:', dtc_test_accuracy_val)\n",
    "print('=' * 60)\n",
    "print('rfc train accuracy:', rfc_train_accuracy_val)\n",
    "print('rfc test accuracy:', rfc_test_accuracy_val)"
   ]
  },
  {
   "cell_type": "code",
   "execution_count": null,
   "metadata": {
    "ExecuteTime": {
     "end_time": "2024-08-30T22:01:10.113682Z",
     "start_time": "2024-08-30T22:01:10.107371Z"
    }
   },
   "outputs": [],
   "source": [
    "print('dtc train auc:', dtc_train_auc_val)\n",
    "print('dtc test auc:', dtc_test_auc_val)\n",
    "print('=' * 60)\n",
    "print('rfc train auc:', rfc_train_auc_val)\n",
    "print('rfc test auc:', rfc_test_auc_val)"
   ]
  },
  {
   "cell_type": "code",
   "execution_count": null,
   "metadata": {},
   "outputs": [],
   "source": []
  },
  {
   "cell_type": "code",
   "execution_count": null,
   "metadata": {},
   "outputs": [],
   "source": []
  },
  {
   "cell_type": "code",
   "execution_count": null,
   "metadata": {},
   "outputs": [],
   "source": []
  }
 ],
 "metadata": {
  "kernelspec": {
   "display_name": "Python 3 (ipykernel)",
   "language": "python",
   "name": "python3"
  },
  "language_info": {
   "codemirror_mode": {
    "name": "ipython",
    "version": 3
   },
   "file_extension": ".py",
   "mimetype": "text/x-python",
   "name": "python",
   "nbconvert_exporter": "python",
   "pygments_lexer": "ipython3",
   "version": "3.11.5"
  },
  "latex_envs": {
   "LaTeX_envs_menu_present": true,
   "autoclose": false,
   "autocomplete": true,
   "bibliofile": "biblio.bib",
   "cite_by": "apalike",
   "current_citInitial": 1,
   "eqLabelWithNumbers": true,
   "eqNumInitial": 1,
   "hotkeys": {
    "equation": "Ctrl-E",
    "itemize": "Ctrl-I"
   },
   "labels_anchors": false,
   "latex_user_defs": false,
   "report_style_numbering": false,
   "user_envs_cfg": false
  },
  "toc": {
   "base_numbering": 1,
   "nav_menu": {},
   "number_sections": true,
   "sideBar": true,
   "skip_h1_title": false,
   "title_cell": "Table of Contents",
   "title_sidebar": "Contents",
   "toc_cell": false,
   "toc_position": {
    "height": "calc(100% - 180px)",
    "left": "10px",
    "top": "150px",
    "width": "288px"
   },
   "toc_section_display": true,
   "toc_window_display": true
  },
  "varInspector": {
   "cols": {
    "lenName": 16,
    "lenType": 16,
    "lenVar": 40
   },
   "kernels_config": {
    "python": {
     "delete_cmd_postfix": "",
     "delete_cmd_prefix": "del ",
     "library": "var_list.py",
     "varRefreshCmd": "print(var_dic_list())"
    },
    "r": {
     "delete_cmd_postfix": ") ",
     "delete_cmd_prefix": "rm(",
     "library": "var_list.r",
     "varRefreshCmd": "cat(var_dic_list()) "
    }
   },
   "types_to_exclude": [
    "module",
    "function",
    "builtin_function_or_method",
    "instance",
    "_Feature"
   ],
   "window_display": false
  }
 },
 "nbformat": 4,
 "nbformat_minor": 2
}
