{
 "cells": [
  {
   "cell_type": "markdown",
   "metadata": {},
   "source": [
    "# データ分析とモデル作成sample\n",
    "\n",
    "## 内容\n",
    "\n",
    "- タイタニックのデータを使用して，データ分析とモデル作成を行う"
   ]
  },
  {
   "cell_type": "markdown",
   "metadata": {},
   "source": [
    "# Load modules"
   ]
  },
  {
   "cell_type": "markdown",
   "metadata": {},
   "source": [
    "ライブラリ読み込み"
   ]
  },
  {
   "cell_type": "code",
   "execution_count": null,
   "metadata": {
    "ExecuteTime": {
     "end_time": "2022-09-10T00:53:08.516730Z",
     "start_time": "2022-09-10T00:53:07.001783Z"
    },
    "code_folding": []
   },
   "outputs": [],
   "source": [
    "# ライブラリ読み込み\n",
    "import sys, os\n",
    "import time\n",
    "import gc\n",
    "from datetime import datetime as dt\n",
    "import numpy as np\n",
    "import pandas as pd\n",
    "import random\n",
    "import matplotlib.pyplot as plt\n",
    "import japanize_matplotlib\n",
    "\n",
    "import re # 正規表現\n",
    "\n",
    "import seaborn as sns\n",
    "\n",
    "from sklearn import tree\n",
    "from sklearn.tree import DecisionTreeClassifier\n",
    "from sklearn.ensemble import RandomForestClassifier\n",
    "\n",
    "from sklearn.model_selection import train_test_split\n",
    "from sklearn.model_selection import GridSearchCV\n",
    "\n",
    "# 評価関数\n",
    "from sklearn.metrics import confusion_matrix\n",
    "from sklearn.metrics import accuracy_score\n",
    "from sklearn.metrics import f1_score\n",
    "from sklearn.metrics import precision_score\n",
    "from sklearn.metrics import recall_score\n",
    "\n",
    "%matplotlib inline"
   ]
  },
  {
   "cell_type": "code",
   "execution_count": null,
   "metadata": {
    "ExecuteTime": {
     "end_time": "2022-09-10T00:53:08.578566Z",
     "start_time": "2022-09-10T00:53:08.517728Z"
    },
    "scrolled": true
   },
   "outputs": [],
   "source": [
    "gc.collect()"
   ]
  },
  {
   "cell_type": "markdown",
   "metadata": {},
   "source": [
    "# Configuration"
   ]
  },
  {
   "cell_type": "markdown",
   "metadata": {},
   "source": [
    "## warningの非表示"
   ]
  },
  {
   "cell_type": "code",
   "execution_count": null,
   "metadata": {
    "ExecuteTime": {
     "end_time": "2022-09-10T00:53:08.586544Z",
     "start_time": "2022-09-10T00:53:08.579564Z"
    }
   },
   "outputs": [],
   "source": [
    "import warnings\n",
    "warnings.filterwarnings('ignore')"
   ]
  },
  {
   "cell_type": "markdown",
   "metadata": {},
   "source": [
    "## 左寄せにするマジックコマンド"
   ]
  },
  {
   "cell_type": "code",
   "execution_count": null,
   "metadata": {
    "ExecuteTime": {
     "end_time": "2022-09-10T00:53:08.592528Z",
     "start_time": "2022-09-10T00:53:08.587542Z"
    }
   },
   "outputs": [],
   "source": [
    "%%html\n",
    "<style>\n",
    "    table{float:left}\n",
    "    .MathJax{float: left;}\n",
    "</style>"
   ]
  },
  {
   "cell_type": "markdown",
   "metadata": {},
   "source": [
    "## データフレームの表示設定"
   ]
  },
  {
   "cell_type": "code",
   "execution_count": null,
   "metadata": {
    "ExecuteTime": {
     "end_time": "2022-09-10T00:53:08.598513Z",
     "start_time": "2022-09-10T00:53:08.593526Z"
    }
   },
   "outputs": [],
   "source": [
    "# データフレームの表示行数、表示列数\n",
    "pd.set_option('display.max_columns', 100)\n",
    "pd.set_option('display.max_rows', 200)\n",
    "\n",
    "# カラム内の文字数。デフォルトは50。\n",
    "pd.set_option('display.max_colwidth', 100)"
   ]
  },
  {
   "cell_type": "code",
   "execution_count": null,
   "metadata": {},
   "outputs": [],
   "source": []
  },
  {
   "cell_type": "markdown",
   "metadata": {},
   "source": [
    "# Constants"
   ]
  },
  {
   "cell_type": "markdown",
   "metadata": {},
   "source": [
    "## paths"
   ]
  },
  {
   "cell_type": "code",
   "execution_count": null,
   "metadata": {
    "ExecuteTime": {
     "end_time": "2022-09-10T00:53:08.604496Z",
     "start_time": "2022-09-10T00:53:08.599510Z"
    }
   },
   "outputs": [],
   "source": [
    "input_dpath = '../input/'\n",
    "output_dpath = '../output/'"
   ]
  },
  {
   "cell_type": "markdown",
   "metadata": {},
   "source": [
    "# Functions"
   ]
  },
  {
   "cell_type": "markdown",
   "metadata": {},
   "source": [
    "## 数値計算"
   ]
  },
  {
   "cell_type": "markdown",
   "metadata": {},
   "source": [
    "### 数字を四捨五入で丸める"
   ]
  },
  {
   "cell_type": "code",
   "execution_count": null,
   "metadata": {
    "ExecuteTime": {
     "end_time": "2022-09-10T00:53:08.612475Z",
     "start_time": "2022-09-10T00:53:08.605494Z"
    },
    "code_folding": [
     0
    ]
   },
   "outputs": [],
   "source": [
    "def pro_round(num, ndigits=0):\n",
    "    \"\"\"\n",
    "    数字を四捨五入で丸める。\n",
    "\n",
    "    Args:\n",
    "        num: int or float\n",
    "            丸めたい数字。\n",
    "\n",
    "        ndigits: int, optional(default=0)\n",
    "            丸めた後の小数部分の桁数。\n",
    "\n",
    "    Returns:\n",
    "        rounded: int or float\n",
    "            丸めた後の数字。\n",
    "    \"\"\"\n",
    "    num *= 10 ** ndigits\n",
    "    rounded = ( 2* num + 1 ) // 2\n",
    "    rounded /= 10 ** ndigits\n",
    "\n",
    "    if ndigits == 0:\n",
    "        rounded = int(rounded)\n",
    "\n",
    "    return rounded"
   ]
  },
  {
   "cell_type": "markdown",
   "metadata": {},
   "source": [
    "### スタージェスの公式"
   ]
  },
  {
   "cell_type": "code",
   "execution_count": null,
   "metadata": {
    "ExecuteTime": {
     "end_time": "2022-09-10T00:53:08.620454Z",
     "start_time": "2022-09-10T00:53:08.613472Z"
    },
    "code_folding": [
     0
    ]
   },
   "outputs": [],
   "source": [
    "def sturges_rule(num):\n",
    "    \"\"\"\n",
    "    スタージェスの公式を用いて、\n",
    "    サンプルサイズから階級(カテゴリ、ビン(bins))の数を計算する。\n",
    "    公式のTeX表記: \\[bins = 1 + \\log_2{N} \\nonumber \\]\n",
    "\n",
    "    Args:\n",
    "        num: int\n",
    "            サンプルサイズ。原則1以上の整数を想定。\n",
    "    \n",
    "    Returns:\n",
    "        n_bins: int\n",
    "            スタージェスの公式から導かれた適切な階級の数。\n",
    "    \"\"\"\n",
    "    # numが0以下の時は1を返す\n",
    "    if num <= 0:\n",
    "        num = 1\n",
    "        return 1\n",
    "    \n",
    "    # スタージェスの公式\n",
    "    n_bins = int(pro_round(1 + np.log2(num), 0))\n",
    "    \n",
    "    return n_bins"
   ]
  },
  {
   "cell_type": "markdown",
   "metadata": {},
   "source": [
    "# Load data"
   ]
  },
  {
   "cell_type": "markdown",
   "metadata": {},
   "source": [
    "## データ準備"
   ]
  },
  {
   "cell_type": "code",
   "execution_count": null,
   "metadata": {
    "ExecuteTime": {
     "end_time": "2022-09-10T00:53:08.632422Z",
     "start_time": "2022-09-10T00:53:08.622449Z"
    }
   },
   "outputs": [],
   "source": [
    "# タイタニックデータ\n",
    "# seabornからロード\n",
    "titanic_df = sns.load_dataset('titanic')"
   ]
  },
  {
   "cell_type": "code",
   "execution_count": null,
   "metadata": {},
   "outputs": [],
   "source": []
  },
  {
   "cell_type": "markdown",
   "metadata": {},
   "source": [
    "# Explatory data analysis"
   ]
  },
  {
   "cell_type": "markdown",
   "metadata": {},
   "source": [
    "## 基本的な情報を確認"
   ]
  },
  {
   "cell_type": "code",
   "execution_count": null,
   "metadata": {
    "ExecuteTime": {
     "end_time": "2022-09-10T00:53:08.654363Z",
     "start_time": "2022-09-10T00:53:08.634416Z"
    }
   },
   "outputs": [],
   "source": [
    "# 上から3行読む\n",
    "titanic_df.head(3)"
   ]
  },
  {
   "cell_type": "code",
   "execution_count": null,
   "metadata": {
    "ExecuteTime": {
     "end_time": "2022-09-10T00:53:08.672315Z",
     "start_time": "2022-09-10T00:53:08.655360Z"
    }
   },
   "outputs": [],
   "source": [
    "# head()の中を何も指定しないと5行読み込む扱い\n",
    "titanic_df.head()"
   ]
  },
  {
   "cell_type": "code",
   "execution_count": null,
   "metadata": {
    "ExecuteTime": {
     "end_time": "2022-09-10T00:53:08.688273Z",
     "start_time": "2022-09-10T00:53:08.673312Z"
    }
   },
   "outputs": [],
   "source": [
    "# tail()は最後の5行\n",
    "titanic_df.tail()"
   ]
  },
  {
   "cell_type": "code",
   "execution_count": null,
   "metadata": {
    "ExecuteTime": {
     "end_time": "2022-09-10T00:53:08.694257Z",
     "start_time": "2022-09-10T00:53:08.689270Z"
    }
   },
   "outputs": [],
   "source": [
    "# (行数, 列数)を確認\n",
    "titanic_df.shape"
   ]
  },
  {
   "cell_type": "markdown",
   "metadata": {},
   "source": [
    "## 基本統計量を見る"
   ]
  },
  {
   "cell_type": "code",
   "execution_count": null,
   "metadata": {
    "ExecuteTime": {
     "end_time": "2022-09-10T00:53:08.714204Z",
     "start_time": "2022-09-10T00:53:08.695254Z"
    }
   },
   "outputs": [],
   "source": [
    "# 基本統計量を見る\n",
    "titanic_df.describe()"
   ]
  },
  {
   "cell_type": "markdown",
   "metadata": {},
   "source": [
    "## 相関を見る"
   ]
  },
  {
   "cell_type": "code",
   "execution_count": null,
   "metadata": {
    "ExecuteTime": {
     "end_time": "2022-09-10T00:53:08.728165Z",
     "start_time": "2022-09-10T00:53:08.715200Z"
    }
   },
   "outputs": [],
   "source": [
    "corr = titanic_df.corr()\n",
    "corr"
   ]
  },
  {
   "cell_type": "code",
   "execution_count": null,
   "metadata": {
    "ExecuteTime": {
     "end_time": "2022-09-10T00:53:08.967526Z",
     "start_time": "2022-09-10T00:53:08.729163Z"
    }
   },
   "outputs": [],
   "source": [
    "# ヒートマップで表示も可能\n",
    "sns.heatmap(corr)"
   ]
  },
  {
   "cell_type": "markdown",
   "metadata": {},
   "source": [
    "### 相関係数(の絶対値)が高い順に並べる"
   ]
  },
  {
   "cell_type": "code",
   "execution_count": null,
   "metadata": {
    "ExecuteTime": {
     "end_time": "2022-09-10T00:53:08.973509Z",
     "start_time": "2022-09-10T00:53:08.969521Z"
    }
   },
   "outputs": [],
   "source": [
    "# 目的変数\n",
    "target = 'survived'"
   ]
  },
  {
   "cell_type": "code",
   "execution_count": null,
   "metadata": {
    "ExecuteTime": {
     "end_time": "2022-09-10T00:53:09.380421Z",
     "start_time": "2022-09-10T00:53:08.974507Z"
    },
    "scrolled": true
   },
   "outputs": [],
   "source": [
    "# 相関係数の絶対値が高い順に並べる\n",
    "corr0 = corr[[target]]\n",
    "corr0['abs_corr'] = corr0[target].abs()\n",
    "corr0 = corr0.sort_values(by='abs_corr', ascending=False)\n",
    "corr0"
   ]
  },
  {
   "cell_type": "code",
   "execution_count": null,
   "metadata": {},
   "outputs": [],
   "source": []
  },
  {
   "cell_type": "markdown",
   "metadata": {},
   "source": [
    "以下2つは同じ\n",
    "titanic_df['pclass']\n",
    "titanic_df.pclass"
   ]
  },
  {
   "cell_type": "markdown",
   "metadata": {},
   "source": [
    "## 度数を見てみる"
   ]
  },
  {
   "cell_type": "markdown",
   "metadata": {},
   "source": [
    "### pclass"
   ]
  },
  {
   "cell_type": "code",
   "execution_count": null,
   "metadata": {
    "ExecuteTime": {
     "end_time": "2022-09-10T00:53:09.388400Z",
     "start_time": "2022-09-10T00:53:09.381419Z"
    },
    "scrolled": false
   },
   "outputs": [],
   "source": [
    "titanic_df.pclass.value_counts()"
   ]
  },
  {
   "cell_type": "markdown",
   "metadata": {},
   "source": [
    "### 性別"
   ]
  },
  {
   "cell_type": "code",
   "execution_count": null,
   "metadata": {
    "ExecuteTime": {
     "end_time": "2022-09-10T00:53:09.396380Z",
     "start_time": "2022-09-10T00:53:09.389398Z"
    }
   },
   "outputs": [],
   "source": [
    "titanic_df.sex.value_counts()"
   ]
  },
  {
   "cell_type": "code",
   "execution_count": null,
   "metadata": {},
   "outputs": [],
   "source": []
  },
  {
   "cell_type": "markdown",
   "metadata": {},
   "source": [
    "## 各変数の尺度を確認することが重要"
   ]
  },
  {
   "cell_type": "markdown",
   "metadata": {},
   "source": [
    "参考: http://www.gen-info.osaka-u.ac.jp/MEPHAS/express/express0.html  \n",
    "  \n",
    "- 順序尺度以上：順序尺度・間隔尺度・比例尺度のいずれかである場合です  \n",
    "- 間隔尺度以上：間隔尺度・比例尺度のいずれかである場合です  \n",
    "  \n",
    "### 名義尺度\n",
    "単に区別するために用いられている尺度。  \n",
    "例えば、血液型でＡ型・Ｂ型・Ｏ型・ＡＢ型を、 それぞれ０・１・２・３と数値に対応させたもの。  \n",
    "これらの変数の平均値を求めてもまったく意味がありません。  \n",
    "  \n",
    "### 順序尺度\n",
    "大小関係にのみ意味がある尺度。  \n",
    "例えば、治療効果の判定において、 悪化・不変・改善・著効を、それぞれ-１・０・１・２と数値に対応させたもの。  \n",
    "平均値は定義できないが中央値は定義できます。  \n",
    "  \n",
    "### 間隔尺度\n",
    "数値の差のみに意味がある尺度。  \n",
    "「距離尺度」とも呼びます。順序尺度の性質も備えています。  \n",
    "例えば、温度が10℃から15℃になったときに、50％の温度上昇があったとはいいません。 温度が10℃から15℃になったときも、100℃から105℃になったときも、 ともに５℃の温度上昇です。そして、５℃という数値には意味があります。  \n",
    "  \n",
    "### 比例尺度\n",
    "数値の差とともに数値の比にも意味がある尺度。  \n",
    "「比尺度」とも呼びます。順序尺度・間隔尺度の性質も備えています。  \n",
    "例えば、体重は50kgから60kgになったときと、100kgから110kgになったときとは、 同じ10kgの増加であっても、前者は20％増、後者は10％増です。 また、比が定義できるということは絶対零点を持つことと同じことを表します。  "
   ]
  },
  {
   "cell_type": "markdown",
   "metadata": {},
   "source": [
    "## Excelで保存してみる"
   ]
  },
  {
   "cell_type": "markdown",
   "metadata": {},
   "source": [
    "to_excel(ファイル名, index=(indexをつけるかどうか))"
   ]
  },
  {
   "cell_type": "code",
   "execution_count": null,
   "metadata": {
    "ExecuteTime": {
     "end_time": "2022-09-10T00:53:09.402363Z",
     "start_time": "2022-09-10T00:53:09.397377Z"
    }
   },
   "outputs": [],
   "source": [
    "titanic_fpath = f'{input_dpath}titanic_20220910.xlsx'"
   ]
  },
  {
   "cell_type": "code",
   "execution_count": null,
   "metadata": {
    "ExecuteTime": {
     "end_time": "2022-09-10T00:53:09.677626Z",
     "start_time": "2022-09-10T00:53:09.404358Z"
    }
   },
   "outputs": [],
   "source": [
    "# 保存する\n",
    "titanic_df.to_excel(titanic_fpath, index=False)"
   ]
  },
  {
   "cell_type": "markdown",
   "metadata": {},
   "source": [
    "## Excelを読み込む"
   ]
  },
  {
   "cell_type": "code",
   "execution_count": null,
   "metadata": {
    "ExecuteTime": {
     "end_time": "2022-09-10T00:53:09.994779Z",
     "start_time": "2022-09-10T00:53:09.678624Z"
    }
   },
   "outputs": [],
   "source": [
    "# 読み込む\n",
    "nakami_df = pd.read_excel(titanic_fpath)\n",
    "nakami_df.head(3)"
   ]
  },
  {
   "cell_type": "code",
   "execution_count": null,
   "metadata": {},
   "outputs": [],
   "source": []
  },
  {
   "cell_type": "markdown",
   "metadata": {},
   "source": [
    "# Preprocessing"
   ]
  },
  {
   "cell_type": "code",
   "execution_count": null,
   "metadata": {
    "ExecuteTime": {
     "end_time": "2022-09-10T00:53:10.006747Z",
     "start_time": "2022-09-10T00:53:09.995776Z"
    },
    "scrolled": true
   },
   "outputs": [],
   "source": [
    "df = titanic_df.copy()\n",
    "df.head(3)"
   ]
  },
  {
   "cell_type": "code",
   "execution_count": null,
   "metadata": {
    "ExecuteTime": {
     "end_time": "2022-09-10T00:53:10.012731Z",
     "start_time": "2022-09-10T00:53:10.007744Z"
    }
   },
   "outputs": [],
   "source": [
    "df.shape"
   ]
  },
  {
   "cell_type": "code",
   "execution_count": null,
   "metadata": {},
   "outputs": [],
   "source": []
  },
  {
   "cell_type": "markdown",
   "metadata": {},
   "source": [
    "## leakage対策"
   ]
  },
  {
   "cell_type": "markdown",
   "metadata": {},
   "source": [
    "leakageについて  \n",
    "https://www.datarobot.com/jp/wiki/target-leakage/"
   ]
  },
  {
   "cell_type": "markdown",
   "metadata": {},
   "source": [
    "### aliveがsurvivedの情報を含んでいるのでaliveカラムを削除"
   ]
  },
  {
   "cell_type": "code",
   "execution_count": null,
   "metadata": {
    "ExecuteTime": {
     "end_time": "2022-09-10T00:53:10.024699Z",
     "start_time": "2022-09-10T00:53:10.013728Z"
    },
    "scrolled": true
   },
   "outputs": [],
   "source": [
    "# 重複した行を削除\n",
    "df[[target, 'alive']].drop_duplicates()"
   ]
  },
  {
   "cell_type": "code",
   "execution_count": null,
   "metadata": {
    "ExecuteTime": {
     "end_time": "2022-09-10T00:53:10.038661Z",
     "start_time": "2022-09-10T00:53:10.025696Z"
    }
   },
   "outputs": [],
   "source": [
    "df = df.drop('alive', axis=1)\n",
    "df.head(3)"
   ]
  },
  {
   "cell_type": "code",
   "execution_count": null,
   "metadata": {},
   "outputs": [],
   "source": []
  },
  {
   "cell_type": "markdown",
   "metadata": {},
   "source": [
    "## 欠損処理"
   ]
  },
  {
   "cell_type": "markdown",
   "metadata": {},
   "source": [
    "### 今回は簡易的に考えるため欠損は削除する"
   ]
  },
  {
   "cell_type": "code",
   "execution_count": null,
   "metadata": {
    "ExecuteTime": {
     "end_time": "2022-09-10T00:53:10.048635Z",
     "start_time": "2022-09-10T00:53:10.042651Z"
    }
   },
   "outputs": [],
   "source": [
    "df.shape"
   ]
  },
  {
   "cell_type": "code",
   "execution_count": null,
   "metadata": {},
   "outputs": [],
   "source": []
  },
  {
   "cell_type": "code",
   "execution_count": null,
   "metadata": {
    "ExecuteTime": {
     "end_time": "2022-09-10T00:53:10.056613Z",
     "start_time": "2022-09-10T00:53:10.049633Z"
    }
   },
   "outputs": [],
   "source": [
    "df = df.dropna(\n",
    "    axis=0,\n",
    "    subset=[\n",
    "        'survived',\n",
    "        'pclass',\n",
    "        'age',\n",
    "        'sibsp',\n",
    "        'parch',\n",
    "        'fare',\n",
    "        'class',\n",
    "        'who',\n",
    "        'adult_male'\n",
    "    ]\n",
    ")"
   ]
  },
  {
   "cell_type": "code",
   "execution_count": null,
   "metadata": {
    "ExecuteTime": {
     "end_time": "2022-09-10T00:53:10.062597Z",
     "start_time": "2022-09-10T00:53:10.057611Z"
    }
   },
   "outputs": [],
   "source": [
    "df.shape"
   ]
  },
  {
   "cell_type": "code",
   "execution_count": null,
   "metadata": {},
   "outputs": [],
   "source": []
  },
  {
   "cell_type": "markdown",
   "metadata": {},
   "source": [
    "## 型を修正"
   ]
  },
  {
   "cell_type": "code",
   "execution_count": null,
   "metadata": {
    "ExecuteTime": {
     "end_time": "2022-09-10T00:53:10.070575Z",
     "start_time": "2022-09-10T00:53:10.064592Z"
    }
   },
   "outputs": [],
   "source": [
    "df.columns.tolist()"
   ]
  },
  {
   "cell_type": "code",
   "execution_count": null,
   "metadata": {
    "ExecuteTime": {
     "end_time": "2022-09-10T00:53:10.076560Z",
     "start_time": "2022-09-10T00:53:10.071574Z"
    }
   },
   "outputs": [],
   "source": [
    "int_cols = [\n",
    "    'pclass',\n",
    "    'age',\n",
    "    'sibsp',\n",
    "    'parch'\n",
    "]"
   ]
  },
  {
   "cell_type": "code",
   "execution_count": null,
   "metadata": {
    "ExecuteTime": {
     "end_time": "2022-09-10T00:53:10.084539Z",
     "start_time": "2022-09-10T00:53:10.078555Z"
    }
   },
   "outputs": [],
   "source": [
    "for col in int_cols:\n",
    "    \n",
    "    # int型にする\n",
    "    df[col] = df[col].astype(int)"
   ]
  },
  {
   "cell_type": "code",
   "execution_count": null,
   "metadata": {},
   "outputs": [],
   "source": []
  },
  {
   "cell_type": "markdown",
   "metadata": {},
   "source": [
    "## 階級に分ける"
   ]
  },
  {
   "cell_type": "markdown",
   "metadata": {},
   "source": [
    "### 階級に分けるカラムの指定"
   ]
  },
  {
   "cell_type": "code",
   "execution_count": null,
   "metadata": {
    "ExecuteTime": {
     "end_time": "2022-09-10T00:53:10.090523Z",
     "start_time": "2022-09-10T00:53:10.085536Z"
    }
   },
   "outputs": [],
   "source": [
    "cls_cols = ['age', 'fare']"
   ]
  },
  {
   "cell_type": "markdown",
   "metadata": {},
   "source": [
    "### 階級数をスタージェスの公式で計算"
   ]
  },
  {
   "cell_type": "code",
   "execution_count": null,
   "metadata": {
    "ExecuteTime": {
     "end_time": "2022-09-10T00:53:10.098502Z",
     "start_time": "2022-09-10T00:53:10.091521Z"
    }
   },
   "outputs": [],
   "source": [
    "n_class = sturges_rule(len(df))\n",
    "n_class"
   ]
  },
  {
   "cell_type": "markdown",
   "metadata": {},
   "source": [
    "### 階級に分ける場合\n",
    "\n",
    "- 参考: [pandasのcut, qcut関数でビニング処理（ビン分割）](https://note.nkmk.me/python-pandas-cut-qcut-binning/)"
   ]
  },
  {
   "cell_type": "code",
   "execution_count": null,
   "metadata": {
    "ExecuteTime": {
     "end_time": "2022-09-10T00:53:10.108476Z",
     "start_time": "2022-09-10T00:53:10.100497Z"
    }
   },
   "outputs": [],
   "source": [
    "df['age'].value_counts().head()"
   ]
  },
  {
   "cell_type": "code",
   "execution_count": null,
   "metadata": {
    "ExecuteTime": {
     "end_time": "2022-09-10T00:53:10.114459Z",
     "start_time": "2022-09-10T00:53:10.109473Z"
    }
   },
   "outputs": [],
   "source": [
    "# ユニーク数の確認\n",
    "df['age'].nunique()"
   ]
  },
  {
   "cell_type": "code",
   "execution_count": null,
   "metadata": {
    "ExecuteTime": {
     "end_time": "2022-09-10T00:53:10.122437Z",
     "start_time": "2022-09-10T00:53:10.115457Z"
    }
   },
   "outputs": [],
   "source": [
    "# 階級に分ける(ビニング処理)\n",
    "df['age_splitted'] = pd.cut(df['age'], bins=n_class)"
   ]
  },
  {
   "cell_type": "code",
   "execution_count": null,
   "metadata": {
    "ExecuteTime": {
     "end_time": "2022-09-10T00:53:10.130415Z",
     "start_time": "2022-09-10T00:53:10.123435Z"
    }
   },
   "outputs": [],
   "source": [
    "df['age_splitted'].value_counts().head()"
   ]
  },
  {
   "cell_type": "code",
   "execution_count": null,
   "metadata": {
    "ExecuteTime": {
     "end_time": "2022-09-10T00:53:10.136400Z",
     "start_time": "2022-09-10T00:53:10.131413Z"
    }
   },
   "outputs": [],
   "source": [
    "# ユニーク数の確認\n",
    "df['age_splitted'].nunique()"
   ]
  },
  {
   "cell_type": "code",
   "execution_count": null,
   "metadata": {},
   "outputs": [],
   "source": []
  },
  {
   "cell_type": "code",
   "execution_count": null,
   "metadata": {
    "ExecuteTime": {
     "end_time": "2022-09-10T00:53:10.144379Z",
     "start_time": "2022-09-10T00:53:10.137398Z"
    }
   },
   "outputs": [],
   "source": [
    "df['fare'].value_counts().head()"
   ]
  },
  {
   "cell_type": "code",
   "execution_count": null,
   "metadata": {
    "ExecuteTime": {
     "end_time": "2022-09-10T00:53:10.150362Z",
     "start_time": "2022-09-10T00:53:10.145376Z"
    }
   },
   "outputs": [],
   "source": [
    "# ユニーク数の確認\n",
    "df['fare'].nunique()"
   ]
  },
  {
   "cell_type": "code",
   "execution_count": null,
   "metadata": {
    "ExecuteTime": {
     "end_time": "2022-09-10T00:53:10.158341Z",
     "start_time": "2022-09-10T00:53:10.152358Z"
    }
   },
   "outputs": [],
   "source": [
    "# 階級に分ける(ビニング処理)\n",
    "df['fare_splitted'] = pd.cut(df['fare'], bins=n_class)"
   ]
  },
  {
   "cell_type": "code",
   "execution_count": null,
   "metadata": {
    "ExecuteTime": {
     "end_time": "2022-09-10T00:53:10.166320Z",
     "start_time": "2022-09-10T00:53:10.159339Z"
    }
   },
   "outputs": [],
   "source": [
    "df['fare_splitted'].value_counts().head()"
   ]
  },
  {
   "cell_type": "code",
   "execution_count": null,
   "metadata": {
    "ExecuteTime": {
     "end_time": "2022-09-10T00:53:10.172304Z",
     "start_time": "2022-09-10T00:53:10.167318Z"
    }
   },
   "outputs": [],
   "source": [
    "# ユニーク数の確認\n",
    "df['fare_splitted'].nunique()"
   ]
  },
  {
   "cell_type": "code",
   "execution_count": null,
   "metadata": {},
   "outputs": [],
   "source": []
  },
  {
   "cell_type": "code",
   "execution_count": null,
   "metadata": {},
   "outputs": [],
   "source": []
  },
  {
   "cell_type": "markdown",
   "metadata": {},
   "source": [
    "## ダミー変数化"
   ]
  },
  {
   "cell_type": "markdown",
   "metadata": {},
   "source": [
    "### カテゴリ変数のカラムの指定"
   ]
  },
  {
   "cell_type": "code",
   "execution_count": null,
   "metadata": {
    "ExecuteTime": {
     "end_time": "2022-09-10T00:53:10.188261Z",
     "start_time": "2022-09-10T00:53:10.173302Z"
    }
   },
   "outputs": [],
   "source": [
    "df.head()"
   ]
  },
  {
   "cell_type": "code",
   "execution_count": null,
   "metadata": {
    "ExecuteTime": {
     "end_time": "2022-09-10T00:53:10.196240Z",
     "start_time": "2022-09-10T00:53:10.189259Z"
    },
    "scrolled": true
   },
   "outputs": [],
   "source": [
    "df.nunique()"
   ]
  },
  {
   "cell_type": "code",
   "execution_count": null,
   "metadata": {},
   "outputs": [],
   "source": []
  },
  {
   "cell_type": "code",
   "execution_count": null,
   "metadata": {
    "ExecuteTime": {
     "end_time": "2022-09-10T00:53:10.202224Z",
     "start_time": "2022-09-10T00:53:10.197237Z"
    }
   },
   "outputs": [],
   "source": [
    "# カテゴリ変数のカラム\n",
    "cate_cols = df.columns.tolist()\n",
    "cate_cols = list(set(cate_cols) - {target, 'age', 'fare'})\n",
    "cate_cols"
   ]
  },
  {
   "cell_type": "code",
   "execution_count": null,
   "metadata": {},
   "outputs": [],
   "source": []
  },
  {
   "cell_type": "markdown",
   "metadata": {},
   "source": [
    "### ダミー変数化"
   ]
  },
  {
   "cell_type": "code",
   "execution_count": null,
   "metadata": {
    "ExecuteTime": {
     "end_time": "2022-09-10T00:53:10.208208Z",
     "start_time": "2022-09-10T00:53:10.203221Z"
    }
   },
   "outputs": [],
   "source": [
    "df.columns.tolist()"
   ]
  },
  {
   "cell_type": "code",
   "execution_count": null,
   "metadata": {
    "ExecuteTime": {
     "end_time": "2022-09-10T00:53:10.242118Z",
     "start_time": "2022-09-10T00:53:10.209206Z"
    }
   },
   "outputs": [],
   "source": [
    "df = pd.get_dummies(df, dummy_na=True, columns=cate_cols)\n",
    "df.head(3)"
   ]
  },
  {
   "cell_type": "code",
   "execution_count": null,
   "metadata": {
    "ExecuteTime": {
     "end_time": "2022-09-10T00:53:10.248101Z",
     "start_time": "2022-09-10T00:53:10.243116Z"
    }
   },
   "outputs": [],
   "source": [
    "df.shape"
   ]
  },
  {
   "cell_type": "code",
   "execution_count": null,
   "metadata": {
    "ExecuteTime": {
     "end_time": "2022-09-10T00:53:10.256080Z",
     "start_time": "2022-09-10T00:53:10.249099Z"
    },
    "scrolled": true
   },
   "outputs": [],
   "source": [
    "# カラムの確認\n",
    "df.columns.tolist()"
   ]
  },
  {
   "cell_type": "code",
   "execution_count": null,
   "metadata": {},
   "outputs": [],
   "source": []
  },
  {
   "cell_type": "markdown",
   "metadata": {},
   "source": [
    "## 目的変数と説明変数で分ける"
   ]
  },
  {
   "cell_type": "code",
   "execution_count": null,
   "metadata": {
    "ExecuteTime": {
     "end_time": "2022-09-10T00:53:10.264059Z",
     "start_time": "2022-09-10T00:53:10.257078Z"
    },
    "scrolled": true
   },
   "outputs": [],
   "source": [
    "df.columns.tolist()"
   ]
  },
  {
   "cell_type": "code",
   "execution_count": null,
   "metadata": {
    "ExecuteTime": {
     "end_time": "2022-09-10T00:53:10.272037Z",
     "start_time": "2022-09-10T00:53:10.265056Z"
    },
    "scrolled": true
   },
   "outputs": [],
   "source": [
    "data_x = df.drop(labels=[target], axis=1)\n",
    "data_y = df[target]"
   ]
  },
  {
   "cell_type": "code",
   "execution_count": null,
   "metadata": {},
   "outputs": [],
   "source": []
  },
  {
   "cell_type": "markdown",
   "metadata": {},
   "source": [
    "## trainとtestに分割"
   ]
  },
  {
   "cell_type": "code",
   "execution_count": null,
   "metadata": {
    "ExecuteTime": {
     "end_time": "2022-09-10T00:53:10.280017Z",
     "start_time": "2022-09-10T00:53:10.273035Z"
    }
   },
   "outputs": [],
   "source": [
    "train_x, test_x, train_y, test_y = train_test_split(\n",
    "    data_x,\n",
    "    data_y,\n",
    "    random_state=57,\n",
    "    test_size=0.3\n",
    ")"
   ]
  },
  {
   "cell_type": "code",
   "execution_count": null,
   "metadata": {
    "ExecuteTime": {
     "end_time": "2022-09-10T00:53:10.307941Z",
     "start_time": "2022-09-10T00:53:10.281013Z"
    },
    "scrolled": true
   },
   "outputs": [],
   "source": [
    "train_x.head()"
   ]
  },
  {
   "cell_type": "code",
   "execution_count": null,
   "metadata": {
    "ExecuteTime": {
     "end_time": "2022-09-10T00:53:10.313926Z",
     "start_time": "2022-09-10T00:53:10.308938Z"
    }
   },
   "outputs": [],
   "source": [
    "print('train_x.shape:', train_x.shape)\n",
    "print('test_x.shape:', test_x.shape)\n",
    "print('train_y.shape:', train_y.shape)\n",
    "print('test_y.shape:', test_y.shape)"
   ]
  },
  {
   "cell_type": "code",
   "execution_count": null,
   "metadata": {},
   "outputs": [],
   "source": []
  },
  {
   "cell_type": "markdown",
   "metadata": {},
   "source": [
    "# RandomForest"
   ]
  },
  {
   "cell_type": "markdown",
   "metadata": {},
   "source": [
    "## create model"
   ]
  },
  {
   "cell_type": "code",
   "execution_count": null,
   "metadata": {
    "ExecuteTime": {
     "end_time": "2022-09-10T00:53:10.427621Z",
     "start_time": "2022-09-10T00:53:10.314923Z"
    },
    "scrolled": true
   },
   "outputs": [],
   "source": [
    "rfc = RandomForestClassifier(\n",
    "    bootstrap=True,\n",
    "    criterion='gini',\n",
    "    max_depth=11,\n",
    "    min_samples_leaf=5,\n",
    "    n_estimators=100,\n",
    "    random_state=57\n",
    ")\n",
    "rfc.fit(train_x, train_y)"
   ]
  },
  {
   "cell_type": "code",
   "execution_count": null,
   "metadata": {},
   "outputs": [],
   "source": []
  },
  {
   "cell_type": "markdown",
   "metadata": {},
   "source": [
    "## 寄与度分析"
   ]
  },
  {
   "cell_type": "code",
   "execution_count": null,
   "metadata": {
    "ExecuteTime": {
     "end_time": "2022-09-10T00:53:10.439589Z",
     "start_time": "2022-09-10T00:53:10.428619Z"
    }
   },
   "outputs": [],
   "source": [
    "# 説明変数\n",
    "features = train_x.columns\n",
    "\n",
    "# 寄与率\n",
    "importances = rfc.feature_importances_"
   ]
  },
  {
   "cell_type": "code",
   "execution_count": null,
   "metadata": {
    "ExecuteTime": {
     "end_time": "2022-09-10T00:53:10.696902Z",
     "start_time": "2022-09-10T00:53:10.440586Z"
    },
    "scrolled": true
   },
   "outputs": [],
   "source": [
    "# importances描き方\n",
    "importance_df = pd.DataFrame(\n",
    "    {'feature': features, 'importance':  importances}\n",
    ").sort_values(by='importance', ascending=True)\n",
    "\n",
    "importance_df.tail(10).plot(\n",
    "    x='feature',\n",
    "    y='importance',\n",
    "    kind='barh',\n",
    "    figsize=(12,9)\n",
    ")\n",
    "\n",
    "display(importance_df.sort_values(by='importance', ascending=False).head(10))"
   ]
  },
  {
   "cell_type": "code",
   "execution_count": null,
   "metadata": {},
   "outputs": [],
   "source": []
  },
  {
   "cell_type": "markdown",
   "metadata": {},
   "source": [
    "## 木の一つを可視化する"
   ]
  },
  {
   "cell_type": "code",
   "execution_count": null,
   "metadata": {
    "ExecuteTime": {
     "end_time": "2022-09-10T00:53:10.704880Z",
     "start_time": "2022-09-10T00:53:10.697899Z"
    }
   },
   "outputs": [],
   "source": [
    "# 試しに木の一つを視覚化する\n",
    "estimators = rfc.estimators_\n",
    "len(estimators)"
   ]
  },
  {
   "cell_type": "code",
   "execution_count": null,
   "metadata": {
    "ExecuteTime": {
     "end_time": "2022-09-10T00:53:11.684262Z",
     "start_time": "2022-09-10T00:53:10.705877Z"
    },
    "scrolled": true
   },
   "outputs": [],
   "source": [
    "# 可視化の設定\n",
    "plt.figure(\n",
    "    figsize=(10, 5), # 描画サイズ\n",
    "    facecolor='white', # 背景色\n",
    "    dpi=200 # 解像度\n",
    ")\n",
    "\n",
    "# 決定木の可視化\n",
    "tree.plot_tree(\n",
    "    decision_tree=estimators[0], # 決定木モデル\n",
    "    max_depth=3, # 表示する木の深さ\n",
    "    feature_names=features, # 説明変数名\n",
    "    class_names=['死亡', '生存'], # 目的変数の各クラス名\n",
    "    fontsize=4,\n",
    "    filled=True # ノードに色を付ける\n",
    ")"
   ]
  },
  {
   "cell_type": "code",
   "execution_count": null,
   "metadata": {},
   "outputs": [],
   "source": []
  },
  {
   "cell_type": "code",
   "execution_count": null,
   "metadata": {},
   "outputs": [],
   "source": []
  }
 ],
 "metadata": {
  "kernelspec": {
   "display_name": "Python 3 (ipykernel)",
   "language": "python",
   "name": "python3"
  },
  "language_info": {
   "codemirror_mode": {
    "name": "ipython",
    "version": 3
   },
   "file_extension": ".py",
   "mimetype": "text/x-python",
   "name": "python",
   "nbconvert_exporter": "python",
   "pygments_lexer": "ipython3",
   "version": "3.8.8"
  },
  "latex_envs": {
   "LaTeX_envs_menu_present": true,
   "autoclose": false,
   "autocomplete": true,
   "bibliofile": "biblio.bib",
   "cite_by": "apalike",
   "current_citInitial": 1,
   "eqLabelWithNumbers": true,
   "eqNumInitial": 1,
   "hotkeys": {
    "equation": "Ctrl-E",
    "itemize": "Ctrl-I"
   },
   "labels_anchors": false,
   "latex_user_defs": false,
   "report_style_numbering": false,
   "user_envs_cfg": false
  },
  "toc": {
   "base_numbering": 1,
   "nav_menu": {},
   "number_sections": true,
   "sideBar": true,
   "skip_h1_title": false,
   "title_cell": "Table of Contents",
   "title_sidebar": "Contents",
   "toc_cell": false,
   "toc_position": {
    "height": "calc(100% - 180px)",
    "left": "10px",
    "top": "150px",
    "width": "288px"
   },
   "toc_section_display": true,
   "toc_window_display": true
  },
  "varInspector": {
   "cols": {
    "lenName": 16,
    "lenType": 16,
    "lenVar": 40
   },
   "kernels_config": {
    "python": {
     "delete_cmd_postfix": "",
     "delete_cmd_prefix": "del ",
     "library": "var_list.py",
     "varRefreshCmd": "print(var_dic_list())"
    },
    "r": {
     "delete_cmd_postfix": ") ",
     "delete_cmd_prefix": "rm(",
     "library": "var_list.r",
     "varRefreshCmd": "cat(var_dic_list()) "
    }
   },
   "types_to_exclude": [
    "module",
    "function",
    "builtin_function_or_method",
    "instance",
    "_Feature"
   ],
   "window_display": false
  }
 },
 "nbformat": 4,
 "nbformat_minor": 2
}
