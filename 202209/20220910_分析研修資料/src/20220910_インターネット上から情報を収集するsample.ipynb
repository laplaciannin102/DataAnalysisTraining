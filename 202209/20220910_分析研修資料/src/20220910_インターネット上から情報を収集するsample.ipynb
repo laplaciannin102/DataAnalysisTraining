{
 "cells": [
  {
   "cell_type": "markdown",
   "metadata": {},
   "source": [
    "# インターネット上から情報を収集するsample\n",
    "\n",
    "## 内容\n",
    "\n",
    "- Pythonを使用してインターネット上から情報を収集する\n",
    "\n",
    "## 参考URL\n",
    "\n",
    "- Pythonのスクレイピングで文字だけを抜き出す汎用的な方法\n",
    "    - https://qiita.com/poorko/items/9140c75415d748633a10\n",
    "\n",
    "- 【Webスクレイピング入門】Google検索の上位サイトを件数指定して表示する方法\n",
    "    - https://rurukblog.com/post/WebScraping-Google-Top/\n",
    "\n",
    "- 【コピペOK】PythonでGoogle検索する方法【BeautifulSoup】\n",
    "    - http://kakedashi-xx.com:25214/index.php/2020/12/19/post-1565/\n",
    "\n",
    "環境は下記URLにアクセスすると確認できます。\n",
    "(User-Agentは下記画像のブラウザのユーザーエージェント HTTP_USER_AGENTで取得できます)\n",
    "https://testpage.jp/tool/ip_user_agent.php"
   ]
  },
  {
   "cell_type": "code",
   "execution_count": null,
   "metadata": {},
   "outputs": [],
   "source": []
  },
  {
   "cell_type": "markdown",
   "metadata": {},
   "source": [
    "# Load modules"
   ]
  },
  {
   "cell_type": "code",
   "execution_count": null,
   "metadata": {
    "ExecuteTime": {
     "end_time": "2022-09-09T22:52:06.635669Z",
     "start_time": "2022-09-09T22:52:06.115062Z"
    }
   },
   "outputs": [],
   "source": [
    "import sys, os\n",
    "import gc\n",
    "import numpy as np\n",
    "import pandas as pd\n",
    "\n",
    "import requests\n",
    "from bs4 import BeautifulSoup"
   ]
  },
  {
   "cell_type": "markdown",
   "metadata": {},
   "source": [
    "# Constants"
   ]
  },
  {
   "cell_type": "markdown",
   "metadata": {},
   "source": [
    "## paths"
   ]
  },
  {
   "cell_type": "code",
   "execution_count": null,
   "metadata": {
    "ExecuteTime": {
     "end_time": "2022-09-09T22:52:06.639660Z",
     "start_time": "2022-09-09T22:52:06.636666Z"
    }
   },
   "outputs": [],
   "source": [
    "input_dpath = '../input/'\n",
    "output_dpath = '../output/'"
   ]
  },
  {
   "cell_type": "code",
   "execution_count": null,
   "metadata": {},
   "outputs": [],
   "source": []
  },
  {
   "cell_type": "markdown",
   "metadata": {},
   "source": [
    "# Functions"
   ]
  },
  {
   "cell_type": "markdown",
   "metadata": {},
   "source": [
    "## get_soup"
   ]
  },
  {
   "cell_type": "code",
   "execution_count": null,
   "metadata": {
    "ExecuteTime": {
     "end_time": "2022-09-09T22:52:06.659605Z",
     "start_time": "2022-09-09T22:52:06.640657Z"
    }
   },
   "outputs": [],
   "source": [
    "def get_soup(url):\n",
    "    \"\"\"\n",
    "    URLからBeautifulSoupのインスタンスを作成する。requests.get使用。\n",
    "\n",
    "    Args:\n",
    "        url: str\n",
    "            soupインスタンスを作成したいURL\n",
    "    \n",
    "    Returns:\n",
    "        soup: bs4.BeautifulSoup instance\n",
    "            soupインスタンス。\n",
    "    \"\"\"\n",
    "    # htmlを取得\n",
    "    html = requests.get(url)\n",
    "\n",
    "    # soupを作成\n",
    "    soup = BeautifulSoup(html.content, 'html.parser')\n",
    "\n",
    "    return soup"
   ]
  },
  {
   "cell_type": "markdown",
   "metadata": {},
   "source": [
    "## gettext_fromurl"
   ]
  },
  {
   "cell_type": "code",
   "execution_count": null,
   "metadata": {
    "ExecuteTime": {
     "end_time": "2022-09-09T22:52:06.675563Z",
     "start_time": "2022-09-09T22:52:06.661601Z"
    }
   },
   "outputs": [],
   "source": [
    "def gettext_fromurl(url):\n",
    "    \"\"\"\n",
    "    urlで指定したページのtitleとbodyのtextを抜き出す。\n",
    "\n",
    "    Args:\n",
    "        url: str\n",
    "            titleとtextを抜き出したいページのURL。\n",
    "    \n",
    "    Returns:\n",
    "        title, text: tuple\n",
    "            title: str\n",
    "                ページのhtmlのheaderのtitle。\n",
    "                取得に失敗した時は'get title error'\n",
    "            \n",
    "            text: str\n",
    "                ページのhtmlのbodyのtext。\n",
    "                取得に失敗した時は'get text error'\n",
    "    \"\"\"\n",
    "    url = str(url)\n",
    "    try:\n",
    "        sp = get_soup(url)\n",
    "    except:\n",
    "        print('get text error:', url)\n",
    "        print()\n",
    "        return 'get title error', 'get text error'\n",
    "    \n",
    "    # title\n",
    "    title = sp.title.string\n",
    "    title = str(title)\n",
    "    \n",
    "    # bodyのtext\n",
    "    for script in sp(['script', 'style']):\n",
    "        script.decompose()\n",
    "    text = sp.get_text()\n",
    "    lines = [line.strip() for line in text.splitlines()]\n",
    "    text=\"\\n\".join(line for line in lines if line)\n",
    "    return title, text"
   ]
  },
  {
   "cell_type": "code",
   "execution_count": null,
   "metadata": {},
   "outputs": [],
   "source": []
  },
  {
   "cell_type": "markdown",
   "metadata": {},
   "source": [
    "## download_img"
   ]
  },
  {
   "cell_type": "code",
   "execution_count": null,
   "metadata": {
    "ExecuteTime": {
     "end_time": "2022-09-09T22:52:06.693515Z",
     "start_time": "2022-09-09T22:52:06.676561Z"
    }
   },
   "outputs": [],
   "source": [
    "def download_img(url, file_name='./img.jpg', force=False):\n",
    "    \"\"\"\n",
    "    画像をダウンロードする。requests.get使用。\n",
    "\n",
    "    Args:\n",
    "        url: str\n",
    "            ダウンロードする画像ファイルのURL。\n",
    "        \n",
    "        file_name: str, optional(default='./img.jpg')\n",
    "            ダウンロードした後の画像ファイルの名前。パスを含む。\n",
    "        \n",
    "        force: bool, optional(default=False)\n",
    "            force to overwrite. 強制的に上書きするかどうか。\n",
    "            True: 強制的に上書きする。\n",
    "            False: すでにファイルが存在していれば保存しない。\n",
    "    \"\"\"\n",
    "    file_name = str(file_name)\n",
    "\n",
    "    if not force:\n",
    "        # すでにファイルが存在していれば保存しない\n",
    "        if os.path.exists(file_name):\n",
    "            print(file_name + ' is already exists.')\n",
    "            return\n",
    "\n",
    "    # 保存する\n",
    "    r = requests.get(url, stream=True)\n",
    "    if r.status_code == 200:\n",
    "        with open(file_name, 'wb') as f:\n",
    "            f.write(r.content)"
   ]
  },
  {
   "cell_type": "code",
   "execution_count": null,
   "metadata": {},
   "outputs": [],
   "source": []
  },
  {
   "cell_type": "markdown",
   "metadata": {},
   "source": [
    "## search_google"
   ]
  },
  {
   "cell_type": "code",
   "execution_count": null,
   "metadata": {
    "ExecuteTime": {
     "end_time": "2022-09-09T22:52:06.705483Z",
     "start_time": "2022-09-09T22:52:06.694512Z"
    }
   },
   "outputs": [],
   "source": [
    "def search_google(google_search_url, n_pages=11):\n",
    "    \"\"\"\n",
    "    google検索を行う．\n",
    "    \n",
    "    Args:\n",
    "        google_search_url: str\n",
    "            Googleから検索結果ページ\n",
    "        \n",
    "        n_pages: str\n",
    "            上位から何件までのサイトを抽出するか\n",
    "    \n",
    "    Returns:\n",
    "        search_result_df: pandas.DataFrame\n",
    "    \"\"\"\n",
    "    request = requests.get(google_search_url)\n",
    "\n",
    "    # Googleのページ解析を行う\n",
    "    soup = BeautifulSoup(request.text, \"html.parser\")\n",
    "    search_pages_list = soup.select('div.kCrYT > a')\n",
    "\n",
    "    search_result_list = []\n",
    "\n",
    "    # ページ解析と結果の出力\n",
    "    for rank, page in zip(range(1, n_pages), search_pages_list):\n",
    "        try:\n",
    "            try:\n",
    "                page_title1 = page.select('h3.zBAuLc')[0].text\n",
    "            except IndexError:\n",
    "                page_title1 = page.select('img')[0]['alt']\n",
    "\n",
    "            page_url = page['href'].replace('/url?q=', '')\n",
    "            page_url = page_url.split('&sa=')[0]\n",
    "            # print(page_url)\n",
    "            page_title2, page_text = gettext_fromurl(page_url)\n",
    "\n",
    "        except Exception as e:\n",
    "            continue\n",
    "\n",
    "        search_result_list += [[\n",
    "            rank,\n",
    "            page_url,\n",
    "            page_title1,\n",
    "            page_title2,\n",
    "            page_text\n",
    "        ]]\n",
    "\n",
    "    search_result_df = pd.DataFrame(\n",
    "        search_result_list,\n",
    "        columns=[\n",
    "            'page_rank',\n",
    "            'page_url',\n",
    "            'page_title1',\n",
    "            'page_title2',\n",
    "            'page_text'\n",
    "        ]\n",
    "    )\n",
    "\n",
    "    return search_result_df"
   ]
  },
  {
   "cell_type": "code",
   "execution_count": null,
   "metadata": {},
   "outputs": [],
   "source": []
  },
  {
   "cell_type": "markdown",
   "metadata": {},
   "source": [
    "# クローリングsample"
   ]
  },
  {
   "cell_type": "markdown",
   "metadata": {},
   "source": [
    "## 検索ワード等の設定"
   ]
  },
  {
   "cell_type": "code",
   "execution_count": null,
   "metadata": {
    "ExecuteTime": {
     "end_time": "2022-09-09T22:52:06.715457Z",
     "start_time": "2022-09-09T22:52:06.706480Z"
    }
   },
   "outputs": [],
   "source": [
    "# Google検索するキーワードを設定\n",
    "search_word = 'python'\n",
    "\n",
    "# 上位から何件までのサイトを抽出するか指定する\n",
    "n_pages = 10 + 1\n",
    "\n",
    "# Googleから検索結果ページを取得する\n",
    "google_search_url = f'https://www.google.co.jp/search?hl=ja&num={n_pages}&q={search_word}'"
   ]
  },
  {
   "cell_type": "markdown",
   "metadata": {},
   "source": [
    "## 検索を行う"
   ]
  },
  {
   "cell_type": "code",
   "execution_count": null,
   "metadata": {
    "ExecuteTime": {
     "end_time": "2022-09-09T22:52:10.035041Z",
     "start_time": "2022-09-09T22:52:06.716454Z"
    }
   },
   "outputs": [],
   "source": [
    "search_result_df = search_google(\n",
    "    google_search_url,\n",
    "    n_pages\n",
    ")"
   ]
  },
  {
   "cell_type": "code",
   "execution_count": null,
   "metadata": {
    "ExecuteTime": {
     "end_time": "2022-09-09T22:52:10.060971Z",
     "start_time": "2022-09-09T22:52:10.037035Z"
    }
   },
   "outputs": [],
   "source": [
    "search_result_df.head()"
   ]
  },
  {
   "cell_type": "code",
   "execution_count": null,
   "metadata": {},
   "outputs": [],
   "source": []
  },
  {
   "cell_type": "code",
   "execution_count": null,
   "metadata": {},
   "outputs": [],
   "source": []
  },
  {
   "cell_type": "code",
   "execution_count": null,
   "metadata": {},
   "outputs": [],
   "source": []
  },
  {
   "cell_type": "markdown",
   "metadata": {},
   "source": [
    "# 「松江 住みやすさ」で検索してみる"
   ]
  },
  {
   "cell_type": "markdown",
   "metadata": {},
   "source": [
    "## 検索ワード等の設定"
   ]
  },
  {
   "cell_type": "code",
   "execution_count": null,
   "metadata": {
    "ExecuteTime": {
     "end_time": "2022-09-09T22:52:10.072939Z",
     "start_time": "2022-09-09T22:52:10.066955Z"
    }
   },
   "outputs": [],
   "source": [
    "# Google検索するキーワードを設定\n",
    "search_word = '松江+住みやすさ'\n",
    "\n",
    "# 上位から何件までのサイトを抽出するか指定する\n",
    "n_pages = 10 + 1\n",
    "\n",
    "# Googleから検索結果ページを取得する\n",
    "google_search_url = f'https://www.google.co.jp/search?hl=ja&num={n_pages}&q={search_word}'"
   ]
  },
  {
   "cell_type": "markdown",
   "metadata": {},
   "source": [
    "## 検索を行う"
   ]
  },
  {
   "cell_type": "code",
   "execution_count": null,
   "metadata": {
    "ExecuteTime": {
     "end_time": "2022-09-09T22:52:16.443072Z",
     "start_time": "2022-09-09T22:52:10.074934Z"
    }
   },
   "outputs": [],
   "source": [
    "matsue_confort_df = search_google(\n",
    "    google_search_url,\n",
    "    n_pages\n",
    ")"
   ]
  },
  {
   "cell_type": "code",
   "execution_count": null,
   "metadata": {
    "ExecuteTime": {
     "end_time": "2022-09-09T22:52:16.457036Z",
     "start_time": "2022-09-09T22:52:16.445068Z"
    }
   },
   "outputs": [],
   "source": [
    "matsue_confort_df.head()"
   ]
  },
  {
   "cell_type": "code",
   "execution_count": null,
   "metadata": {},
   "outputs": [],
   "source": []
  },
  {
   "cell_type": "markdown",
   "metadata": {},
   "source": [
    "## 結果を出力する"
   ]
  },
  {
   "cell_type": "markdown",
   "metadata": {},
   "source": [
    "### ファイルパスの設定"
   ]
  },
  {
   "cell_type": "code",
   "execution_count": null,
   "metadata": {
    "ExecuteTime": {
     "end_time": "2022-09-09T23:02:38.028127Z",
     "start_time": "2022-09-09T23:02:38.023141Z"
    }
   },
   "outputs": [],
   "source": [
    "confort_fname = '住みやすさ検索結果'\n",
    "\n",
    "confort_excel_fpath = f'{output_dpath}{confort_fname}.xlsx'\n",
    "confort_csv_fpath = f'{output_dpath}{confort_fname}.csv'\n",
    "confort_notext_csv_fpath = f'{output_dpath}{confort_fname}_notext.csv'\n",
    "\n",
    "print('confort_excel_fpath:', confort_excel_fpath)\n",
    "print('confort_csv_fpath:', confort_csv_fpath)"
   ]
  },
  {
   "cell_type": "code",
   "execution_count": null,
   "metadata": {},
   "outputs": [],
   "source": []
  },
  {
   "cell_type": "markdown",
   "metadata": {},
   "source": [
    "### excelとcsvの出力"
   ]
  },
  {
   "cell_type": "code",
   "execution_count": null,
   "metadata": {
    "ExecuteTime": {
     "end_time": "2022-09-09T23:02:38.491690Z",
     "start_time": "2022-09-09T23:02:38.446811Z"
    }
   },
   "outputs": [],
   "source": [
    "matsue_confort_df.to_excel(confort_excel_fpath, index=True)"
   ]
  },
  {
   "cell_type": "code",
   "execution_count": null,
   "metadata": {
    "ExecuteTime": {
     "end_time": "2022-09-09T23:02:38.597409Z",
     "start_time": "2022-09-09T23:02:38.590426Z"
    }
   },
   "outputs": [],
   "source": [
    "matsue_confort_df.to_csv(confort_csv_fpath, index=False)"
   ]
  },
  {
   "cell_type": "code",
   "execution_count": null,
   "metadata": {
    "ExecuteTime": {
     "end_time": "2022-09-09T23:02:38.733045Z",
     "start_time": "2022-09-09T23:02:38.726064Z"
    }
   },
   "outputs": [],
   "source": [
    "matsue_confort_df.drop(\n",
    "    labels=['page_text'],\n",
    "    axis=1\n",
    ").to_csv(confort_notext_csv_fpath, index=False)"
   ]
  },
  {
   "cell_type": "code",
   "execution_count": null,
   "metadata": {},
   "outputs": [],
   "source": []
  },
  {
   "cell_type": "code",
   "execution_count": null,
   "metadata": {},
   "outputs": [],
   "source": []
  }
 ],
 "metadata": {
  "kernelspec": {
   "display_name": "Python 3 (ipykernel)",
   "language": "python",
   "name": "python3"
  },
  "language_info": {
   "codemirror_mode": {
    "name": "ipython",
    "version": 3
   },
   "file_extension": ".py",
   "mimetype": "text/x-python",
   "name": "python",
   "nbconvert_exporter": "python",
   "pygments_lexer": "ipython3",
   "version": "3.8.8"
  },
  "latex_envs": {
   "LaTeX_envs_menu_present": true,
   "autoclose": false,
   "autocomplete": true,
   "bibliofile": "biblio.bib",
   "cite_by": "apalike",
   "current_citInitial": 1,
   "eqLabelWithNumbers": true,
   "eqNumInitial": 1,
   "hotkeys": {
    "equation": "Ctrl-E",
    "itemize": "Ctrl-I"
   },
   "labels_anchors": false,
   "latex_user_defs": false,
   "report_style_numbering": false,
   "user_envs_cfg": false
  },
  "toc": {
   "base_numbering": 1,
   "nav_menu": {},
   "number_sections": true,
   "sideBar": true,
   "skip_h1_title": false,
   "title_cell": "Table of Contents",
   "title_sidebar": "Contents",
   "toc_cell": false,
   "toc_position": {
    "height": "calc(100% - 180px)",
    "left": "10px",
    "top": "150px",
    "width": "288px"
   },
   "toc_section_display": true,
   "toc_window_display": true
  },
  "varInspector": {
   "cols": {
    "lenName": 16,
    "lenType": 16,
    "lenVar": 40
   },
   "kernels_config": {
    "python": {
     "delete_cmd_postfix": "",
     "delete_cmd_prefix": "del ",
     "library": "var_list.py",
     "varRefreshCmd": "print(var_dic_list())"
    },
    "r": {
     "delete_cmd_postfix": ") ",
     "delete_cmd_prefix": "rm(",
     "library": "var_list.r",
     "varRefreshCmd": "cat(var_dic_list()) "
    }
   },
   "types_to_exclude": [
    "module",
    "function",
    "builtin_function_or_method",
    "instance",
    "_Feature"
   ],
   "window_display": false
  }
 },
 "nbformat": 4,
 "nbformat_minor": 2
}
