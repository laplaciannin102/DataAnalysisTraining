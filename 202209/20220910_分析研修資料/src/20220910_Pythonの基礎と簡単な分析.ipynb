{
 "cells": [
  {
   "cell_type": "markdown",
   "metadata": {},
   "source": [
    "# Pythonの基礎と簡単な分析\n",
    "\n",
    "## 内容\n",
    "\n",
    "- Pythonの基礎の確認\n",
    "- Pythonを使った簡単なデータ分析\n",
    "\n",
    "## 参考URL\n",
    "\n",
    "- [東大]Pythonプログラミング入門\n",
    "    - もはやこれでいい\n",
    "    - [https://utokyo-ipp.github.io/](https://utokyo-ipp.github.io/)\n",
    "\n",
    "- [【メモ】Pythonの自学自習用コンテンツ](https://mana.bi/wiki.cgi?page=%A1%DA%A5%E1%A5%E2%A1%DBPython%A4%CE%BC%AB%B3%D8%BC%AB%BD%AC%CD%D1%A5%B3%A5%F3%A5%C6%A5%F3%A5%C4#p0)\n",
    "    - まとめてくれてる人がいる"
   ]
  },
  {
   "cell_type": "markdown",
   "metadata": {},
   "source": [
    "# Load modules"
   ]
  },
  {
   "cell_type": "code",
   "execution_count": null,
   "metadata": {
    "ExecuteTime": {
     "end_time": "2022-09-09T23:40:18.869741Z",
     "start_time": "2022-09-09T23:40:17.404660Z"
    }
   },
   "outputs": [],
   "source": [
    "import sys, os\n",
    "import gc\n",
    "import numpy as np\n",
    "import pandas as pd\n",
    "\n",
    "# 可視化用関数\n",
    "import seaborn as sns\n",
    "\n",
    "import japanize_matplotlib\n",
    "\n",
    "%matplotlib inline"
   ]
  },
  {
   "cell_type": "markdown",
   "metadata": {},
   "source": [
    "# Python基礎"
   ]
  },
  {
   "cell_type": "markdown",
   "metadata": {},
   "source": [
    "## 数値"
   ]
  },
  {
   "cell_type": "code",
   "execution_count": null,
   "metadata": {
    "ExecuteTime": {
     "end_time": "2022-09-09T23:40:18.879715Z",
     "start_time": "2022-09-09T23:40:18.870739Z"
    }
   },
   "outputs": [],
   "source": [
    "a = 1 + 2\n",
    "a"
   ]
  },
  {
   "cell_type": "code",
   "execution_count": null,
   "metadata": {
    "ExecuteTime": {
     "end_time": "2022-09-09T23:40:18.887695Z",
     "start_time": "2022-09-09T23:40:18.881710Z"
    }
   },
   "outputs": [],
   "source": [
    "type(a)"
   ]
  },
  {
   "cell_type": "code",
   "execution_count": null,
   "metadata": {
    "ExecuteTime": {
     "end_time": "2022-09-09T23:40:18.897668Z",
     "start_time": "2022-09-09T23:40:18.890687Z"
    }
   },
   "outputs": [],
   "source": [
    "b = 1.5 + 2\n",
    "b"
   ]
  },
  {
   "cell_type": "code",
   "execution_count": null,
   "metadata": {
    "ExecuteTime": {
     "end_time": "2022-09-09T23:40:18.905647Z",
     "start_time": "2022-09-09T23:40:18.899663Z"
    }
   },
   "outputs": [],
   "source": [
    "type(b)"
   ]
  },
  {
   "cell_type": "markdown",
   "metadata": {},
   "source": [
    "## 文字列"
   ]
  },
  {
   "cell_type": "code",
   "execution_count": null,
   "metadata": {
    "ExecuteTime": {
     "end_time": "2022-09-09T23:40:18.913625Z",
     "start_time": "2022-09-09T23:40:18.906644Z"
    }
   },
   "outputs": [],
   "source": [
    "s = 'てすと' + 'します'\n",
    "s"
   ]
  },
  {
   "cell_type": "code",
   "execution_count": null,
   "metadata": {
    "ExecuteTime": {
     "end_time": "2022-09-09T23:40:18.919610Z",
     "start_time": "2022-09-09T23:40:18.914623Z"
    }
   },
   "outputs": [],
   "source": [
    "type(s)"
   ]
  },
  {
   "cell_type": "code",
   "execution_count": null,
   "metadata": {
    "ExecuteTime": {
     "end_time": "2022-09-09T23:40:18.927588Z",
     "start_time": "2022-09-09T23:40:18.920607Z"
    }
   },
   "outputs": [],
   "source": [
    "# *を使ってたくさん文字列を繋げることも可能\n",
    "t = 'あいうえお' * 3\n",
    "t"
   ]
  },
  {
   "cell_type": "markdown",
   "metadata": {},
   "source": [
    "## list型"
   ]
  },
  {
   "cell_type": "code",
   "execution_count": null,
   "metadata": {
    "ExecuteTime": {
     "end_time": "2022-09-09T23:40:18.935566Z",
     "start_time": "2022-09-09T23:40:18.929584Z"
    }
   },
   "outputs": [],
   "source": [
    "l = [1, 2, 3]\n",
    "l"
   ]
  },
  {
   "cell_type": "code",
   "execution_count": null,
   "metadata": {
    "ExecuteTime": {
     "end_time": "2022-09-09T23:40:18.943545Z",
     "start_time": "2022-09-09T23:40:18.937561Z"
    }
   },
   "outputs": [],
   "source": [
    "type(l)"
   ]
  },
  {
   "cell_type": "code",
   "execution_count": null,
   "metadata": {
    "ExecuteTime": {
     "end_time": "2022-09-09T23:40:18.949529Z",
     "start_time": "2022-09-09T23:40:18.945541Z"
    }
   },
   "outputs": [],
   "source": [
    "for ii in l:\n",
    "    print(ii)"
   ]
  },
  {
   "cell_type": "markdown",
   "metadata": {},
   "source": [
    "## 辞書型"
   ]
  },
  {
   "cell_type": "code",
   "execution_count": null,
   "metadata": {
    "ExecuteTime": {
     "end_time": "2022-09-09T23:40:18.955513Z",
     "start_time": "2022-09-09T23:40:18.950527Z"
    }
   },
   "outputs": [],
   "source": [
    "d = {\n",
    "    'あ': 5,\n",
    "    'い': 6,\n",
    "    'う': 7\n",
    "}"
   ]
  },
  {
   "cell_type": "code",
   "execution_count": null,
   "metadata": {
    "ExecuteTime": {
     "end_time": "2022-09-09T23:40:18.963492Z",
     "start_time": "2022-09-09T23:40:18.956511Z"
    }
   },
   "outputs": [],
   "source": [
    "d['い']"
   ]
  },
  {
   "cell_type": "code",
   "execution_count": null,
   "metadata": {
    "ExecuteTime": {
     "end_time": "2022-09-09T23:40:18.969476Z",
     "start_time": "2022-09-09T23:40:18.964490Z"
    }
   },
   "outputs": [],
   "source": [
    "type(d)"
   ]
  },
  {
   "cell_type": "code",
   "execution_count": null,
   "metadata": {
    "ExecuteTime": {
     "end_time": "2022-09-09T23:40:18.975459Z",
     "start_time": "2022-09-09T23:40:18.970474Z"
    }
   },
   "outputs": [],
   "source": [
    "for ii in d:\n",
    "    print(ii)"
   ]
  },
  {
   "cell_type": "code",
   "execution_count": null,
   "metadata": {},
   "outputs": [],
   "source": []
  },
  {
   "cell_type": "markdown",
   "metadata": {},
   "source": [
    "## 関数"
   ]
  },
  {
   "cell_type": "markdown",
   "metadata": {},
   "source": [
    "### 普通の関数"
   ]
  },
  {
   "cell_type": "code",
   "execution_count": null,
   "metadata": {
    "ExecuteTime": {
     "end_time": "2022-09-09T23:40:18.981444Z",
     "start_time": "2022-09-09T23:40:18.976457Z"
    }
   },
   "outputs": [],
   "source": [
    "def func0(x):\n",
    "    \"\"\"\n",
    "    x: 引数という\n",
    "    ret: 戻り値という\n",
    "    \"\"\"\n",
    "    ret = 2 * x + 1\n",
    "    return ret"
   ]
  },
  {
   "cell_type": "code",
   "execution_count": null,
   "metadata": {
    "ExecuteTime": {
     "end_time": "2022-09-09T23:40:18.987428Z",
     "start_time": "2022-09-09T23:40:18.982441Z"
    }
   },
   "outputs": [],
   "source": [
    "func0(5)"
   ]
  },
  {
   "cell_type": "code",
   "execution_count": null,
   "metadata": {},
   "outputs": [],
   "source": []
  },
  {
   "cell_type": "markdown",
   "metadata": {},
   "source": [
    "### lambda関数"
   ]
  },
  {
   "cell_type": "code",
   "execution_count": null,
   "metadata": {
    "ExecuteTime": {
     "end_time": "2022-09-09T23:40:18.993412Z",
     "start_time": "2022-09-09T23:40:18.988425Z"
    }
   },
   "outputs": [],
   "source": [
    "# xを渡すと2x+1を返す関数\n",
    "f = (lambda x: 2 * x + 1)\n",
    "f"
   ]
  },
  {
   "cell_type": "code",
   "execution_count": null,
   "metadata": {
    "ExecuteTime": {
     "end_time": "2022-09-09T23:40:18.999395Z",
     "start_time": "2022-09-09T23:40:18.994409Z"
    }
   },
   "outputs": [],
   "source": [
    "f(5)"
   ]
  },
  {
   "cell_type": "code",
   "execution_count": null,
   "metadata": {},
   "outputs": [],
   "source": []
  },
  {
   "cell_type": "markdown",
   "metadata": {},
   "source": [
    "# DataFrame作成"
   ]
  },
  {
   "cell_type": "markdown",
   "metadata": {},
   "source": [
    "row: 行.  \n",
    "column: 列.カラム名=列名."
   ]
  },
  {
   "cell_type": "markdown",
   "metadata": {},
   "source": [
    "## 作り方1"
   ]
  },
  {
   "cell_type": "markdown",
   "metadata": {},
   "source": [
    "pd.DataFrame(リスト, columns=リスト)"
   ]
  },
  {
   "cell_type": "code",
   "execution_count": null,
   "metadata": {
    "ExecuteTime": {
     "end_time": "2022-09-09T23:40:19.015353Z",
     "start_time": "2022-09-09T23:40:19.001391Z"
    }
   },
   "outputs": [],
   "source": [
    "df0 = pd.DataFrame(\n",
    "    [\n",
    "        ['太郎', 160, 50, 20],\n",
    "        ['次郎', 170,60,26],\n",
    "        ['三郎', 180, 70, 30],\n",
    "        ['四郎', 190, 80, 10]\n",
    "    ],\n",
    "    columns=['名前', '身長', '体重', '年齢']\n",
    ")\n",
    "df0"
   ]
  },
  {
   "cell_type": "markdown",
   "metadata": {},
   "source": [
    "## 作り方2"
   ]
  },
  {
   "cell_type": "markdown",
   "metadata": {},
   "source": [
    "pd.DataFrame(辞書)"
   ]
  },
  {
   "cell_type": "code",
   "execution_count": null,
   "metadata": {
    "ExecuteTime": {
     "end_time": "2022-09-09T23:40:19.029317Z",
     "start_time": "2022-09-09T23:40:19.017348Z"
    }
   },
   "outputs": [],
   "source": [
    "df1 = pd.DataFrame(\n",
    "    {\n",
    "        '名前': ['太郎', '次郎', '三郎', '四郎'],\n",
    "        '身長': [160, 170, 180, 190],\n",
    "        '体重': [50, 60, 70, 80],\n",
    "        '年齢': [20, 26, 30, 10]\n",
    "    }\n",
    ")\n",
    "df1"
   ]
  },
  {
   "cell_type": "markdown",
   "metadata": {},
   "source": [
    "## 比較してみる"
   ]
  },
  {
   "cell_type": "code",
   "execution_count": null,
   "metadata": {
    "ExecuteTime": {
     "end_time": "2022-09-09T23:40:19.039290Z",
     "start_time": "2022-09-09T23:40:19.031311Z"
    }
   },
   "outputs": [],
   "source": [
    "df0 == df1"
   ]
  },
  {
   "cell_type": "code",
   "execution_count": null,
   "metadata": {},
   "outputs": [],
   "source": []
  },
  {
   "cell_type": "markdown",
   "metadata": {},
   "source": [
    "# 分析の基礎"
   ]
  },
  {
   "cell_type": "markdown",
   "metadata": {},
   "source": [
    "## 列の指定"
   ]
  },
  {
   "cell_type": "code",
   "execution_count": null,
   "metadata": {
    "ExecuteTime": {
     "end_time": "2022-09-09T23:40:19.049263Z",
     "start_time": "2022-09-09T23:40:19.040287Z"
    }
   },
   "outputs": [],
   "source": [
    "df0[['名前', '年齢']]"
   ]
  },
  {
   "cell_type": "markdown",
   "metadata": {},
   "source": [
    "## 行の追加"
   ]
  },
  {
   "cell_type": "code",
   "execution_count": null,
   "metadata": {
    "ExecuteTime": {
     "end_time": "2022-09-09T23:40:19.061231Z",
     "start_time": "2022-09-09T23:40:19.050259Z"
    }
   },
   "outputs": [],
   "source": [
    "df0.loc[4] = ['五郎', 200, 50, 5]\n",
    "df0"
   ]
  },
  {
   "cell_type": "code",
   "execution_count": null,
   "metadata": {
    "ExecuteTime": {
     "end_time": "2022-09-09T23:40:19.067215Z",
     "start_time": "2022-09-09T23:40:19.062228Z"
    }
   },
   "outputs": [],
   "source": [
    "df0.shape"
   ]
  },
  {
   "cell_type": "markdown",
   "metadata": {},
   "source": [
    "## 列の追加"
   ]
  },
  {
   "cell_type": "markdown",
   "metadata": {},
   "source": [
    "### 行ごとに値が違う場合"
   ]
  },
  {
   "cell_type": "code",
   "execution_count": null,
   "metadata": {
    "ExecuteTime": {
     "end_time": "2022-09-09T23:40:19.077188Z",
     "start_time": "2022-09-09T23:40:19.068213Z"
    }
   },
   "outputs": [],
   "source": [
    "df0['住所'] = ['島根', '島根', '東京', '島根', '島根']\n",
    "df0"
   ]
  },
  {
   "cell_type": "code",
   "execution_count": null,
   "metadata": {
    "ExecuteTime": {
     "end_time": "2022-09-09T23:40:19.083172Z",
     "start_time": "2022-09-09T23:40:19.078185Z"
    }
   },
   "outputs": [],
   "source": [
    "df0.shape"
   ]
  },
  {
   "cell_type": "markdown",
   "metadata": {},
   "source": [
    "### 全ての行で値が同じ場合"
   ]
  },
  {
   "cell_type": "code",
   "execution_count": null,
   "metadata": {
    "ExecuteTime": {
     "end_time": "2022-09-09T23:40:19.097136Z",
     "start_time": "2022-09-09T23:40:19.087162Z"
    }
   },
   "outputs": [],
   "source": [
    "df0['性別'] = '男'\n",
    "df0"
   ]
  },
  {
   "cell_type": "code",
   "execution_count": null,
   "metadata": {
    "ExecuteTime": {
     "end_time": "2022-09-09T23:40:19.103118Z",
     "start_time": "2022-09-09T23:40:19.098132Z"
    }
   },
   "outputs": [],
   "source": [
    "df0.shape"
   ]
  },
  {
   "cell_type": "markdown",
   "metadata": {},
   "source": [
    "## 条件を満たす行のみを抽出"
   ]
  },
  {
   "cell_type": "code",
   "execution_count": null,
   "metadata": {
    "ExecuteTime": {
     "end_time": "2022-09-09T23:40:19.115087Z",
     "start_time": "2022-09-09T23:40:19.105114Z"
    }
   },
   "outputs": [],
   "source": [
    "df2 = df0[df0['住所']=='島根']\n",
    "df2"
   ]
  },
  {
   "cell_type": "code",
   "execution_count": null,
   "metadata": {
    "ExecuteTime": {
     "end_time": "2022-09-09T23:40:19.123066Z",
     "start_time": "2022-09-09T23:40:19.117082Z"
    }
   },
   "outputs": [],
   "source": [
    "df2.shape"
   ]
  },
  {
   "cell_type": "markdown",
   "metadata": {},
   "source": [
    "## 2つの列から計算して新たな列を追加"
   ]
  },
  {
   "cell_type": "code",
   "execution_count": null,
   "metadata": {
    "ExecuteTime": {
     "end_time": "2022-09-09T23:40:19.135034Z",
     "start_time": "2022-09-09T23:40:19.124062Z"
    }
   },
   "outputs": [],
   "source": [
    "df0"
   ]
  },
  {
   "cell_type": "markdown",
   "metadata": {},
   "source": [
    "BMIを追加してみることにする"
   ]
  },
  {
   "cell_type": "markdown",
   "metadata": {},
   "source": [
    "\\begin{align}\n",
    "\\mathrm{BMI} = \\dfrac{w}{h^2}\n",
    "\\end{align}"
   ]
  },
  {
   "cell_type": "code",
   "execution_count": null,
   "metadata": {
    "ExecuteTime": {
     "end_time": "2022-09-09T23:40:19.141017Z",
     "start_time": "2022-09-09T23:40:19.136030Z"
    }
   },
   "outputs": [],
   "source": [
    "df3 = df0.copy()\n",
    "df4 = df0.copy()"
   ]
  },
  {
   "cell_type": "code",
   "execution_count": null,
   "metadata": {},
   "outputs": [],
   "source": []
  },
  {
   "cell_type": "markdown",
   "metadata": {},
   "source": [
    "### BMIを計算する関数を定義してapply()を使用する"
   ]
  },
  {
   "cell_type": "code",
   "execution_count": null,
   "metadata": {
    "ExecuteTime": {
     "end_time": "2022-09-09T23:40:19.147001Z",
     "start_time": "2022-09-09T23:40:19.142014Z"
    }
   },
   "outputs": [],
   "source": [
    "def calc_bmi(row):\n",
    "    \"\"\"\n",
    "    BMIを計算して返す\n",
    "    \"\"\"\n",
    "    # print(row)\n",
    "    w = row['体重']\n",
    "    h = row['身長'] / 100\n",
    "    bmi = w / h**2\n",
    "    return bmi"
   ]
  },
  {
   "cell_type": "code",
   "execution_count": null,
   "metadata": {
    "ExecuteTime": {
     "end_time": "2022-09-09T23:40:19.160965Z",
     "start_time": "2022-09-09T23:40:19.147998Z"
    }
   },
   "outputs": [],
   "source": [
    "df3['BMI'] = df3.apply(calc_bmi, axis=1)\n",
    "df3"
   ]
  },
  {
   "cell_type": "code",
   "execution_count": null,
   "metadata": {},
   "outputs": [],
   "source": []
  },
  {
   "cell_type": "markdown",
   "metadata": {},
   "source": [
    "### BMIを計算するlambda関数を定義してapply()を使用する"
   ]
  },
  {
   "cell_type": "code",
   "execution_count": null,
   "metadata": {
    "ExecuteTime": {
     "end_time": "2022-09-09T23:40:19.174927Z",
     "start_time": "2022-09-09T23:40:19.161961Z"
    },
    "scrolled": true
   },
   "outputs": [],
   "source": [
    "df4['BMI'] = df4.apply(lambda row: row['体重'] / ((row['身長']/100)**2), axis=1)\n",
    "df4"
   ]
  },
  {
   "cell_type": "code",
   "execution_count": null,
   "metadata": {
    "ExecuteTime": {
     "end_time": "2022-09-09T23:40:19.184899Z",
     "start_time": "2022-09-09T23:40:19.175924Z"
    }
   },
   "outputs": [],
   "source": [
    "# 同じ結果になる\n",
    "df3 == df4"
   ]
  },
  {
   "cell_type": "code",
   "execution_count": null,
   "metadata": {},
   "outputs": [],
   "source": []
  },
  {
   "cell_type": "markdown",
   "metadata": {},
   "source": [
    "## 統計量を見る"
   ]
  },
  {
   "cell_type": "code",
   "execution_count": null,
   "metadata": {
    "ExecuteTime": {
     "end_time": "2022-09-09T23:40:19.198862Z",
     "start_time": "2022-09-09T23:40:19.185899Z"
    }
   },
   "outputs": [],
   "source": [
    "df3.describe()"
   ]
  },
  {
   "cell_type": "markdown",
   "metadata": {},
   "source": [
    "## mean()など単体でも関数としてあるので使える"
   ]
  },
  {
   "cell_type": "code",
   "execution_count": null,
   "metadata": {
    "ExecuteTime": {
     "end_time": "2022-09-09T23:40:19.549924Z",
     "start_time": "2022-09-09T23:40:19.199859Z"
    }
   },
   "outputs": [],
   "source": [
    "# 平均\n",
    "df3.mean()"
   ]
  },
  {
   "cell_type": "code",
   "execution_count": null,
   "metadata": {
    "ExecuteTime": {
     "end_time": "2022-09-09T23:40:19.561891Z",
     "start_time": "2022-09-09T23:40:19.551919Z"
    }
   },
   "outputs": [],
   "source": [
    "# 最大値\n",
    "df3.max()"
   ]
  },
  {
   "cell_type": "code",
   "execution_count": null,
   "metadata": {
    "ExecuteTime": {
     "end_time": "2022-09-09T23:40:19.577849Z",
     "start_time": "2022-09-09T23:40:19.563887Z"
    }
   },
   "outputs": [],
   "source": [
    "df0"
   ]
  },
  {
   "cell_type": "code",
   "execution_count": null,
   "metadata": {
    "ExecuteTime": {
     "end_time": "2022-09-09T23:40:19.589818Z",
     "start_time": "2022-09-09T23:40:19.579844Z"
    }
   },
   "outputs": [],
   "source": [
    "df3"
   ]
  },
  {
   "cell_type": "code",
   "execution_count": null,
   "metadata": {
    "ExecuteTime": {
     "end_time": "2022-09-09T23:40:19.659630Z",
     "start_time": "2022-09-09T23:40:19.591812Z"
    }
   },
   "outputs": [],
   "source": [
    "gc.collect()"
   ]
  },
  {
   "cell_type": "markdown",
   "metadata": {},
   "source": [
    "## 相関を見る"
   ]
  },
  {
   "cell_type": "markdown",
   "metadata": {},
   "source": [
    "### 相関dataframe"
   ]
  },
  {
   "cell_type": "code",
   "execution_count": null,
   "metadata": {
    "ExecuteTime": {
     "end_time": "2022-09-09T23:40:19.673593Z",
     "start_time": "2022-09-09T23:40:19.660628Z"
    }
   },
   "outputs": [],
   "source": [
    "corr = df3.corr()\n",
    "corr"
   ]
  },
  {
   "cell_type": "markdown",
   "metadata": {},
   "source": [
    "### ヒートマップの作成"
   ]
  },
  {
   "cell_type": "code",
   "execution_count": null,
   "metadata": {
    "ExecuteTime": {
     "end_time": "2022-09-09T23:40:19.893006Z",
     "start_time": "2022-09-09T23:40:19.678581Z"
    }
   },
   "outputs": [],
   "source": [
    "sns.heatmap(corr)"
   ]
  },
  {
   "cell_type": "markdown",
   "metadata": {},
   "source": [
    "## ダミー変数化"
   ]
  },
  {
   "cell_type": "code",
   "execution_count": null,
   "metadata": {
    "ExecuteTime": {
     "end_time": "2022-09-09T23:40:19.904974Z",
     "start_time": "2022-09-09T23:40:19.894004Z"
    }
   },
   "outputs": [],
   "source": [
    "df3"
   ]
  },
  {
   "cell_type": "code",
   "execution_count": null,
   "metadata": {
    "ExecuteTime": {
     "end_time": "2022-09-09T23:40:19.920934Z",
     "start_time": "2022-09-09T23:40:19.905972Z"
    }
   },
   "outputs": [],
   "source": [
    "df4 = pd.get_dummies(df3, columns=['住所'])\n",
    "df4"
   ]
  },
  {
   "cell_type": "code",
   "execution_count": null,
   "metadata": {},
   "outputs": [],
   "source": []
  },
  {
   "cell_type": "markdown",
   "metadata": {},
   "source": [
    "# データの出力"
   ]
  },
  {
   "cell_type": "markdown",
   "metadata": {},
   "source": [
    "## DataFrameをExcelとして保存してみる"
   ]
  },
  {
   "cell_type": "code",
   "execution_count": null,
   "metadata": {
    "ExecuteTime": {
     "end_time": "2022-09-09T23:40:19.976782Z",
     "start_time": "2022-09-09T23:40:19.921930Z"
    }
   },
   "outputs": [],
   "source": [
    "df3.to_excel('../output/df3.xlsx', index=False)"
   ]
  },
  {
   "cell_type": "markdown",
   "metadata": {},
   "source": [
    "## Excelを読み込んでDataFrameを作成する"
   ]
  },
  {
   "cell_type": "code",
   "execution_count": null,
   "metadata": {
    "ExecuteTime": {
     "end_time": "2022-09-09T23:40:20.182233Z",
     "start_time": "2022-09-09T23:40:19.978778Z"
    }
   },
   "outputs": [],
   "source": [
    "df5 = pd.read_excel('../output/df3.xlsx')\n",
    "df5"
   ]
  },
  {
   "cell_type": "code",
   "execution_count": null,
   "metadata": {},
   "outputs": [],
   "source": []
  }
 ],
 "metadata": {
  "kernelspec": {
   "display_name": "Python 3 (ipykernel)",
   "language": "python",
   "name": "python3"
  },
  "language_info": {
   "codemirror_mode": {
    "name": "ipython",
    "version": 3
   },
   "file_extension": ".py",
   "mimetype": "text/x-python",
   "name": "python",
   "nbconvert_exporter": "python",
   "pygments_lexer": "ipython3",
   "version": "3.8.8"
  },
  "latex_envs": {
   "LaTeX_envs_menu_present": true,
   "autoclose": false,
   "autocomplete": true,
   "bibliofile": "biblio.bib",
   "cite_by": "apalike",
   "current_citInitial": 1,
   "eqLabelWithNumbers": true,
   "eqNumInitial": 1,
   "hotkeys": {
    "equation": "Ctrl-E",
    "itemize": "Ctrl-I"
   },
   "labels_anchors": false,
   "latex_user_defs": false,
   "report_style_numbering": false,
   "user_envs_cfg": false
  },
  "toc": {
   "base_numbering": 1,
   "nav_menu": {},
   "number_sections": true,
   "sideBar": true,
   "skip_h1_title": false,
   "title_cell": "Table of Contents",
   "title_sidebar": "Contents",
   "toc_cell": false,
   "toc_position": {
    "height": "calc(100% - 180px)",
    "left": "10px",
    "top": "150px",
    "width": "303.837px"
   },
   "toc_section_display": true,
   "toc_window_display": true
  },
  "varInspector": {
   "cols": {
    "lenName": 16,
    "lenType": 16,
    "lenVar": 40
   },
   "kernels_config": {
    "python": {
     "delete_cmd_postfix": "",
     "delete_cmd_prefix": "del ",
     "library": "var_list.py",
     "varRefreshCmd": "print(var_dic_list())"
    },
    "r": {
     "delete_cmd_postfix": ") ",
     "delete_cmd_prefix": "rm(",
     "library": "var_list.r",
     "varRefreshCmd": "cat(var_dic_list()) "
    }
   },
   "types_to_exclude": [
    "module",
    "function",
    "builtin_function_or_method",
    "instance",
    "_Feature"
   ],
   "window_display": false
  }
 },
 "nbformat": 4,
 "nbformat_minor": 2
}
