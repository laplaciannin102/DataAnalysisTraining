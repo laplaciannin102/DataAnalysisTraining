{
 "cells": [
  {
   "cell_type": "markdown",
   "metadata": {},
   "source": [
    "# Load modules"
   ]
  },
  {
   "cell_type": "markdown",
   "metadata": {},
   "source": [
    "ライブラリ読み込み"
   ]
  },
  {
   "cell_type": "code",
   "execution_count": null,
   "metadata": {
    "code_folding": [
     0
    ]
   },
   "outputs": [],
   "source": [
    "# ライブラリ読み込み\n",
    "import sys, os\n",
    "import time\n",
    "import gc\n",
    "from datetime import datetime as dt\n",
    "import numpy as np\n",
    "import pandas as pd\n",
    "import random\n",
    "import matplotlib.pyplot as plt\n",
    "import japanize_matplotlib\n",
    "import pydotplus as pdp\n",
    "\n",
    "import re # 正規表現\n",
    "\n",
    "import seaborn as sns\n",
    "\n",
    "from sklearn import tree\n",
    "from sklearn.tree import DecisionTreeClassifier\n",
    "from sklearn.ensemble import RandomForestClassifier\n",
    "from sklearn.svm import SVC\n",
    "\n",
    "from sklearn.externals.six import StringIO\n",
    "from IPython.display import Image\n",
    "from sklearn.model_selection import train_test_split\n",
    "from sklearn.model_selection import GridSearchCV\n",
    "\n",
    "# 評価関数\n",
    "from sklearn.metrics import confusion_matrix\n",
    "from sklearn.metrics import accuracy_score\n",
    "from sklearn.metrics import f1_score\n",
    "from sklearn.metrics import precision_score\n",
    "from sklearn.metrics import recall_score\n",
    "\n",
    "%matplotlib inline"
   ]
  },
  {
   "cell_type": "code",
   "execution_count": null,
   "metadata": {},
   "outputs": [],
   "source": [
    "# 自作関数\n",
    "from annnmods import *"
   ]
  },
  {
   "cell_type": "code",
   "execution_count": null,
   "metadata": {
    "scrolled": true
   },
   "outputs": [],
   "source": [
    "print_usage()"
   ]
  },
  {
   "cell_type": "code",
   "execution_count": null,
   "metadata": {
    "scrolled": true
   },
   "outputs": [],
   "source": [
    "gc.collect()"
   ]
  },
  {
   "cell_type": "markdown",
   "metadata": {},
   "source": [
    "# Configuration"
   ]
  },
  {
   "cell_type": "markdown",
   "metadata": {},
   "source": [
    "## 左寄せにするマジックコマンド"
   ]
  },
  {
   "cell_type": "code",
   "execution_count": null,
   "metadata": {},
   "outputs": [],
   "source": [
    "%%html\n",
    "<style>\n",
    "    table{float:left}\n",
    "    .MathJax{float: left;}\n",
    "</style>"
   ]
  },
  {
   "cell_type": "markdown",
   "metadata": {},
   "source": [
    "## データフレームの表示設定"
   ]
  },
  {
   "cell_type": "code",
   "execution_count": null,
   "metadata": {},
   "outputs": [],
   "source": [
    "# データフレームの表示行数、表示列数\n",
    "pd.set_option('display.max_columns', 100)\n",
    "pd.set_option('display.max_rows', 200)\n",
    "\n",
    "# カラム内の文字数。デフォルトは50。\n",
    "pd.set_option(\"display.max_colwidth\", 100)"
   ]
  },
  {
   "cell_type": "markdown",
   "metadata": {},
   "source": [
    "## パスの設定"
   ]
  },
  {
   "cell_type": "code",
   "execution_count": null,
   "metadata": {},
   "outputs": [],
   "source": [
    "# ファイルのパス\n",
    "path = os.getcwd()\n",
    "# 一応チェンジディレクトリしておく\n",
    "os.chdir(path)"
   ]
  },
  {
   "cell_type": "markdown",
   "metadata": {},
   "source": [
    "# Constants"
   ]
  },
  {
   "cell_type": "markdown",
   "metadata": {},
   "source": [
    "## paths"
   ]
  },
  {
   "cell_type": "code",
   "execution_count": null,
   "metadata": {},
   "outputs": [],
   "source": [
    "input_path = '../input/'\n",
    "output_path = '../output/'"
   ]
  },
  {
   "cell_type": "markdown",
   "metadata": {},
   "source": [
    "# Functions"
   ]
  },
  {
   "cell_type": "markdown",
   "metadata": {},
   "source": [
    "## 数値計算"
   ]
  },
  {
   "cell_type": "markdown",
   "metadata": {},
   "source": [
    "### 数字を四捨五入で丸める"
   ]
  },
  {
   "cell_type": "code",
   "execution_count": null,
   "metadata": {
    "code_folding": [
     0
    ]
   },
   "outputs": [],
   "source": [
    "def pro_round(num, ndigits=0):\n",
    "    \"\"\"\n",
    "    数字を四捨五入で丸める。\n",
    "\n",
    "    Args:\n",
    "        num: int or float\n",
    "            丸めたい数字。\n",
    "\n",
    "        ndigits: int, optional(default=0)\n",
    "            丸めた後の小数部分の桁数。\n",
    "\n",
    "    Returns:\n",
    "        rounded: int or float\n",
    "            丸めた後の数字。\n",
    "    \"\"\"\n",
    "    num *= 10 ** ndigits\n",
    "    rounded = ( 2* num + 1 ) // 2\n",
    "    rounded /= 10 ** ndigits\n",
    "\n",
    "    if ndigits == 0:\n",
    "        rounded = int(rounded)\n",
    "\n",
    "    return rounded"
   ]
  },
  {
   "cell_type": "markdown",
   "metadata": {},
   "source": [
    "### スタージェスの公式"
   ]
  },
  {
   "cell_type": "code",
   "execution_count": null,
   "metadata": {
    "code_folding": [
     0
    ]
   },
   "outputs": [],
   "source": [
    "def sturges_rule(num):\n",
    "    \"\"\"\n",
    "    スタージェスの公式を用いて、\n",
    "    サンプルサイズから階級(カテゴリ、ビン(bins))の数を計算する。\n",
    "    公式のTeX表記: \\[bins = 1 + \\log_2{N} \\nonumber \\]\n",
    "\n",
    "    Args:\n",
    "        num: int\n",
    "            サンプルサイズ。原則1以上の整数を想定。\n",
    "    \n",
    "    Returns:\n",
    "        n_bins: int\n",
    "            スタージェスの公式から導かれた適切な階級の数。\n",
    "    \"\"\"\n",
    "    # numが0以下の時は1を返す\n",
    "    if num <= 0:\n",
    "        num = 1\n",
    "        return 1\n",
    "    \n",
    "    # スタージェスの公式\n",
    "    n_bins = int(pro_round(1 + np.log2(num), 0))\n",
    "    \n",
    "    return n_bins"
   ]
  },
  {
   "cell_type": "markdown",
   "metadata": {},
   "source": [
    "# Load data"
   ]
  },
  {
   "cell_type": "markdown",
   "metadata": {},
   "source": [
    "## データ準備"
   ]
  },
  {
   "cell_type": "code",
   "execution_count": null,
   "metadata": {},
   "outputs": [],
   "source": [
    "# タイタニックデータ\n",
    "# seabornからロード\n",
    "titanic_df = sns.load_dataset('titanic')"
   ]
  },
  {
   "cell_type": "markdown",
   "metadata": {},
   "source": [
    "# Explatory data analysis"
   ]
  },
  {
   "cell_type": "raw",
   "metadata": {},
   "source": [
    "kaggle版\n",
    "\n",
    "PassengerID:　乗客ID\n",
    "Survived: 　　生存結果 (1: 生存, 2: 死亡)　\n",
    "Pclass: 　　　乗客の階級 1が一番位が高いそう\n",
    "Name: 　　 　乗客の名前\n",
    "Sex: 　　　　 性別\n",
    "Age: 　　　　 年齢\n",
    "SibSp 　　 　 兄弟、配偶者の数。\n",
    "Parch 　　　　両親、子供の数。\n",
    "Ticket 　　　 チケット番号。\n",
    "Fare 　　　　 乗船料金。\n",
    "Cabin 　　　　部屋番号\n",
    "Embarked 　　 乗船した港　Cherbourg、Queenstown、Southamptonの３種類があります"
   ]
  },
  {
   "cell_type": "markdown",
   "metadata": {},
   "source": [
    "## 基本的な情報を確認"
   ]
  },
  {
   "cell_type": "code",
   "execution_count": null,
   "metadata": {},
   "outputs": [],
   "source": [
    "# 上から3行読む\n",
    "titanic_df.head(3)"
   ]
  },
  {
   "cell_type": "code",
   "execution_count": null,
   "metadata": {},
   "outputs": [],
   "source": [
    "# head()の中を何も指定しないと5行読み込む扱い\n",
    "titanic_df.head()"
   ]
  },
  {
   "cell_type": "code",
   "execution_count": null,
   "metadata": {},
   "outputs": [],
   "source": [
    "# tail()は最後の5行\n",
    "titanic_df.tail()"
   ]
  },
  {
   "cell_type": "code",
   "execution_count": null,
   "metadata": {},
   "outputs": [],
   "source": [
    "# (行数, 列数)を確認\n",
    "titanic_df.shape"
   ]
  },
  {
   "cell_type": "markdown",
   "metadata": {},
   "source": [
    "## 基本統計量を見る"
   ]
  },
  {
   "cell_type": "code",
   "execution_count": null,
   "metadata": {},
   "outputs": [],
   "source": [
    "# 基本統計量を見る\n",
    "titanic_df.describe()"
   ]
  },
  {
   "cell_type": "markdown",
   "metadata": {},
   "source": [
    "## 相関を見る"
   ]
  },
  {
   "cell_type": "code",
   "execution_count": null,
   "metadata": {},
   "outputs": [],
   "source": [
    "corr = titanic_df.corr()\n",
    "corr"
   ]
  },
  {
   "cell_type": "code",
   "execution_count": null,
   "metadata": {},
   "outputs": [],
   "source": [
    "# ヒートマップで表示も可能\n",
    "sns.heatmap(corr)"
   ]
  },
  {
   "cell_type": "markdown",
   "metadata": {},
   "source": [
    "### 相関係数(の絶対値)が高い順に並べる"
   ]
  },
  {
   "cell_type": "code",
   "execution_count": null,
   "metadata": {},
   "outputs": [],
   "source": [
    "# 目的変数\n",
    "target = 'survived'"
   ]
  },
  {
   "cell_type": "code",
   "execution_count": null,
   "metadata": {
    "scrolled": true
   },
   "outputs": [],
   "source": [
    "# 相関係数の絶対値が高い順に並べる\n",
    "corr0 = corr[[target]]\n",
    "corr0['abs_corr'] = corr0[target].abs()\n",
    "corr0 = corr0.sort_values(by='abs_corr', ascending=False)\n",
    "corr0"
   ]
  },
  {
   "cell_type": "markdown",
   "metadata": {},
   "source": [
    "以下2つは同じ\n",
    "titanic_df['pclass']\n",
    "titanic_df.pclass"
   ]
  },
  {
   "cell_type": "markdown",
   "metadata": {},
   "source": [
    "## 度数を見てみる"
   ]
  },
  {
   "cell_type": "markdown",
   "metadata": {},
   "source": [
    "### pclass"
   ]
  },
  {
   "cell_type": "code",
   "execution_count": null,
   "metadata": {
    "scrolled": false
   },
   "outputs": [],
   "source": [
    "titanic_df.pclass.value_counts()"
   ]
  },
  {
   "cell_type": "markdown",
   "metadata": {},
   "source": [
    "### 性別"
   ]
  },
  {
   "cell_type": "code",
   "execution_count": null,
   "metadata": {},
   "outputs": [],
   "source": [
    "titanic_df.sex.value_counts()"
   ]
  },
  {
   "cell_type": "markdown",
   "metadata": {},
   "source": [
    "## 各変数の尺度を確認することが重要"
   ]
  },
  {
   "cell_type": "markdown",
   "metadata": {},
   "source": [
    "参考: http://www.gen-info.osaka-u.ac.jp/MEPHAS/express/express0.html  \n",
    "  \n",
    "- 順序尺度以上：順序尺度・間隔尺度・比例尺度のいずれかである場合です  \n",
    "- 間隔尺度以上：間隔尺度・比例尺度のいずれかである場合です  \n",
    "  \n",
    "### 名義尺度\n",
    "単に区別するために用いられている尺度。  \n",
    "例えば、血液型でＡ型・Ｂ型・Ｏ型・ＡＢ型を、 それぞれ０・１・２・３と数値に対応させたもの。  \n",
    "これらの変数の平均値を求めてもまったく意味がありません。  \n",
    "  \n",
    "### 順序尺度\n",
    "大小関係にのみ意味がある尺度。  \n",
    "例えば、治療効果の判定において、 悪化・不変・改善・著効を、それぞれ-１・０・１・２と数値に対応させたもの。  \n",
    "平均値は定義できないが中央値は定義できます。  \n",
    "  \n",
    "### 間隔尺度\n",
    "数値の差のみに意味がある尺度。  \n",
    "「距離尺度」とも呼びます。順序尺度の性質も備えています。  \n",
    "例えば、温度が10℃から15℃になったときに、50％の温度上昇があったとはいいません。 温度が10℃から15℃になったときも、100℃から105℃になったときも、 ともに５℃の温度上昇です。そして、５℃という数値には意味があります。  \n",
    "  \n",
    "### 比例尺度\n",
    "数値の差とともに数値の比にも意味がある尺度。  \n",
    "「比尺度」とも呼びます。順序尺度・間隔尺度の性質も備えています。  \n",
    "例えば、体重は50kgから60kgになったときと、100kgから110kgになったときとは、 同じ10kgの増加であっても、前者は20％増、後者は10％増です。 また、比が定義できるということは絶対零点を持つことと同じことを表します。  "
   ]
  },
  {
   "cell_type": "markdown",
   "metadata": {},
   "source": [
    "## Excelで保存してみる"
   ]
  },
  {
   "cell_type": "markdown",
   "metadata": {},
   "source": [
    "to_excel(ファイル名, index=(indexをつけるかどうか))"
   ]
  },
  {
   "cell_type": "code",
   "execution_count": null,
   "metadata": {},
   "outputs": [],
   "source": [
    "titanic_path = input_path + 'titanic_df_190907.xlsx'"
   ]
  },
  {
   "cell_type": "code",
   "execution_count": null,
   "metadata": {},
   "outputs": [],
   "source": [
    "# 保存する\n",
    "titanic_df.to_excel(titanic_path, index=False)"
   ]
  },
  {
   "cell_type": "markdown",
   "metadata": {},
   "source": [
    "## Excelを読み込む"
   ]
  },
  {
   "cell_type": "code",
   "execution_count": null,
   "metadata": {},
   "outputs": [],
   "source": [
    "# 読み込む\n",
    "nakami_df = pd.read_excel(titanic_path, index=False)\n",
    "nakami_df.head(3)"
   ]
  },
  {
   "cell_type": "markdown",
   "metadata": {},
   "source": [
    "## 変数の概要を確認する"
   ]
  },
  {
   "cell_type": "code",
   "execution_count": null,
   "metadata": {},
   "outputs": [],
   "source": [
    "target"
   ]
  },
  {
   "cell_type": "code",
   "execution_count": null,
   "metadata": {},
   "outputs": [],
   "source": [
    "var_info_df = check_var_info(nakami_df, target=target, file_name=titanic_path, filecol_is=True, transcol_is=True)\n",
    "var_info_df"
   ]
  },
  {
   "cell_type": "code",
   "execution_count": null,
   "metadata": {},
   "outputs": [],
   "source": [
    "# var_info_dfのカラム名を日本語にしたい場合\n",
    "enja_dict = {\n",
    "    'file_name': 'ファイル名',\n",
    "    'var_name': '変数名',\n",
    "    'var_name_ja': '変数名日本語訳',\n",
    "    'dtype': 'データ型',\n",
    "    'n_unique': '値の種類数',\n",
    "    'major_vals': '最多数値',\n",
    "    'count_of_major': '多数値レコード数',\n",
    "    'missing_rate': '欠損率',\n",
    "    'n_exist': '非欠損数',\n",
    "    'n_missing': '欠損数',\n",
    "    'n_rows': 'レコード数',\n",
    "    'mean': '平均値',\n",
    "    'std': '標準偏差',\n",
    "    'min': '最小値',\n",
    "    'med': '中央値',\n",
    "    'max': '最大値',\n",
    "    'corr_with_target': '目的変数との相関',\n",
    "    'abs_corr_with_target': '目的変数との相関_絶対値'\n",
    "}\n",
    "var_info_df = var_info_df.rename(columns=enja_dict)\n",
    "var_info_df"
   ]
  },
  {
   "cell_type": "code",
   "execution_count": null,
   "metadata": {},
   "outputs": [],
   "source": [
    "# 出力してみる\n",
    "var_info_df.to_excel(output_path + 'titanic_var_info.xlsx', index=False)"
   ]
  },
  {
   "cell_type": "markdown",
   "metadata": {},
   "source": [
    "# Preprocessing"
   ]
  },
  {
   "cell_type": "code",
   "execution_count": null,
   "metadata": {},
   "outputs": [],
   "source": [
    "df = titanic_df.copy()\n",
    "df.head(3)"
   ]
  },
  {
   "cell_type": "code",
   "execution_count": null,
   "metadata": {},
   "outputs": [],
   "source": [
    "df.shape"
   ]
  },
  {
   "cell_type": "markdown",
   "metadata": {},
   "source": [
    "## survivedとaliveが被っているのでaliveカラムを削除"
   ]
  },
  {
   "cell_type": "code",
   "execution_count": null,
   "metadata": {},
   "outputs": [],
   "source": [
    "# 重複した行を削除\n",
    "df[[target, 'alive']].drop_duplicates()"
   ]
  },
  {
   "cell_type": "code",
   "execution_count": null,
   "metadata": {},
   "outputs": [],
   "source": [
    "df = df.drop('alive', axis=1)\n",
    "df.head(3)"
   ]
  },
  {
   "cell_type": "markdown",
   "metadata": {},
   "source": [
    "## 階級に分ける"
   ]
  },
  {
   "cell_type": "markdown",
   "metadata": {},
   "source": [
    "### 階級に分けるカラムの指定"
   ]
  },
  {
   "cell_type": "code",
   "execution_count": null,
   "metadata": {},
   "outputs": [],
   "source": [
    "cls_cols = ['age', 'fare']"
   ]
  },
  {
   "cell_type": "markdown",
   "metadata": {},
   "source": [
    "### 階級数をスタージェスの公式で計算"
   ]
  },
  {
   "cell_type": "code",
   "execution_count": null,
   "metadata": {},
   "outputs": [],
   "source": [
    "n_class = sturges_rule(len(df))\n",
    "n_class"
   ]
  },
  {
   "cell_type": "markdown",
   "metadata": {},
   "source": [
    "### 階級に分ける"
   ]
  },
  {
   "cell_type": "code",
   "execution_count": null,
   "metadata": {},
   "outputs": [],
   "source": [
    "df, bins = get_classes(\n",
    "    in_df = df,\n",
    "    columns = cls_cols,\n",
    "    n_classes = n_class,\n",
    "    drop = True\n",
    "    )"
   ]
  },
  {
   "cell_type": "code",
   "execution_count": null,
   "metadata": {},
   "outputs": [],
   "source": [
    "df.head(3)"
   ]
  },
  {
   "cell_type": "code",
   "execution_count": null,
   "metadata": {},
   "outputs": [],
   "source": [
    "cls_bins_cols = list(bins.keys())\n",
    "cls_bins_cols"
   ]
  },
  {
   "cell_type": "markdown",
   "metadata": {},
   "source": [
    "## ダミー変数化"
   ]
  },
  {
   "cell_type": "markdown",
   "metadata": {},
   "source": [
    "### カテゴリ変数のカラムの指定"
   ]
  },
  {
   "cell_type": "code",
   "execution_count": null,
   "metadata": {},
   "outputs": [],
   "source": [
    "var_info_df.columns.tolist()"
   ]
  },
  {
   "cell_type": "code",
   "execution_count": null,
   "metadata": {},
   "outputs": [],
   "source": [
    "var_name = '変数名'\n",
    "n_unique = '値の種類数'\n",
    "tmp = var_info_df[[var_name, n_unique]]\n",
    "tmp = tmp[tmp[n_unique] <= 10]\n",
    "tmp"
   ]
  },
  {
   "cell_type": "code",
   "execution_count": null,
   "metadata": {},
   "outputs": [],
   "source": [
    "cate_cols = tmp[var_name].values.tolist()\n",
    "cate_cols.remove('alive')\n",
    "cate_cols.remove(target)"
   ]
  },
  {
   "cell_type": "code",
   "execution_count": null,
   "metadata": {},
   "outputs": [],
   "source": [
    "cate_cols += cls_bins_cols\n",
    "cate_cols"
   ]
  },
  {
   "cell_type": "markdown",
   "metadata": {},
   "source": [
    "### ダミー変数化"
   ]
  },
  {
   "cell_type": "code",
   "execution_count": null,
   "metadata": {},
   "outputs": [],
   "source": [
    "df.columns.tolist()"
   ]
  },
  {
   "cell_type": "code",
   "execution_count": null,
   "metadata": {},
   "outputs": [],
   "source": [
    "df = pd.get_dummies(df, dummy_na=True, columns=cate_cols)\n",
    "df.head(3)"
   ]
  },
  {
   "cell_type": "code",
   "execution_count": null,
   "metadata": {},
   "outputs": [],
   "source": [
    "df.shape"
   ]
  },
  {
   "cell_type": "code",
   "execution_count": null,
   "metadata": {
    "scrolled": true
   },
   "outputs": [],
   "source": [
    "# カラムの確認\n",
    "df.columns.tolist()"
   ]
  },
  {
   "cell_type": "markdown",
   "metadata": {},
   "source": [
    "### まとめて前処理する場合"
   ]
  },
  {
   "cell_type": "raw",
   "metadata": {},
   "source": [
    "df0 = general_preprocessing(df, ignore_cols=ignore_cols, cate_cols=cate_cols)\n",
    "df0.head(3)"
   ]
  },
  {
   "cell_type": "code",
   "execution_count": null,
   "metadata": {},
   "outputs": [],
   "source": [
    "gc.collect()"
   ]
  },
  {
   "cell_type": "markdown",
   "metadata": {},
   "source": [
    "## 改めてcheck var infoする"
   ]
  },
  {
   "cell_type": "code",
   "execution_count": null,
   "metadata": {
    "code_folding": [
     3
    ]
   },
   "outputs": [],
   "source": [
    "var_info_df0 = check_var_info(df, target=target, file_name=titanic_path, filecol_is=True, transcol_is=True)\n",
    "\n",
    "# var_info_dfのカラム名を日本語にしたい場合\n",
    "enja_dict = {\n",
    "    'file_name': 'ファイル名',\n",
    "    'var_name': '変数名',\n",
    "    'var_name_ja': '変数名日本語訳',\n",
    "    'dtype': 'データ型',\n",
    "    'n_unique': '値の種類数',\n",
    "    'major_vals': '最多数値',\n",
    "    'count_of_major': '多数値レコード数',\n",
    "    'missing_rate': '欠損率',\n",
    "    'n_exist': '非欠損数',\n",
    "    'n_missing': '欠損数',\n",
    "    'n_rows': 'レコード数',\n",
    "    'mean': '平均値',\n",
    "    'std': '標準偏差',\n",
    "    'min': '最小値',\n",
    "    'med': '中央値',\n",
    "    'max': '最大値',\n",
    "    'corr_with_target': '目的変数との相関',\n",
    "    'abs_corr_with_target': '目的変数との相関_絶対値'\n",
    "}\n",
    "var_info_df0 = var_info_df0.rename(columns=enja_dict)\n",
    "var_info_df0"
   ]
  },
  {
   "cell_type": "code",
   "execution_count": null,
   "metadata": {},
   "outputs": [],
   "source": [
    "# 出力してみる\n",
    "var_info_df0.to_excel(output_path + 'titanic_var_info0.xlsx', index=False)"
   ]
  },
  {
   "cell_type": "markdown",
   "metadata": {},
   "source": [
    "## 目的変数と説明変数で分ける"
   ]
  },
  {
   "cell_type": "code",
   "execution_count": null,
   "metadata": {
    "scrolled": true
   },
   "outputs": [],
   "source": [
    "df.columns.tolist()"
   ]
  },
  {
   "cell_type": "code",
   "execution_count": null,
   "metadata": {},
   "outputs": [],
   "source": [
    "ignore_cols = [target]"
   ]
  },
  {
   "cell_type": "code",
   "execution_count": null,
   "metadata": {},
   "outputs": [],
   "source": [
    "data_x = df.drop(labels=ignore_cols, axis=1)\n",
    "data_y = df[target]"
   ]
  },
  {
   "cell_type": "markdown",
   "metadata": {},
   "source": [
    "## trainとtestに分割"
   ]
  },
  {
   "cell_type": "code",
   "execution_count": null,
   "metadata": {},
   "outputs": [],
   "source": [
    "train_x, test_x, train_y, test_y = train_test_split(data_x, data_y, random_state=57, test_size=0.3)"
   ]
  },
  {
   "cell_type": "code",
   "execution_count": null,
   "metadata": {},
   "outputs": [],
   "source": [
    "train_x.head()"
   ]
  },
  {
   "cell_type": "code",
   "execution_count": null,
   "metadata": {},
   "outputs": [],
   "source": [
    "print('train_x.shape:', train_x.shape)\n",
    "print('test_x.shape:', test_x.shape)\n",
    "print('train_y.shape:', train_y.shape)\n",
    "print('test_y.shape:', test_y.shape)"
   ]
  },
  {
   "cell_type": "markdown",
   "metadata": {},
   "source": [
    "# RandomForest"
   ]
  },
  {
   "cell_type": "markdown",
   "metadata": {},
   "source": [
    "## create model"
   ]
  },
  {
   "cell_type": "code",
   "execution_count": null,
   "metadata": {},
   "outputs": [],
   "source": [
    "rfc = RandomForestClassifier(bootstrap=True, criterion='gini', max_depth=11, min_samples_leaf=5, n_estimators=100, random_state=57)\n",
    "rfc.fit(train_x, train_y)"
   ]
  },
  {
   "cell_type": "markdown",
   "metadata": {},
   "source": [
    "## 寄与度分析"
   ]
  },
  {
   "cell_type": "code",
   "execution_count": null,
   "metadata": {},
   "outputs": [],
   "source": [
    "# 説明変数\n",
    "features = train_x.columns\n",
    "\n",
    "# 寄与率\n",
    "importances = rfc.feature_importances_"
   ]
  },
  {
   "cell_type": "code",
   "execution_count": null,
   "metadata": {},
   "outputs": [],
   "source": [
    "# importances描き方\n",
    "importance_df = pd.DataFrame({'feature': features, 'importance':  importances})\n",
    "importance_df.sort_values(by='importance', ascending=True).plot(x='feature',y='importance',kind='barh',figsize=(12,9))\n",
    "display(importance_df.sort_values(by='importance', ascending=False))"
   ]
  },
  {
   "cell_type": "markdown",
   "metadata": {},
   "source": [
    "## 木の一つを可視化する"
   ]
  },
  {
   "cell_type": "code",
   "execution_count": null,
   "metadata": {},
   "outputs": [],
   "source": [
    "# 試しに木の一つを視覚化する\n",
    "estimators = rfc.estimators_\n",
    "file_name = output_path + 'titanic_rfc_tree_0.png'\n",
    "dot_data = tree.export_graphviz(estimators[0], # 決定木オブジェクトを一つ指定する\n",
    "                                out_file=None, # ファイルは介さずにGraphvizにdot言語データを渡すのでNone\n",
    "                                filled=True, # Trueにすると、分岐の際にどちらのノードに多く分類されたのか色で示してくれる\n",
    "                                node_ids=True, # ノード番号出力?\n",
    "                                # proportion=True, # パーセンテージ表記\n",
    "                                rounded=True, # Trueにすると、ノードの角を丸く描画する。\n",
    "                                feature_names=features, # これを指定しないとチャート上で特徴量の名前が表示されない\n",
    "                                class_names=['死亡', '生存'], # これを指定しないとチャート上で分類名が表示されない\n",
    "                                special_characters=True # 特殊文字を扱えるようにする\n",
    "                                )\n",
    "graph = pdp.graph_from_dot_data(dot_data)\n",
    "\n",
    "# 木を画像ファイルとして出力\n",
    "graph.write_png(file_name)\n",
    "\n",
    "# 木を表示する\n",
    "Image(file_name)"
   ]
  },
  {
   "cell_type": "markdown",
   "metadata": {},
   "source": [
    "## 評価"
   ]
  },
  {
   "cell_type": "markdown",
   "metadata": {},
   "source": [
    "機械学習の評価指標  \n",
    "https://data.gunosy.io/entry/2016/08/05/115345"
   ]
  },
  {
   "cell_type": "code",
   "execution_count": null,
   "metadata": {},
   "outputs": [],
   "source": [
    "# trainの評価\n",
    "pred_train_y = rfc.predict(train_x)\n",
    "prob_train_y = rfc.predict_proba(train_x)\n",
    "\n",
    "print('--------------------------------------------------------------------------')\n",
    "print('train評価')\n",
    "train_score_df, train_cm_df = print_clf_score(train_y, pred_train_y)\n",
    "\n",
    "print('--------------------------------------------------------------------------')\n",
    "\n",
    "# testの評価\n",
    "pred_test_y = rfc.predict(test_x)\n",
    "prob_test_y = rfc.predict_proba(test_x)\n",
    "\n",
    "print('test評価')\n",
    "test_score_df, test_cm_df = print_clf_score(test_y, pred_test_y)\n",
    "print('--------------------------------------------------------------------------')"
   ]
  },
  {
   "cell_type": "code",
   "execution_count": null,
   "metadata": {},
   "outputs": [],
   "source": [
    "train_score_df"
   ]
  },
  {
   "cell_type": "code",
   "execution_count": null,
   "metadata": {},
   "outputs": [],
   "source": [
    "test_score_df"
   ]
  },
  {
   "cell_type": "markdown",
   "metadata": {},
   "source": [
    "## 混同行列"
   ]
  },
  {
   "cell_type": "code",
   "execution_count": null,
   "metadata": {},
   "outputs": [],
   "source": [
    "train_cm_df"
   ]
  },
  {
   "cell_type": "code",
   "execution_count": null,
   "metadata": {},
   "outputs": [],
   "source": [
    "test_cm_df"
   ]
  },
  {
   "cell_type": "markdown",
   "metadata": {},
   "source": [
    "## 結果をまとめたdfを作成"
   ]
  },
  {
   "cell_type": "markdown",
   "metadata": {},
   "source": [
    "### result_dfの作成"
   ]
  },
  {
   "cell_type": "code",
   "execution_count": null,
   "metadata": {},
   "outputs": [],
   "source": [
    "result_df = test_x.copy()\n",
    "result_df[target] = test_y\n",
    "result_df['pred_y'] = pred_test_y\n",
    "result_df['pred_prob'] = prob_test_y.T[1]\n",
    "\n",
    "result_df.head()"
   ]
  },
  {
   "cell_type": "code",
   "execution_count": null,
   "metadata": {},
   "outputs": [],
   "source": [
    "result_df.shape"
   ]
  },
  {
   "cell_type": "code",
   "execution_count": null,
   "metadata": {},
   "outputs": [],
   "source": [
    "def result_to_unique(result_df, cols_list):\n",
    "    \n",
    "    cols_df_list = []\n",
    "    for col in cols_list:\n",
    "        cols_df_list.append(result_df[col])\n",
    "    \n",
    "    cross_df = pd.crosstab(margins=True, index=cols_df_list, columns=all).reset_index()\n",
    "    cross_df = cross_df[cols_list + ['All']].rename(columns={'All': 'count'})\n",
    "    \n",
    "    del cross_df.columns.name # indexを直す\n",
    "    cross_df[cols_list] = cross_df[cols_list].astype(str) # 型をstrにする\n",
    "    \n",
    "    \n",
    "    # uniqueのlistを作る\n",
    "    unique_df = result_df.drop_duplicates(subset=cols_list)\n",
    "    \n",
    "    unique_df[cols_list] = unique_df[cols_list].astype(str) # 型をstrにする\n",
    "    \n",
    "    # マージする\n",
    "    out_df = pd.merge(unique_df, cross_df, on=cols_list, how='left')\n",
    "    \n",
    "    # ソート\n",
    "    out_df = out_df.sort_values(by=['pred_prob', 'count'], ascending=[False, False]).reset_index(drop=True)\n",
    "    out_df['count_累積和'] = np.cumsum(out_df['count'].values)\n",
    "    out_df['count_累積比'] = out_df['count_累積和'] / out_df['count'].values.sum()\n",
    "    \n",
    "    return out_df"
   ]
  },
  {
   "cell_type": "code",
   "execution_count": null,
   "metadata": {},
   "outputs": [],
   "source": [
    "# 自作関数を使って、uniqueにした上、集計する\n",
    "unique_df = result_to_unique(result_df, features.tolist())\n",
    "unique_df"
   ]
  },
  {
   "cell_type": "code",
   "execution_count": null,
   "metadata": {},
   "outputs": [],
   "source": [
    "# 見やすくする\n",
    "unique_df['summary'] = unique_df.apply(lambda row: extract_isone(row, features.tolist()), axis=1)\n",
    "unique_df"
   ]
  },
  {
   "cell_type": "markdown",
   "metadata": {},
   "source": [
    "# メモリ使用チェック"
   ]
  },
  {
   "cell_type": "code",
   "execution_count": null,
   "metadata": {},
   "outputs": [],
   "source": [
    "mem_cols = ['Variable Name', 'Memory']\n",
    "memory_df = pd.DataFrame(columns=mem_cols)\n",
    "\n",
    "for var_name in dir():\n",
    "    if not var_name.startswith(\"_\"):\n",
    "        memory_df = memory_df.append(pd.DataFrame([[var_name, sys.getsizeof(eval(var_name))]], columns=mem_cols))\n",
    "\n",
    "memory_df = memory_df.sort_values(by='Memory', ascending=False).reset_index(drop=True)\n",
    "display(memory_df)"
   ]
  },
  {
   "cell_type": "code",
   "execution_count": null,
   "metadata": {},
   "outputs": [],
   "source": []
  },
  {
   "cell_type": "code",
   "execution_count": null,
   "metadata": {},
   "outputs": [],
   "source": []
  }
 ],
 "metadata": {
  "kernelspec": {
   "display_name": "Python 3",
   "language": "python",
   "name": "python3"
  },
  "language_info": {
   "codemirror_mode": {
    "name": "ipython",
    "version": 3
   },
   "file_extension": ".py",
   "mimetype": "text/x-python",
   "name": "python",
   "nbconvert_exporter": "python",
   "pygments_lexer": "ipython3",
   "version": "3.7.1"
  },
  "latex_envs": {
   "LaTeX_envs_menu_present": true,
   "autoclose": false,
   "autocomplete": true,
   "bibliofile": "biblio.bib",
   "cite_by": "apalike",
   "current_citInitial": 1,
   "eqLabelWithNumbers": true,
   "eqNumInitial": 1,
   "hotkeys": {
    "equation": "Ctrl-E",
    "itemize": "Ctrl-I"
   },
   "labels_anchors": false,
   "latex_user_defs": false,
   "report_style_numbering": false,
   "user_envs_cfg": false
  },
  "toc": {
   "base_numbering": 1,
   "nav_menu": {},
   "number_sections": true,
   "sideBar": true,
   "skip_h1_title": false,
   "title_cell": "Table of Contents",
   "title_sidebar": "Contents",
   "toc_cell": false,
   "toc_position": {
    "height": "calc(100% - 180px)",
    "left": "10px",
    "top": "150px",
    "width": "288px"
   },
   "toc_section_display": true,
   "toc_window_display": true
  },
  "varInspector": {
   "cols": {
    "lenName": 16,
    "lenType": 16,
    "lenVar": 40
   },
   "kernels_config": {
    "python": {
     "delete_cmd_postfix": "",
     "delete_cmd_prefix": "del ",
     "library": "var_list.py",
     "varRefreshCmd": "print(var_dic_list())"
    },
    "r": {
     "delete_cmd_postfix": ") ",
     "delete_cmd_prefix": "rm(",
     "library": "var_list.r",
     "varRefreshCmd": "cat(var_dic_list()) "
    }
   },
   "types_to_exclude": [
    "module",
    "function",
    "builtin_function_or_method",
    "instance",
    "_Feature"
   ],
   "window_display": false
  }
 },
 "nbformat": 4,
 "nbformat_minor": 2
}
