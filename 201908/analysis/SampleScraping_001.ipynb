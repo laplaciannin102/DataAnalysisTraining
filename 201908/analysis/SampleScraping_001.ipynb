{
 "cells": [
  {
   "cell_type": "markdown",
   "metadata": {},
   "source": [
    "# Load modules"
   ]
  },
  {
   "cell_type": "markdown",
   "metadata": {},
   "source": [
    "ライブラリ読み込み"
   ]
  },
  {
   "cell_type": "code",
   "execution_count": null,
   "metadata": {
    "ExecuteTime": {
     "end_time": "2019-09-04T08:34:31.447105Z",
     "start_time": "2019-09-04T08:34:31.444097Z"
    }
   },
   "outputs": [],
   "source": [
    "from annnmods import *"
   ]
  },
  {
   "cell_type": "code",
   "execution_count": null,
   "metadata": {
    "ExecuteTime": {
     "end_time": "2019-09-04T08:34:31.536853Z",
     "start_time": "2019-09-04T08:34:31.449112Z"
    },
    "scrolled": true
   },
   "outputs": [],
   "source": [
    "print_usage()"
   ]
  },
  {
   "cell_type": "code",
   "execution_count": null,
   "metadata": {
    "ExecuteTime": {
     "end_time": "2019-09-04T08:34:31.544873Z",
     "start_time": "2019-09-04T08:34:31.539859Z"
    }
   },
   "outputs": [],
   "source": [
    "%matplotlib inline"
   ]
  },
  {
   "cell_type": "code",
   "execution_count": null,
   "metadata": {
    "ExecuteTime": {
     "end_time": "2019-09-04T08:34:31.601030Z",
     "start_time": "2019-09-04T08:34:31.547881Z"
    }
   },
   "outputs": [],
   "source": [
    "gc.collect()"
   ]
  },
  {
   "cell_type": "markdown",
   "metadata": {},
   "source": [
    "# Configuration"
   ]
  },
  {
   "cell_type": "markdown",
   "metadata": {},
   "source": [
    "## 左寄せにするマジックコマンド"
   ]
  },
  {
   "cell_type": "code",
   "execution_count": null,
   "metadata": {
    "ExecuteTime": {
     "end_time": "2019-09-04T08:34:31.611057Z",
     "start_time": "2019-09-04T08:34:31.605040Z"
    }
   },
   "outputs": [],
   "source": [
    "%%html\n",
    "<style>\n",
    "    table{float:left}\n",
    "    .MathJax{float: left;}\n",
    "</style>"
   ]
  },
  {
   "cell_type": "markdown",
   "metadata": {},
   "source": [
    "## データフレームの表示設定"
   ]
  },
  {
   "cell_type": "code",
   "execution_count": null,
   "metadata": {
    "ExecuteTime": {
     "end_time": "2019-09-04T08:34:31.620081Z",
     "start_time": "2019-09-04T08:34:31.614066Z"
    }
   },
   "outputs": [],
   "source": [
    "# データフレームの表示行数、表示列数\n",
    "pd.set_option('display.max_columns', 100)\n",
    "pd.set_option('display.max_rows', 200)\n",
    "\n",
    "# カラム内の文字数。デフォルトは50。\n",
    "pd.set_option(\"display.max_colwidth\", 100)"
   ]
  },
  {
   "cell_type": "markdown",
   "metadata": {},
   "source": [
    "## パスの設定"
   ]
  },
  {
   "cell_type": "code",
   "execution_count": null,
   "metadata": {
    "ExecuteTime": {
     "end_time": "2019-09-04T08:34:31.628102Z",
     "start_time": "2019-09-04T08:34:31.623088Z"
    }
   },
   "outputs": [],
   "source": [
    "# ファイルのパス\n",
    "path = os.getcwd()\n",
    "# 一応チェンジディレクトリしておく\n",
    "os.chdir(path)"
   ]
  },
  {
   "cell_type": "markdown",
   "metadata": {},
   "source": [
    "# Functions"
   ]
  },
  {
   "cell_type": "markdown",
   "metadata": {},
   "source": [
    "# スクレイピング"
   ]
  },
  {
   "cell_type": "markdown",
   "metadata": {},
   "source": [
    "## 参考:\n",
    "PythonとBeautiful Soupでスクレイピング  \n",
    "https://qiita.com/itkr/items/513318a9b5b92bd56185  \n",
    "  \n",
    "【初めてのデータサイエンス①】東京都内のラーメン店の傾向  \n",
    "https://qiita.com/cacco_intern/items/aaf0d06a967565812f21  \n",
    "  \n",
    "【Python】Googleの検索結果をアクセス制限なしで取得する  \n",
    "https://qiita.com/derodero24/items/949ac666b18d567e9b61  "
   ]
  },
  {
   "cell_type": "code",
   "execution_count": null,
   "metadata": {
    "ExecuteTime": {
     "end_time": "2019-09-04T08:34:31.668208Z",
     "start_time": "2019-09-04T08:34:31.663195Z"
    }
   },
   "outputs": [],
   "source": [
    "google = Google()"
   ]
  },
  {
   "cell_type": "code",
   "execution_count": null,
   "metadata": {
    "ExecuteTime": {
     "end_time": "2019-09-04T08:34:32.711621Z",
     "start_time": "2019-09-04T08:34:31.670213Z"
    }
   },
   "outputs": [],
   "source": [
    "# テキスト検索\n",
    "txt_result = google.Search('バスマナー　ブログ', type='text', maximum=10)\n",
    "txt_result"
   ]
  },
  {
   "cell_type": "code",
   "execution_count": null,
   "metadata": {
    "ExecuteTime": {
     "end_time": "2019-09-04T08:34:34.719870Z",
     "start_time": "2019-09-04T08:34:32.714629Z"
    }
   },
   "outputs": [],
   "source": [
    "time.sleep(2)"
   ]
  },
  {
   "cell_type": "raw",
   "metadata": {},
   "source": [
    "# テキスト検索\n",
    "img_result = google.Search('ポケモン', type='image', maximum=10)\n",
    "img_result"
   ]
  },
  {
   "cell_type": "code",
   "execution_count": null,
   "metadata": {
    "ExecuteTime": {
     "end_time": "2019-09-04T08:34:36.736368Z",
     "start_time": "2019-09-04T08:34:34.729375Z"
    }
   },
   "outputs": [],
   "source": [
    "time.sleep(2)"
   ]
  },
  {
   "cell_type": "raw",
   "metadata": {},
   "source": [
    "search_spla_list = google.Search('Splatoon', type='text', maximum=10)\n",
    "search_spla_list"
   ]
  },
  {
   "cell_type": "code",
   "execution_count": null,
   "metadata": {
    "ExecuteTime": {
     "end_time": "2019-09-04T08:34:36.741382Z",
     "start_time": "2019-09-04T08:34:36.738374Z"
    }
   },
   "outputs": [],
   "source": [
    "urls =[\n",
    "    'https://qiita.com/Azunyan1111/items/9b3d16428d2bcc7c9406',\n",
    "    'https://www.pokemon.jp/',\n",
    "    'https://www.pokemon.jp/info/pokecen/detail/20190830_16570.html'\n",
    "]"
   ]
  },
  {
   "cell_type": "raw",
   "metadata": {
    "scrolled": false
   },
   "source": [
    "dl_all_imgs(urls, dir_path='../output/')"
   ]
  },
  {
   "cell_type": "code",
   "execution_count": null,
   "metadata": {
    "ExecuteTime": {
     "end_time": "2019-09-04T08:34:36.761436Z",
     "start_time": "2019-09-04T08:34:36.744391Z"
    }
   },
   "outputs": [],
   "source": [
    "txt_result[0]"
   ]
  },
  {
   "cell_type": "code",
   "execution_count": null,
   "metadata": {
    "ExecuteTime": {
     "end_time": "2019-09-04T08:34:37.430965Z",
     "start_time": "2019-09-04T08:34:36.764445Z"
    }
   },
   "outputs": [],
   "source": [
    "sp = get_soup(txt_result[0])"
   ]
  },
  {
   "cell_type": "code",
   "execution_count": null,
   "metadata": {
    "ExecuteTime": {
     "end_time": "2019-09-04T08:54:48.837285Z",
     "start_time": "2019-09-04T08:54:37.418645Z"
    }
   },
   "outputs": [],
   "source": [
    "gs = google.Search('バスマナー　ブログ', type='text', maximum=3)\n",
    "\n",
    "for ii in gs:\n",
    "    sp = \"\"\n",
    "    try:\n",
    "        sp = get_soup(ii)\n",
    "    except:\n",
    "        print(\"error\", ii)\n",
    "        print()\n",
    "        continue\n",
    "    time.sleep(3)\n",
    "    print(ii)\n",
    "    print('■■', sp.title.string)\n",
    "    text = sp.body.get_text()\n",
    "    for jj in range(1000):\n",
    "        text = text.replace('\\n\\n', '\\n')\n",
    "    print(text)\n",
    "    print()"
   ]
  },
  {
   "cell_type": "markdown",
   "metadata": {},
   "source": [
    "# メモリ使用チェック"
   ]
  },
  {
   "cell_type": "code",
   "execution_count": null,
   "metadata": {
    "ExecuteTime": {
     "end_time": "2019-09-04T08:34:48.463078Z",
     "start_time": "2019-09-04T08:34:48.290577Z"
    }
   },
   "outputs": [],
   "source": [
    "mem_cols = ['Variable Name', 'Memory']\n",
    "memory_df = pd.DataFrame(columns=mem_cols)\n",
    "\n",
    "for var_name in dir():\n",
    "    if not var_name.startswith(\"_\"):\n",
    "        memory_df = memory_df.append(pd.DataFrame([[var_name, sys.getsizeof(eval(var_name))]], columns=mem_cols))\n",
    "\n",
    "memory_df = memory_df.sort_values(by='Memory', ascending=False).reset_index(drop=True)\n",
    "display(memory_df)"
   ]
  },
  {
   "cell_type": "code",
   "execution_count": null,
   "metadata": {},
   "outputs": [],
   "source": []
  },
  {
   "cell_type": "code",
   "execution_count": null,
   "metadata": {},
   "outputs": [],
   "source": []
  }
 ],
 "metadata": {
  "kernelspec": {
   "display_name": "Python 3",
   "language": "python",
   "name": "python3"
  },
  "language_info": {
   "codemirror_mode": {
    "name": "ipython",
    "version": 3
   },
   "file_extension": ".py",
   "mimetype": "text/x-python",
   "name": "python",
   "nbconvert_exporter": "python",
   "pygments_lexer": "ipython3",
   "version": "3.7.1"
  },
  "latex_envs": {
   "LaTeX_envs_menu_present": true,
   "autoclose": false,
   "autocomplete": true,
   "bibliofile": "biblio.bib",
   "cite_by": "apalike",
   "current_citInitial": 1,
   "eqLabelWithNumbers": true,
   "eqNumInitial": 1,
   "hotkeys": {
    "equation": "Ctrl-E",
    "itemize": "Ctrl-I"
   },
   "labels_anchors": false,
   "latex_user_defs": false,
   "report_style_numbering": false,
   "user_envs_cfg": false
  },
  "toc": {
   "base_numbering": 1,
   "nav_menu": {},
   "number_sections": true,
   "sideBar": true,
   "skip_h1_title": false,
   "title_cell": "Table of Contents",
   "title_sidebar": "Contents",
   "toc_cell": false,
   "toc_position": {
    "height": "calc(100% - 180px)",
    "left": "10px",
    "top": "150px",
    "width": "288px"
   },
   "toc_section_display": true,
   "toc_window_display": true
  },
  "varInspector": {
   "cols": {
    "lenName": 16,
    "lenType": 16,
    "lenVar": 40
   },
   "kernels_config": {
    "python": {
     "delete_cmd_postfix": "",
     "delete_cmd_prefix": "del ",
     "library": "var_list.py",
     "varRefreshCmd": "print(var_dic_list())"
    },
    "r": {
     "delete_cmd_postfix": ") ",
     "delete_cmd_prefix": "rm(",
     "library": "var_list.r",
     "varRefreshCmd": "cat(var_dic_list()) "
    }
   },
   "types_to_exclude": [
    "module",
    "function",
    "builtin_function_or_method",
    "instance",
    "_Feature"
   ],
   "window_display": false
  }
 },
 "nbformat": 4,
 "nbformat_minor": 2
}
